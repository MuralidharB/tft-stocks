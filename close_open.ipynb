{
  "nbformat": 4,
  "nbformat_minor": 0,
  "metadata": {
    "colab": {
      "provenance": [],
      "authorship_tag": "ABX9TyNnv0/H13qqVHKB+A/+BtII",
      "include_colab_link": true
    },
    "kernelspec": {
      "name": "python3",
      "display_name": "Python 3"
    },
    "language_info": {
      "name": "python"
    }
  },
  "cells": [
    {
      "cell_type": "markdown",
      "metadata": {
        "id": "view-in-github",
        "colab_type": "text"
      },
      "source": [
        "<a href=\"https://colab.research.google.com/github/MuralidharB/tft-stocks/blob/master/close_open.ipynb\" target=\"_parent\"><img src=\"https://colab.research.google.com/assets/colab-badge.svg\" alt=\"Open In Colab\"/></a>"
      ]
    },
    {
      "cell_type": "markdown",
      "source": [
        "Small python script that plots the difference between close and open prices of s&p stocks"
      ],
      "metadata": {
        "id": "Y4h-M7UK4B7m"
      }
    },
    {
      "cell_type": "code",
      "execution_count": null,
      "metadata": {
        "id": "awfvEoNa3_OE"
      },
      "outputs": [],
      "source": [
        "# Installation\n",
        "!pip install --upgrade mxnet==1.6.0\n",
        "!pip install gluonts\n",
        "!pip install yfinance\n",
        "!pip install datasets\n",
        "!pip install transformers\n",
        "!pip install accelerate\n",
        "!pip install torch\n",
        "!pip install evaluate\n",
        "!pip install torchviz\n",
        "!pip install jupyter-dash\n",
        "!pip install sns"
      ]
    },
    {
      "cell_type": "code",
      "source": [],
      "metadata": {
        "id": "G1c3aRo35r1-"
      },
      "execution_count": null,
      "outputs": []
    },
    {
      "cell_type": "code",
      "execution_count": null,
      "metadata": {
        "id": "ZtB77RObE0jz"
      },
      "outputs": [],
      "source": [
        "import yfinance as yahooFinance\n",
        "import tensorflow as tf\n",
        "import pandas as pd\n",
        "import sklearn\n",
        "import matplotlib.pyplot as plt\n",
        "import plotly.graph_objects as go\n",
        "from dash import Dash, dash_table\n",
        "import plotly.express as px\n",
        "import seaborn as sns\n",
        "import numpy as np\n",
        "\n",
        "stocks = [\"AAPL\", '^IXIC', '^GSPC', '^DJI','MSFT', 'GOOG', 'GOOGL', 'AMZN', 'UNH', 'XOM', 'JNJ', 'V', 'JPM', 'NVDA']\n",
        "stocks = ['AAPL', 'MSFT', 'GOOG', 'GOOGL', 'AMZN', 'UNH', 'XOM', 'JNJ', 'V', 'JPM', 'NVDA',\n",
        "          'WMT', 'TSLA', 'PG', 'META', 'MA', 'CVX', 'LLY', 'HD', 'ABBV', 'MRK', 'BAC', 'KO', \n",
        "          'PFE', 'PEP', 'AVGO', 'ORCL', 'TMO', 'COST', 'CSCO', 'ABT', 'MCD', 'NKE', 'DHR', \n",
        "          'TMUS', 'ACN', 'DIS', 'VZ', 'NEE', 'CMCSA', 'WFC', 'TXN', 'LIN', 'PM', 'UPS', 'ADBE', \n",
        "          'BMY', 'SCHW', 'MS', 'CRM', 'COP', 'RTX', 'AMGN', 'NFLX', 'HON', 'T', 'UNP', 'QCOM', \n",
        "          'IBM', 'DE', 'CAT', 'LOW', 'BA', 'SBUX', 'INTC', 'SPGI', 'LMT', 'GS', 'CVS', 'BLK', \n",
        "          'AXP', 'ELV', 'AMD', 'GILD', 'INTU', 'PLD', 'MDT', 'AMT', 'ADP', 'SYK', 'ISRG', \n",
        "          'TJX', 'EL', 'C', 'CB', 'CI', 'MDLZ', 'AMAT', 'PYPL', 'ADI', 'BKNG', 'MMC', 'MO', 'GE', \n",
        "          'DUK', 'SLB', 'SO', 'PGR', 'NOW', 'NOC', 'VRTX', 'EOG', 'REGN', 'ZTS', 'TGT', 'MRNA', 'BDX', \n",
        "          'MMM', 'HCA', 'USB', 'ITW', 'APD', 'CSX', 'GD', 'PNC', 'BSX', 'CL', 'WM', 'EQIX', 'FISV', 'FCX', \n",
        "          'CME', 'ETN', 'CCI', 'AON', 'SHW', 'LRCX', 'MU', 'TFC', 'HUM', 'ATVI', 'ICE', 'KLAC', 'NSC', \n",
        "          'CHTR', 'OXY', 'EMR', 'MET', 'PXD', 'MPC', 'MCO', 'MCK', 'DG', 'MNST', 'KHC', 'ORLY', \n",
        "          'D', 'VLO', 'SNPS', 'SRE', 'F', 'KDP', 'AEP', 'GIS', 'PSA', 'MAR', 'PSX', 'ROP', 'FDX', 'EW', \n",
        "          'ADM', 'APH', 'AIG', 'JCI', 'HSY', 'A', 'KMB', 'AZO', 'CTAS', 'CDNS', 'TRV', 'AFL', 'HES', 'CTVA', \n",
        "          'MSI', 'EXC', 'ECL', 'CNC', 'NXPI', 'DXCM', 'PAYX', 'NEM', 'KMI', 'ADSK', 'TT', 'MCHP', 'DVN', \n",
        "          'ROST', 'LVS', 'FIS', 'AJG', 'STZ', 'BIIB', 'SYY', 'CMG', 'O', 'RSG', 'IQV', 'PH', 'XEL', 'DOW', \n",
        "          'SPG', 'WMB', 'TEL', 'MSCI', 'IDXX', 'BK', 'NUE', 'LHX', 'FTNT', 'COF', 'ALL', 'HAL', 'PRU', 'CARR', \n",
        "          'DD', 'TDG', 'YUM', 'ANET', 'HLT', 'PCAR', 'CMI', 'ED', 'ABC', 'EA', 'AMP', 'OTIS', 'WELL', 'MTD', \n",
        "          'ODFL', 'SBAC', 'KR', 'AME', 'DLTR', 'VICI', 'DHI', 'ROK', 'WBA', 'KEYS', 'PEG', 'PCG', 'CSGP', \n",
        "          'CTSH', 'ENPH', 'RMD', 'OKE', 'WEC', 'BKR', 'NDAQ', 'WBD', 'ILMN', 'PPG', 'GLW', 'STT', 'LYB', \n",
        "          'ES', 'IFF', 'DLR', 'AWK', 'VRSK', 'DFS', 'HPQ', 'GWW', 'GPN', 'WTW', 'ON', 'FAST', 'LEN', 'CEG', \n",
        "          'APTV', 'TROW', 'URI', 'IT', 'ALB', 'CBRE', 'ZBH', 'EIX', 'MTB', 'CDW', 'ULTA', 'EFX', 'HRL', 'FANG', \n",
        "          'TSCO', 'EBAY', 'DAL', 'FE', 'VMC', 'HIG', 'ARE', 'K', 'RJF', 'GPC', 'TSN', 'FITB', 'WY', 'FTV', \n",
        "          'ACGL', 'DTE', 'BAX', 'AEE', 'IR', 'AVB', 'FRC', 'MKC', 'VRSN', 'PPL', 'EQR', 'ETR', 'HPE', 'LH', \n",
        "          'ANSS', 'LUV', 'PFG', 'MLM', 'HBAN', 'XYL', 'RF', 'CAH', 'WAT', 'CFG', 'STE', 'PWR', 'CHD', 'HOLX', \n",
        "          'CTRA', 'NTRS', 'VTR', 'EXR', 'DOV', 'CAG', 'CNP', 'WRB', 'TDY', 'GRMN', 'CMS', 'EPAM', 'STLD', 'BBY', \n",
        "          'WST', 'WAB', 'DRI', 'FSLR', 'INVH', 'MPWR', 'AES', 'JBHT', 'ALGN', 'AMCR', 'ROL', 'PAYC', 'MAA', 'IEX', \n",
        "          'INCY', 'TTWO', 'BALL', 'OMC', 'CLX', 'DGX', 'CINF', 'EXPD', 'MRO', 'MOH', 'KEY', 'COO', 'BRO', 'TRGP', \n",
        "          'SEDG', 'FOX', 'FOXA', 'PKI', 'SJM', 'HWM', 'CPB', 'LYV', 'BR', 'CF', 'FMC', 'J', 'ATO', 'ETSY', 'FDS', \n",
        "          'SWKS', 'UAL', 'ZBRA', 'NVR', 'AVY', 'MOS', 'SIVB', 'PTC', 'RCL', 'LKQ', 'MGM', 'SYF', 'TXT', 'TER', \n",
        "          'EVRG', 'CPRT', 'BEN', 'IRM', 'VTRS', 'EXPE', 'FLT', 'LW', 'GEN', 'PEAK', 'L', 'KIM', 'APA', 'IPG', \n",
        "          'ESS', 'NTAP', 'RE', 'NDSN', 'LNT', 'AKAM', 'LDOS', 'IP', 'TYL', 'TRMB', 'SNA', 'UDR', 'PARA', 'JKHY', \n",
        "          'CBOE', 'CE', 'BIO', 'POOL', 'MTCH', 'EQT', 'SWK', 'PKG', 'WDC', 'TFX', 'MKTX', 'CPT', 'DPZ', 'CRL', 'GL', \n",
        "          'STX', 'HST', 'VFC', 'MAS', 'NWS', 'NWSA', 'NI', 'PHM', 'CHRW', 'WYNN', 'HSIC', 'CCL', 'EMN', 'KMX', 'REG', \n",
        "          'BXP', 'UHS', 'BBWI', 'JNPR', 'TPR', 'BWA', 'AAL', 'ALLE', 'QRVO', 'CZR', 'CDAY', 'WRK', 'AOS', 'AAP', 'HII', \n",
        "          'HAS', 'IVZ', 'CMA', 'FFIV', 'CTLT', 'PNW', 'WHR', 'FRT', 'RHI', 'PNR', 'DISH', 'SEE', 'RL', 'ZION', 'OGN', \n",
        "          'NRG', 'XRAY', 'MHK', 'DVA', 'SBNY', 'GNRC', 'AIZ', 'DXC', 'NWL', 'ALK', 'NCLH', 'LUMN', 'LNC', 'VNO', 'TECH', \n",
        "          'TAP',] # '^IXIC', '^GSPC', '^DJI']\n",
        "\n",
        "stocks_ts = pd.DataFrame()\n",
        "stocks_spread = pd.DataFrame()\n",
        "latest = {}\n",
        "\n",
        "for stock in stocks:\n",
        "    data = yahooFinance.Ticker(stock).history(period=\"3y\")\n",
        "    d = data.copy()[['Open', 'Close']]\n",
        "    stocks_ts.insert(0, stock+\"_Open\", d['Open'])\n",
        "    stocks_ts.insert(0, stock+\"_Close\", d['Close'])\n",
        "    stocks_spread.insert(0, stock+\"_Diff\",  d['Close'] - d['Open'])\n",
        "    latest[stock+\"_Diff\"] = data.iloc[-1]['Close'] - data.iloc[-1]['Open']\n",
        "    \"\"\"\n",
        "    fig = go.Figure(data=[go.Candlestick(x=d.index,\n",
        "                open=d['Open'],\n",
        "                high=d['Open'],\n",
        "                low=d['Close'],\n",
        "                close=d['Close'])])\n",
        "    fig.update_layout(\n",
        "      title=stock,\n",
        "      yaxis_title=stock +' Stock',\n",
        "      shapes = [dict(\n",
        "          x0='2022-12-09', x1='2022-12-09', y0=0, y1=1, xref='x', yref='paper',\n",
        "          line_width=2)],\n",
        "      annotations=[dict(\n",
        "          x='2022-12-09', y=0.05, xref='x', yref='paper',\n",
        "          showarrow=False, xanchor='left', text='Increase Period Begins')]\n",
        "    )\n",
        "\n",
        "    fig.show()\n",
        "\n",
        "    stocks_ts['Date'] = stocks_ts.index\n",
        "    fig = px.line(stocks_ts, x=\"Date\", y=stock+\"_Diff\", title=stock + \" Price change\", markers=True) \n",
        "    fig.show()\n",
        "    \"\"\"\n",
        "    #x = pd.Series(stocks_ts[stock+\"_Diff\"])\n",
        "    #ax = x.plot.kde(figsize=(30,8))\n",
        "    #sns.set(rc={'figure.figsize':(25.7,8.27)})\n",
        "    #sns.lineplot(x=\"Date\",y=stock+\"_Diff\", data=stocks_ts, markers=True, err_style=\"bars\")\n",
        "    #sns.despine();"
      ]
    },
    {
      "cell_type": "code",
      "source": [
        "std = stocks_spread.describe().loc['std']\n",
        "fig = px.line(std, title=stock + \" Price change\", markers=True) \n",
        "fig.show()"
      ],
      "metadata": {
        "colab": {
          "base_uri": "https://localhost:8080/",
          "height": 542
        },
        "id": "KiCTrDH-A4XJ",
        "outputId": "eef985e4-32e1-4077-b98c-7c132e52f10a"
      },
      "execution_count": 6,
      "outputs": [
        {
          "output_type": "display_data",
          "data": {
            "text/html": [
              "<html>\n",
              "<head><meta charset=\"utf-8\" /></head>\n",
              "<body>\n",
              "    <div>            <script src=\"https://cdnjs.cloudflare.com/ajax/libs/mathjax/2.7.5/MathJax.js?config=TeX-AMS-MML_SVG\"></script><script type=\"text/javascript\">if (window.MathJax && window.MathJax.Hub && window.MathJax.Hub.Config) {window.MathJax.Hub.Config({SVG: {font: \"STIX-Web\"}});}</script>                <script type=\"text/javascript\">window.PlotlyConfig = {MathJaxConfig: 'local'};</script>\n",
              "        <script src=\"https://cdn.plot.ly/plotly-2.18.2.min.js\"></script>                <div id=\"08e3aa06-1bec-4605-8b00-ccf8a1cf3fd0\" class=\"plotly-graph-div\" style=\"height:525px; width:100%;\"></div>            <script type=\"text/javascript\">                                    window.PLOTLYENV=window.PLOTLYENV || {};                                    if (document.getElementById(\"08e3aa06-1bec-4605-8b00-ccf8a1cf3fd0\")) {                    Plotly.newPlot(                        \"08e3aa06-1bec-4605-8b00-ccf8a1cf3fd0\",                        [{\"hovertemplate\":\"variable=std<br>index=%{x}<br>value=%{y}<extra></extra>\",\"legendgroup\":\"std\",\"line\":{\"color\":\"#636efa\",\"dash\":\"solid\"},\"marker\":{\"symbol\":\"circle\"},\"mode\":\"lines+markers\",\"name\":\"std\",\"orientation\":\"v\",\"showlegend\":true,\"x\":[\"TAP_Diff\",\"TECH_Diff\",\"VNO_Diff\",\"LNC_Diff\",\"LUMN_Diff\",\"NCLH_Diff\",\"ALK_Diff\",\"NWL_Diff\",\"DXC_Diff\",\"AIZ_Diff\",\"GNRC_Diff\",\"SBNY_Diff\",\"DVA_Diff\",\"MHK_Diff\",\"XRAY_Diff\",\"NRG_Diff\",\"OGN_Diff\",\"ZION_Diff\",\"RL_Diff\",\"SEE_Diff\",\"DISH_Diff\",\"PNR_Diff\",\"RHI_Diff\",\"FRT_Diff\",\"WHR_Diff\",\"PNW_Diff\",\"CTLT_Diff\",\"FFIV_Diff\",\"CMA_Diff\",\"IVZ_Diff\",\"HAS_Diff\",\"HII_Diff\",\"AAP_Diff\",\"AOS_Diff\",\"WRK_Diff\",\"CDAY_Diff\",\"CZR_Diff\",\"QRVO_Diff\",\"ALLE_Diff\",\"AAL_Diff\",\"BWA_Diff\",\"TPR_Diff\",\"JNPR_Diff\",\"BBWI_Diff\",\"UHS_Diff\",\"BXP_Diff\",\"REG_Diff\",\"KMX_Diff\",\"EMN_Diff\",\"CCL_Diff\",\"HSIC_Diff\",\"WYNN_Diff\",\"CHRW_Diff\",\"PHM_Diff\",\"NI_Diff\",\"NWSA_Diff\",\"NWS_Diff\",\"MAS_Diff\",\"VFC_Diff\",\"HST_Diff\",\"STX_Diff\",\"GL_Diff\",\"CRL_Diff\",\"DPZ_Diff\",\"CPT_Diff\",\"MKTX_Diff\",\"TFX_Diff\",\"WDC_Diff\",\"PKG_Diff\",\"SWK_Diff\",\"EQT_Diff\",\"MTCH_Diff\",\"POOL_Diff\",\"BIO_Diff\",\"CE_Diff\",\"CBOE_Diff\",\"JKHY_Diff\",\"PARA_Diff\",\"UDR_Diff\",\"SNA_Diff\",\"TRMB_Diff\",\"TYL_Diff\",\"IP_Diff\",\"LDOS_Diff\",\"AKAM_Diff\",\"LNT_Diff\",\"NDSN_Diff\",\"RE_Diff\",\"NTAP_Diff\",\"ESS_Diff\",\"IPG_Diff\",\"APA_Diff\",\"KIM_Diff\",\"L_Diff\",\"PEAK_Diff\",\"GEN_Diff\",\"LW_Diff\",\"FLT_Diff\",\"EXPE_Diff\",\"VTRS_Diff\",\"IRM_Diff\",\"BEN_Diff\",\"CPRT_Diff\",\"EVRG_Diff\",\"TER_Diff\",\"TXT_Diff\",\"SYF_Diff\",\"MGM_Diff\",\"LKQ_Diff\",\"RCL_Diff\",\"PTC_Diff\",\"SIVB_Diff\",\"MOS_Diff\",\"AVY_Diff\",\"NVR_Diff\",\"ZBRA_Diff\",\"UAL_Diff\",\"SWKS_Diff\",\"FDS_Diff\",\"ETSY_Diff\",\"ATO_Diff\",\"J_Diff\",\"FMC_Diff\",\"CF_Diff\",\"BR_Diff\",\"LYV_Diff\",\"CPB_Diff\",\"HWM_Diff\",\"SJM_Diff\",\"PKI_Diff\",\"FOXA_Diff\",\"FOX_Diff\",\"SEDG_Diff\",\"TRGP_Diff\",\"BRO_Diff\",\"COO_Diff\",\"KEY_Diff\",\"MOH_Diff\",\"MRO_Diff\",\"EXPD_Diff\",\"CINF_Diff\",\"DGX_Diff\",\"CLX_Diff\",\"OMC_Diff\",\"BALL_Diff\",\"TTWO_Diff\",\"INCY_Diff\",\"IEX_Diff\",\"MAA_Diff\",\"PAYC_Diff\",\"ROL_Diff\",\"AMCR_Diff\",\"ALGN_Diff\",\"JBHT_Diff\",\"AES_Diff\",\"MPWR_Diff\",\"INVH_Diff\",\"FSLR_Diff\",\"DRI_Diff\",\"WAB_Diff\",\"WST_Diff\",\"BBY_Diff\",\"STLD_Diff\",\"EPAM_Diff\",\"CMS_Diff\",\"GRMN_Diff\",\"TDY_Diff\",\"WRB_Diff\",\"CNP_Diff\",\"CAG_Diff\",\"DOV_Diff\",\"EXR_Diff\",\"VTR_Diff\",\"NTRS_Diff\",\"CTRA_Diff\",\"HOLX_Diff\",\"CHD_Diff\",\"PWR_Diff\",\"STE_Diff\",\"CFG_Diff\",\"WAT_Diff\",\"CAH_Diff\",\"RF_Diff\",\"XYL_Diff\",\"HBAN_Diff\",\"MLM_Diff\",\"PFG_Diff\",\"LUV_Diff\",\"ANSS_Diff\",\"LH_Diff\",\"HPE_Diff\",\"ETR_Diff\",\"EQR_Diff\",\"PPL_Diff\",\"VRSN_Diff\",\"MKC_Diff\",\"FRC_Diff\",\"AVB_Diff\",\"IR_Diff\",\"AEE_Diff\",\"BAX_Diff\",\"DTE_Diff\",\"ACGL_Diff\",\"FTV_Diff\",\"WY_Diff\",\"FITB_Diff\",\"TSN_Diff\",\"GPC_Diff\",\"RJF_Diff\",\"K_Diff\",\"ARE_Diff\",\"HIG_Diff\",\"VMC_Diff\",\"FE_Diff\",\"DAL_Diff\",\"EBAY_Diff\",\"TSCO_Diff\",\"FANG_Diff\",\"HRL_Diff\",\"EFX_Diff\",\"ULTA_Diff\",\"CDW_Diff\",\"MTB_Diff\",\"EIX_Diff\",\"ZBH_Diff\",\"CBRE_Diff\",\"ALB_Diff\",\"IT_Diff\",\"URI_Diff\",\"TROW_Diff\",\"APTV_Diff\",\"CEG_Diff\",\"LEN_Diff\",\"FAST_Diff\",\"ON_Diff\",\"WTW_Diff\",\"GPN_Diff\",\"GWW_Diff\",\"HPQ_Diff\",\"DFS_Diff\",\"VRSK_Diff\",\"AWK_Diff\",\"DLR_Diff\",\"IFF_Diff\",\"ES_Diff\",\"LYB_Diff\",\"STT_Diff\",\"GLW_Diff\",\"PPG_Diff\",\"ILMN_Diff\",\"WBD_Diff\",\"NDAQ_Diff\",\"BKR_Diff\",\"WEC_Diff\",\"OKE_Diff\",\"RMD_Diff\",\"ENPH_Diff\",\"CTSH_Diff\",\"CSGP_Diff\",\"PCG_Diff\",\"PEG_Diff\",\"KEYS_Diff\",\"WBA_Diff\",\"ROK_Diff\",\"DHI_Diff\",\"VICI_Diff\",\"DLTR_Diff\",\"AME_Diff\",\"KR_Diff\",\"SBAC_Diff\",\"ODFL_Diff\",\"MTD_Diff\",\"WELL_Diff\",\"OTIS_Diff\",\"AMP_Diff\",\"EA_Diff\",\"ABC_Diff\",\"ED_Diff\",\"CMI_Diff\",\"PCAR_Diff\",\"HLT_Diff\",\"ANET_Diff\",\"YUM_Diff\",\"TDG_Diff\",\"DD_Diff\",\"CARR_Diff\",\"PRU_Diff\",\"HAL_Diff\",\"ALL_Diff\",\"COF_Diff\",\"FTNT_Diff\",\"LHX_Diff\",\"NUE_Diff\",\"BK_Diff\",\"IDXX_Diff\",\"MSCI_Diff\",\"TEL_Diff\",\"WMB_Diff\",\"SPG_Diff\",\"DOW_Diff\",\"XEL_Diff\",\"PH_Diff\",\"IQV_Diff\",\"RSG_Diff\",\"O_Diff\",\"CMG_Diff\",\"SYY_Diff\",\"BIIB_Diff\",\"STZ_Diff\",\"AJG_Diff\",\"FIS_Diff\",\"LVS_Diff\",\"ROST_Diff\",\"DVN_Diff\",\"MCHP_Diff\",\"TT_Diff\",\"ADSK_Diff\",\"KMI_Diff\",\"NEM_Diff\",\"PAYX_Diff\",\"DXCM_Diff\",\"NXPI_Diff\",\"CNC_Diff\",\"ECL_Diff\",\"EXC_Diff\",\"MSI_Diff\",\"CTVA_Diff\",\"HES_Diff\",\"AFL_Diff\",\"TRV_Diff\",\"CDNS_Diff\",\"CTAS_Diff\",\"AZO_Diff\",\"KMB_Diff\",\"A_Diff\",\"HSY_Diff\",\"JCI_Diff\",\"AIG_Diff\",\"APH_Diff\",\"ADM_Diff\",\"EW_Diff\",\"FDX_Diff\",\"ROP_Diff\",\"PSX_Diff\",\"MAR_Diff\",\"PSA_Diff\",\"GIS_Diff\",\"AEP_Diff\",\"KDP_Diff\",\"F_Diff\",\"SRE_Diff\",\"SNPS_Diff\",\"VLO_Diff\",\"D_Diff\",\"ORLY_Diff\",\"KHC_Diff\",\"MNST_Diff\",\"DG_Diff\",\"MCK_Diff\",\"MCO_Diff\",\"MPC_Diff\",\"PXD_Diff\",\"MET_Diff\",\"EMR_Diff\",\"OXY_Diff\",\"CHTR_Diff\",\"NSC_Diff\",\"KLAC_Diff\",\"ICE_Diff\",\"ATVI_Diff\",\"HUM_Diff\",\"TFC_Diff\",\"MU_Diff\",\"LRCX_Diff\",\"SHW_Diff\",\"AON_Diff\",\"CCI_Diff\",\"ETN_Diff\",\"CME_Diff\",\"FCX_Diff\",\"FISV_Diff\",\"EQIX_Diff\",\"WM_Diff\",\"CL_Diff\",\"BSX_Diff\",\"PNC_Diff\",\"GD_Diff\",\"CSX_Diff\",\"APD_Diff\",\"ITW_Diff\",\"USB_Diff\",\"HCA_Diff\",\"MMM_Diff\",\"BDX_Diff\",\"MRNA_Diff\",\"TGT_Diff\",\"ZTS_Diff\",\"REGN_Diff\",\"EOG_Diff\",\"VRTX_Diff\",\"NOC_Diff\",\"NOW_Diff\",\"PGR_Diff\",\"SO_Diff\",\"SLB_Diff\",\"DUK_Diff\",\"GE_Diff\",\"MO_Diff\",\"MMC_Diff\",\"BKNG_Diff\",\"ADI_Diff\",\"PYPL_Diff\",\"AMAT_Diff\",\"MDLZ_Diff\",\"CI_Diff\",\"CB_Diff\",\"C_Diff\",\"EL_Diff\",\"TJX_Diff\",\"ISRG_Diff\",\"SYK_Diff\",\"ADP_Diff\",\"AMT_Diff\",\"MDT_Diff\",\"PLD_Diff\",\"INTU_Diff\",\"GILD_Diff\",\"AMD_Diff\",\"ELV_Diff\",\"AXP_Diff\",\"BLK_Diff\",\"CVS_Diff\",\"GS_Diff\",\"LMT_Diff\",\"SPGI_Diff\",\"INTC_Diff\",\"SBUX_Diff\",\"BA_Diff\",\"LOW_Diff\",\"CAT_Diff\",\"DE_Diff\",\"IBM_Diff\",\"QCOM_Diff\",\"UNP_Diff\",\"T_Diff\",\"HON_Diff\",\"NFLX_Diff\",\"AMGN_Diff\",\"RTX_Diff\",\"COP_Diff\",\"CRM_Diff\",\"MS_Diff\",\"SCHW_Diff\",\"BMY_Diff\",\"ADBE_Diff\",\"UPS_Diff\",\"PM_Diff\",\"LIN_Diff\",\"TXN_Diff\",\"WFC_Diff\",\"CMCSA_Diff\",\"NEE_Diff\",\"VZ_Diff\",\"DIS_Diff\",\"ACN_Diff\",\"TMUS_Diff\",\"DHR_Diff\",\"NKE_Diff\",\"MCD_Diff\",\"ABT_Diff\",\"CSCO_Diff\",\"COST_Diff\",\"TMO_Diff\",\"ORCL_Diff\",\"AVGO_Diff\",\"PEP_Diff\",\"PFE_Diff\",\"KO_Diff\",\"BAC_Diff\",\"MRK_Diff\",\"ABBV_Diff\",\"HD_Diff\",\"LLY_Diff\",\"CVX_Diff\",\"MA_Diff\",\"META_Diff\",\"PG_Diff\",\"TSLA_Diff\",\"WMT_Diff\",\"NVDA_Diff\",\"JPM_Diff\",\"V_Diff\",\"JNJ_Diff\",\"XOM_Diff\",\"UNH_Diff\",\"AMZN_Diff\",\"GOOGL_Diff\",\"GOOG_Diff\",\"MSFT_Diff\",\"AAPL_Diff\"],\"xaxis\":\"x\",\"y\":[0.7984773723597484,1.829882188169755,0.7306321530008824,1.1554609693438187,0.22721009373984905,0.7236429201019616,1.1518483648759035,0.3781492817538155,0.7138867403977054,2.081824856222017,7.321582372974711,5.38021597088293,1.7727420582303337,3.142410133207305,0.8333580567362132,0.6461447210612773,0.6422362140411276,1.0692036539064964,2.2079702940549946,0.8260181293825031,0.7564201300244263,0.8825281526311238,1.4319269656918296,1.672682570836109,3.297221432996951,1.0294754784035114,2.0491231859080226,2.762639068685777,1.3482346761097488,0.38126518768929285,1.357635728631898,2.9834026678943473,2.94622545020242,0.9542946423743487,0.8054555418949704,2.004698642079353,2.142079440986787,2.897654332175281,1.7587377289668595,0.5238213218117789,0.7583313473650828,0.7279352506129566,0.4017126865406237,1.1056770606843966,2.3273956372906484,1.656415256607797,0.9672137503436211,2.2165315363949714,1.5445101304774862,0.6358419807597006,1.1552187412504291,2.2697701130044674,1.417706315697066,0.953900145853269,0.35761286206991233,0.3447912115168065,0.342904444597691,0.8529607278316056,1.109521853499306,0.3368530217647968,1.5009767977420967,1.3977766391611155,5.319340217749874,6.810474292550243,1.797310195077846,9.365859100354479,5.686066375590646,1.2173069886748755,1.8600136575651658,2.4857385523693325,0.8451959030901685,2.9600681609247856,7.6947853237025265,10.74728090491211,2.1892884111354913,1.936184938195518,2.636444183173898,1.2465986712633355,0.6844748884899315,2.896757546698681,1.2408290276645462,7.6053833269458515,0.622761736309071,1.4567243803862895,1.5179554158260926,0.744074525126634,3.118887209289579,4.242693585009478,1.1674452823115864,4.214187071924704,0.4638796250929017,0.8747431728648746,0.34540531629964777,0.7045183144842805,0.456244838993415,0.41185390258934357,1.1589245782855464,4.352756116774717,3.2478501775166566,0.27540368571315815,0.7098513524806994,0.5021140931501619,0.9663963487603506,0.8487343652817386,2.4998869088353355,1.0320015378728304,0.7518100344069553,0.8617231630477068,0.7580974236379298,2.053078776387785,2.165862289150619,11.46858522777673,1.1021738020252665,2.556668417295307,80.91633587904957,7.449793701650788,1.256137845072898,2.7778745482265967,5.560020055960797,5.424615467118625,1.3802239266032408,1.7892299300745598,1.6504318253915171,1.7338518861041912,1.9914743404064599,2.095978156163352,0.6374601155523576,0.6029336712986129,1.6196603718530327,2.62318026094246,0.6516139913590873,0.5960126139417571,9.277789708779082,1.067687871171569,0.823210388740792,5.406923986558491,0.34457891314062256,5.010587978591462,0.4695892519324643,1.5724805163040183,1.736400047535281,1.8578524293416814,2.2994515930992643,1.0575127695625708,1.24953258181387,2.8379132220867818,1.4765813328860256,2.6670680748345856,2.280649438061443,8.421194735082278,0.5725107418044212,0.14007089212382498,10.53821708379865,2.8503554596584593,0.394651421749918,10.407206478119951,0.496950797085745,2.717589320542315,2.2310181910576645,1.3563986767602425,5.745111589009136,1.7591600856139702,1.6652072809308132,11.14746617887419,0.7943483611019185,1.633357151929959,5.966552332437078,0.7596244930062301,0.35623598161361064,0.4331509277127852,1.8090664816659554,2.5467414231105865,0.8609994905141557,1.6353442932789528,0.49184721790105973,1.1350976176397043,1.0707748795703373,1.9850191498429954,3.0284409196063655,0.7485637655658928,4.773973492144415,0.8803070756640341,0.4023846283221447,1.3913160400194942,0.2493280618346358,5.528277216632049,1.0357964840320983,0.8828709284921864,5.872190576331437,3.4714409048173405,0.22824138177720243,1.472660136685612,1.0373776757564448,0.35231796289717976,2.985587876016439,1.1348593868497685,2.8410087942660094,2.7709722539380155,0.7804563638848627,1.0744137932513493,1.0351390775396634,1.3779412536269449,0.7071968327625011,0.8993666193858019,0.5318621422343847,0.6463696563587559,0.9590889085658356,1.7392547991539384,1.504730574109119,0.7580042625507326,2.3503247807748777,0.9584548187672958,2.733080725961646,0.5804995511457631,0.8398428344371651,1.024008961739695,3.118854900085951,2.4203503263456447,0.5585885855642466,3.4961321203545905,6.519740805719852,2.5242535195672335,2.7117361635988178,0.8719577097138071,2.017482661779031,1.3213485899252209,5.278644749476364,4.511384063416219,6.216523009969976,2.4505393627794065,2.4208042700474803,1.6139788325044546,1.8721274327570814,0.7099412028250072,1.4070485266837551,3.2904735075214115,2.8857372653692996,6.712408155223994,0.4995573001350944,1.8628517508496394,2.4785075332487096,2.1355329497078532,2.1725956555223824,1.980714860354682,1.1648688175853756,1.4600996783647526,1.4286856048557273,0.5006326606111875,1.9871760295883893,7.4516231553354935,1.0367341922243916,0.7418092845223199,0.5459783859634477,1.232421615574041,0.91119568232809,3.2993028707448726,6.811480643215127,1.008002600355563,1.50584996166529,0.2494229126343216,0.7700508771075136,2.3274852961543147,0.7057002973855799,3.7121945171108726,1.665653448792389,0.4224135588050986,2.150707126915946,1.5197683951176106,0.6983260353667639,5.357534196509548,4.93542562092382,20.878012713668994,1.2168730080337335,1.0354413597582628,4.026041864614619,1.92896427496347,1.759827903339901,1.0322738542104306,3.1949621416938943,0.8109438962087051,2.2852131816664887,2.0577296780733687,1.3557145930613228,10.704036459673386,1.064406021089299,0.7024384058700461,1.3590136606879293,0.6634376509675237,1.6724587561244506,2.2725788024627422,1.273956557855494,3.1520498892974493,2.554091334907024,0.685561446447442,9.18441997312444,8.60764606551123,1.8153250625848396,0.38888599162887166,1.953810809486822,0.8307076569938453,0.8923298616700093,4.302580280783611,3.4162999023813687,1.3784488408803066,0.7972330204841361,25.75237533106588,1.2502398071025913,7.045087073195892,2.9092541340758844,1.971904135356947,1.8787379968826479,1.043741834212689,1.9088119766443519,1.0940153882411783,1.3989903616749086,2.256816951053485,4.898537408088595,0.22870710649006512,1.0500042307114306,1.446453118673531,2.5608523013974516,3.5773293611106523,1.355733847281771,2.7250758408813165,0.49586041803445136,2.9867871193509807,0.7562355668110173,2.0587751690858993,0.7227032194089829,2.001606081313712,2.7538578795456012,5.379614540713993,26.300590349342674,1.4060966810166393,1.8959861952899553,2.0959447527536628,0.7992412639915594,0.8551863280091294,0.9147555035155027,1.0400421030681624,1.5979882163593808,3.51694481362926,5.677517479986688,1.6797094390134766,2.7576645953185133,4.043630296948148,0.7738966114663108,1.177965013639427,0.3955397428311816,0.2773735383068764,1.8984676754820304,5.333351002827069,2.084333467440415,0.9475146109073812,8.541559398727918,0.4657324298998135,1.1961765404719051,2.8981933121110286,3.520140218387601,4.7345222876907025,1.4993137185468777,3.5342427832539545,0.8193620971540865,1.1242001384255047,1.1939917573871563,9.073441789364214,3.4538914012007176,7.265507340443647,1.4521129452449788,1.0746336723255168,6.892608768674888,0.8627531644460126,1.5444020145062438,11.871861473554093,3.6962148708870655,3.70698831887937,2.492696373421303,1.8794454032414114,2.7305791310442404,0.7745461262568122,1.6730656456916548,11.954064624532991,1.5931506541507725,0.7713448586039764,0.5734583543767432,2.539165037141616,2.41531847907726,0.42962878350800393,3.560966149369196,2.485065214863903,0.7606193315088488,3.4996435769050627,1.94822574436085,3.1954993661040167,8.247463184218292,2.839814117249105,2.416538386625057,10.38873822292038,1.9462206746025017,4.465128056545561,6.1398045396391785,11.393436039987153,1.554139660229594,0.801815404532398,0.8248654229494058,1.1297147185965841,1.2778314001156794,0.5438615123354069,1.7647172953354295,40.37813467619524,2.399023589668959,3.646221573932075,2.6056725049342195,0.6364391302451468,3.674824279575046,2.4000423206153036,0.9092430666079282,4.340831015997062,1.0242886631144212,4.590284689253889,3.48179079591654,2.7413530371887194,3.882621765019147,1.279339680156541,1.9003307213130403,8.633830670210772,0.8616780391627955,2.6796206779387077,6.2031145457696155,2.4070006181862764,10.257384294923353,1.0810382138639554,4.4563443594110215,5.032211799155237,5.302898524772039,0.8022566291012957,1.277456201532169,4.513079520005474,2.9229976670131155,2.931601764266905,5.517522298219135,1.4476241581581277,2.680676861166685,2.642460707475188,0.22895276492303,2.424686842746409,9.194803204280609,2.957472611743906,1.2202815450728957,1.5863077107513872,3.958540023218567,1.1695312938968327,1.2406064000290993,0.7380237766093848,8.407483700596474,2.326155607469796,1.0604909597275058,3.532818551113482,2.415373085330495,0.7221688090787718,0.6571038273258241,1.08590968822657,0.48644143488549707,2.1202926734720338,4.009992833015787,1.7306934228794806,3.763338941981883,1.8217296023258225,2.4350323554191493,1.4063601592087045,0.5941723635313284,6.016815419202045,7.5475443410958425,1.0288652391801179,7.876225992261747,1.5637085991037782,0.6134958913864047,0.5778746666427138,0.5274718482896528,0.9531188372721268,1.4450782541535234,4.168854673047642,3.676004524491785,1.8982560876039631,5.260047822887476,4.650209453133182,1.4462340815785133,7.9278935246601545,1.5578563053438517,5.330437894800452,1.7296731277425053,2.8395164461780493,1.5113508457429183,1.1895235100479609,5.748597793033638,2.5904471447055215,1.704355335731361,1.7073398133397,3.7881228743598028,2.2792117335472866],\"yaxis\":\"y\",\"type\":\"scatter\"}],                        {\"template\":{\"data\":{\"histogram2dcontour\":[{\"type\":\"histogram2dcontour\",\"colorbar\":{\"outlinewidth\":0,\"ticks\":\"\"},\"colorscale\":[[0.0,\"#0d0887\"],[0.1111111111111111,\"#46039f\"],[0.2222222222222222,\"#7201a8\"],[0.3333333333333333,\"#9c179e\"],[0.4444444444444444,\"#bd3786\"],[0.5555555555555556,\"#d8576b\"],[0.6666666666666666,\"#ed7953\"],[0.7777777777777778,\"#fb9f3a\"],[0.8888888888888888,\"#fdca26\"],[1.0,\"#f0f921\"]]}],\"choropleth\":[{\"type\":\"choropleth\",\"colorbar\":{\"outlinewidth\":0,\"ticks\":\"\"}}],\"histogram2d\":[{\"type\":\"histogram2d\",\"colorbar\":{\"outlinewidth\":0,\"ticks\":\"\"},\"colorscale\":[[0.0,\"#0d0887\"],[0.1111111111111111,\"#46039f\"],[0.2222222222222222,\"#7201a8\"],[0.3333333333333333,\"#9c179e\"],[0.4444444444444444,\"#bd3786\"],[0.5555555555555556,\"#d8576b\"],[0.6666666666666666,\"#ed7953\"],[0.7777777777777778,\"#fb9f3a\"],[0.8888888888888888,\"#fdca26\"],[1.0,\"#f0f921\"]]}],\"heatmap\":[{\"type\":\"heatmap\",\"colorbar\":{\"outlinewidth\":0,\"ticks\":\"\"},\"colorscale\":[[0.0,\"#0d0887\"],[0.1111111111111111,\"#46039f\"],[0.2222222222222222,\"#7201a8\"],[0.3333333333333333,\"#9c179e\"],[0.4444444444444444,\"#bd3786\"],[0.5555555555555556,\"#d8576b\"],[0.6666666666666666,\"#ed7953\"],[0.7777777777777778,\"#fb9f3a\"],[0.8888888888888888,\"#fdca26\"],[1.0,\"#f0f921\"]]}],\"heatmapgl\":[{\"type\":\"heatmapgl\",\"colorbar\":{\"outlinewidth\":0,\"ticks\":\"\"},\"colorscale\":[[0.0,\"#0d0887\"],[0.1111111111111111,\"#46039f\"],[0.2222222222222222,\"#7201a8\"],[0.3333333333333333,\"#9c179e\"],[0.4444444444444444,\"#bd3786\"],[0.5555555555555556,\"#d8576b\"],[0.6666666666666666,\"#ed7953\"],[0.7777777777777778,\"#fb9f3a\"],[0.8888888888888888,\"#fdca26\"],[1.0,\"#f0f921\"]]}],\"contourcarpet\":[{\"type\":\"contourcarpet\",\"colorbar\":{\"outlinewidth\":0,\"ticks\":\"\"}}],\"contour\":[{\"type\":\"contour\",\"colorbar\":{\"outlinewidth\":0,\"ticks\":\"\"},\"colorscale\":[[0.0,\"#0d0887\"],[0.1111111111111111,\"#46039f\"],[0.2222222222222222,\"#7201a8\"],[0.3333333333333333,\"#9c179e\"],[0.4444444444444444,\"#bd3786\"],[0.5555555555555556,\"#d8576b\"],[0.6666666666666666,\"#ed7953\"],[0.7777777777777778,\"#fb9f3a\"],[0.8888888888888888,\"#fdca26\"],[1.0,\"#f0f921\"]]}],\"surface\":[{\"type\":\"surface\",\"colorbar\":{\"outlinewidth\":0,\"ticks\":\"\"},\"colorscale\":[[0.0,\"#0d0887\"],[0.1111111111111111,\"#46039f\"],[0.2222222222222222,\"#7201a8\"],[0.3333333333333333,\"#9c179e\"],[0.4444444444444444,\"#bd3786\"],[0.5555555555555556,\"#d8576b\"],[0.6666666666666666,\"#ed7953\"],[0.7777777777777778,\"#fb9f3a\"],[0.8888888888888888,\"#fdca26\"],[1.0,\"#f0f921\"]]}],\"mesh3d\":[{\"type\":\"mesh3d\",\"colorbar\":{\"outlinewidth\":0,\"ticks\":\"\"}}],\"scatter\":[{\"fillpattern\":{\"fillmode\":\"overlay\",\"size\":10,\"solidity\":0.2},\"type\":\"scatter\"}],\"parcoords\":[{\"type\":\"parcoords\",\"line\":{\"colorbar\":{\"outlinewidth\":0,\"ticks\":\"\"}}}],\"scatterpolargl\":[{\"type\":\"scatterpolargl\",\"marker\":{\"colorbar\":{\"outlinewidth\":0,\"ticks\":\"\"}}}],\"bar\":[{\"error_x\":{\"color\":\"#2a3f5f\"},\"error_y\":{\"color\":\"#2a3f5f\"},\"marker\":{\"line\":{\"color\":\"#E5ECF6\",\"width\":0.5},\"pattern\":{\"fillmode\":\"overlay\",\"size\":10,\"solidity\":0.2}},\"type\":\"bar\"}],\"scattergeo\":[{\"type\":\"scattergeo\",\"marker\":{\"colorbar\":{\"outlinewidth\":0,\"ticks\":\"\"}}}],\"scatterpolar\":[{\"type\":\"scatterpolar\",\"marker\":{\"colorbar\":{\"outlinewidth\":0,\"ticks\":\"\"}}}],\"histogram\":[{\"marker\":{\"pattern\":{\"fillmode\":\"overlay\",\"size\":10,\"solidity\":0.2}},\"type\":\"histogram\"}],\"scattergl\":[{\"type\":\"scattergl\",\"marker\":{\"colorbar\":{\"outlinewidth\":0,\"ticks\":\"\"}}}],\"scatter3d\":[{\"type\":\"scatter3d\",\"line\":{\"colorbar\":{\"outlinewidth\":0,\"ticks\":\"\"}},\"marker\":{\"colorbar\":{\"outlinewidth\":0,\"ticks\":\"\"}}}],\"scattermapbox\":[{\"type\":\"scattermapbox\",\"marker\":{\"colorbar\":{\"outlinewidth\":0,\"ticks\":\"\"}}}],\"scatterternary\":[{\"type\":\"scatterternary\",\"marker\":{\"colorbar\":{\"outlinewidth\":0,\"ticks\":\"\"}}}],\"scattercarpet\":[{\"type\":\"scattercarpet\",\"marker\":{\"colorbar\":{\"outlinewidth\":0,\"ticks\":\"\"}}}],\"carpet\":[{\"aaxis\":{\"endlinecolor\":\"#2a3f5f\",\"gridcolor\":\"white\",\"linecolor\":\"white\",\"minorgridcolor\":\"white\",\"startlinecolor\":\"#2a3f5f\"},\"baxis\":{\"endlinecolor\":\"#2a3f5f\",\"gridcolor\":\"white\",\"linecolor\":\"white\",\"minorgridcolor\":\"white\",\"startlinecolor\":\"#2a3f5f\"},\"type\":\"carpet\"}],\"table\":[{\"cells\":{\"fill\":{\"color\":\"#EBF0F8\"},\"line\":{\"color\":\"white\"}},\"header\":{\"fill\":{\"color\":\"#C8D4E3\"},\"line\":{\"color\":\"white\"}},\"type\":\"table\"}],\"barpolar\":[{\"marker\":{\"line\":{\"color\":\"#E5ECF6\",\"width\":0.5},\"pattern\":{\"fillmode\":\"overlay\",\"size\":10,\"solidity\":0.2}},\"type\":\"barpolar\"}],\"pie\":[{\"automargin\":true,\"type\":\"pie\"}]},\"layout\":{\"autotypenumbers\":\"strict\",\"colorway\":[\"#636efa\",\"#EF553B\",\"#00cc96\",\"#ab63fa\",\"#FFA15A\",\"#19d3f3\",\"#FF6692\",\"#B6E880\",\"#FF97FF\",\"#FECB52\"],\"font\":{\"color\":\"#2a3f5f\"},\"hovermode\":\"closest\",\"hoverlabel\":{\"align\":\"left\"},\"paper_bgcolor\":\"white\",\"plot_bgcolor\":\"#E5ECF6\",\"polar\":{\"bgcolor\":\"#E5ECF6\",\"angularaxis\":{\"gridcolor\":\"white\",\"linecolor\":\"white\",\"ticks\":\"\"},\"radialaxis\":{\"gridcolor\":\"white\",\"linecolor\":\"white\",\"ticks\":\"\"}},\"ternary\":{\"bgcolor\":\"#E5ECF6\",\"aaxis\":{\"gridcolor\":\"white\",\"linecolor\":\"white\",\"ticks\":\"\"},\"baxis\":{\"gridcolor\":\"white\",\"linecolor\":\"white\",\"ticks\":\"\"},\"caxis\":{\"gridcolor\":\"white\",\"linecolor\":\"white\",\"ticks\":\"\"}},\"coloraxis\":{\"colorbar\":{\"outlinewidth\":0,\"ticks\":\"\"}},\"colorscale\":{\"sequential\":[[0.0,\"#0d0887\"],[0.1111111111111111,\"#46039f\"],[0.2222222222222222,\"#7201a8\"],[0.3333333333333333,\"#9c179e\"],[0.4444444444444444,\"#bd3786\"],[0.5555555555555556,\"#d8576b\"],[0.6666666666666666,\"#ed7953\"],[0.7777777777777778,\"#fb9f3a\"],[0.8888888888888888,\"#fdca26\"],[1.0,\"#f0f921\"]],\"sequentialminus\":[[0.0,\"#0d0887\"],[0.1111111111111111,\"#46039f\"],[0.2222222222222222,\"#7201a8\"],[0.3333333333333333,\"#9c179e\"],[0.4444444444444444,\"#bd3786\"],[0.5555555555555556,\"#d8576b\"],[0.6666666666666666,\"#ed7953\"],[0.7777777777777778,\"#fb9f3a\"],[0.8888888888888888,\"#fdca26\"],[1.0,\"#f0f921\"]],\"diverging\":[[0,\"#8e0152\"],[0.1,\"#c51b7d\"],[0.2,\"#de77ae\"],[0.3,\"#f1b6da\"],[0.4,\"#fde0ef\"],[0.5,\"#f7f7f7\"],[0.6,\"#e6f5d0\"],[0.7,\"#b8e186\"],[0.8,\"#7fbc41\"],[0.9,\"#4d9221\"],[1,\"#276419\"]]},\"xaxis\":{\"gridcolor\":\"white\",\"linecolor\":\"white\",\"ticks\":\"\",\"title\":{\"standoff\":15},\"zerolinecolor\":\"white\",\"automargin\":true,\"zerolinewidth\":2},\"yaxis\":{\"gridcolor\":\"white\",\"linecolor\":\"white\",\"ticks\":\"\",\"title\":{\"standoff\":15},\"zerolinecolor\":\"white\",\"automargin\":true,\"zerolinewidth\":2},\"scene\":{\"xaxis\":{\"backgroundcolor\":\"#E5ECF6\",\"gridcolor\":\"white\",\"linecolor\":\"white\",\"showbackground\":true,\"ticks\":\"\",\"zerolinecolor\":\"white\",\"gridwidth\":2},\"yaxis\":{\"backgroundcolor\":\"#E5ECF6\",\"gridcolor\":\"white\",\"linecolor\":\"white\",\"showbackground\":true,\"ticks\":\"\",\"zerolinecolor\":\"white\",\"gridwidth\":2},\"zaxis\":{\"backgroundcolor\":\"#E5ECF6\",\"gridcolor\":\"white\",\"linecolor\":\"white\",\"showbackground\":true,\"ticks\":\"\",\"zerolinecolor\":\"white\",\"gridwidth\":2}},\"shapedefaults\":{\"line\":{\"color\":\"#2a3f5f\"}},\"annotationdefaults\":{\"arrowcolor\":\"#2a3f5f\",\"arrowhead\":0,\"arrowwidth\":1},\"geo\":{\"bgcolor\":\"white\",\"landcolor\":\"#E5ECF6\",\"subunitcolor\":\"white\",\"showland\":true,\"showlakes\":true,\"lakecolor\":\"white\"},\"title\":{\"x\":0.05},\"mapbox\":{\"style\":\"light\"}}},\"xaxis\":{\"anchor\":\"y\",\"domain\":[0.0,1.0],\"title\":{\"text\":\"index\"}},\"yaxis\":{\"anchor\":\"x\",\"domain\":[0.0,1.0],\"title\":{\"text\":\"value\"}},\"legend\":{\"title\":{\"text\":\"variable\"},\"tracegroupgap\":0},\"title\":{\"text\":\"TAP Price change\"}},                        {\"responsive\": true}                    ).then(function(){\n",
              "                            \n",
              "var gd = document.getElementById('08e3aa06-1bec-4605-8b00-ccf8a1cf3fd0');\n",
              "var x = new MutationObserver(function (mutations, observer) {{\n",
              "        var display = window.getComputedStyle(gd).display;\n",
              "        if (!display || display === 'none') {{\n",
              "            console.log([gd, 'removed!']);\n",
              "            Plotly.purge(gd);\n",
              "            observer.disconnect();\n",
              "        }}\n",
              "}});\n",
              "\n",
              "// Listen for the removal of the full notebook cells\n",
              "var notebookContainer = gd.closest('#notebook-container');\n",
              "if (notebookContainer) {{\n",
              "    x.observe(notebookContainer, {childList: true});\n",
              "}}\n",
              "\n",
              "// Listen for the clearing of the current output cell\n",
              "var outputEl = gd.closest('.output');\n",
              "if (outputEl) {{\n",
              "    x.observe(outputEl, {childList: true});\n",
              "}}\n",
              "\n",
              "                        })                };                            </script>        </div>\n",
              "</body>\n",
              "</html>"
            ]
          },
          "metadata": {}
        }
      ]
    },
    {
      "cell_type": "code",
      "source": [
        "yahooFinance.Ticker(\"MPWR\").history(period=\"3y\").iloc[-1]"
      ],
      "metadata": {
        "colab": {
          "base_uri": "https://localhost:8080/"
        },
        "id": "xVztyGl5aVNW",
        "outputId": "e7b266ee-bc1d-4547-c8eb-ef9e64a1eaf7"
      },
      "execution_count": 7,
      "outputs": [
        {
          "output_type": "execute_result",
          "data": {
            "text/plain": [
              "Open               505.529999\n",
              "High               506.250000\n",
              "Low                479.100006\n",
              "Close              485.399994\n",
              "Volume          661300.000000\n",
              "Dividends            0.000000\n",
              "Stock Splits         0.000000\n",
              "Name: 2023-03-24 00:00:00-04:00, dtype: float64"
            ]
          },
          "metadata": {},
          "execution_count": 7
        }
      ]
    },
    {
      "cell_type": "code",
      "source": [
        "# Determine what stocks are in buy zone and what stocks are in sell zone\n",
        "\n",
        "\n",
        "# Start date of the investing\n",
        "std = pd.DataFrame.from_dict(std)\n",
        "std.columns = ['std',]\n",
        "\n",
        "def getsellbuy(index):\n",
        "  latest = {}\n",
        "  for s in stocks:\n",
        "      latest[s + \"_Diff\"] = stocks_ts.loc[index][s+\"_Close\"] - stocks_ts.loc[index][s+\"_Open\"]\n",
        "\n",
        "  latest = pd.Series(latest)\n",
        "  pd.DataFrame.from_dict(latest)\n",
        "  latest_diff = pd.DataFrame.from_dict(latest)\n",
        "  latest_diff.columns = ['diff',]\n",
        "  latest_diff = latest_diff.iloc[::-1]\n",
        "\n",
        "  latest_diff['std'] = std['std']\n",
        "  latest_diff['sell'] = np.where((latest_diff['diff'] >= std['std']), True, False)\n",
        "  latest_diff['buy'] = np.where(((latest_diff['diff'] < 0) & (latest_diff['diff'] < -2 * std['std'])), True, False)\n",
        "\n",
        "  # Print which stocks are buy and which are sell\n",
        "  #print(\"Stock to Buy on \" + str(index))\n",
        "  #print(latest_diff[latest_diff['buy']])\n",
        "  #print()\n",
        "  #print(\"Stocks to Sell on \" + str(index))\n",
        "  #print(latest_diff[latest_diff['sell']])\n",
        "  \n",
        "  return latest_diff[latest_diff['sell']], latest_diff[latest_diff['buy']]\n"
      ],
      "metadata": {
        "id": "lp-4QD8H-HtR"
      },
      "execution_count": 123,
      "outputs": []
    },
    {
      "cell_type": "code",
      "source": [
        "# We assume that we invest $100 in each stock that is in the buy zone\n",
        "# and sell all stocks in the sell zone\n",
        "\n",
        "# We will start back testing from year back. We can always change the starting point and tune the model.\n",
        "\n",
        "seedmoney = 10000\n",
        "shares_held = []\n",
        "\n",
        "idx = int(len(stocks_ts.index)-100)\n",
        "for backtest_start_date in stocks_ts.index[idx:]:\n",
        "    sell, buy = getsellbuy(backtest_start_date)\n",
        "    for st in sell.iterrows():\n",
        "      stock = st[0].split('_')[0]\n",
        "      if stock in shares_held:\n",
        "         seedmoney += stocks_ts.loc[backtest_start_date][stock+\"_Close\"]\n",
        "         shares_held.remove(stock)\n",
        "    for st in buy.iterrows():\n",
        "      stock = st[0].split('_')[0]\n",
        "      if seedmoney > stocks_ts.loc[backtest_start_date][stock+\"_Close\"]:\n",
        "         seedmoney -= stocks_ts.loc[backtest_start_date][stock+\"_Close\"]\n",
        "         shares_held.append(stock)\n",
        "\n",
        "    #print(seedmoney, shares_held)\n",
        "\n",
        "networth = seedmoney\n",
        "for stock in shares_held:\n",
        "  networth += stocks_ts.loc[backtest_start_date][stock+\"_Close\"]\n",
        "print(\"Assets left %d\" % networth)"
      ],
      "metadata": {
        "colab": {
          "base_uri": "https://localhost:8080/"
        },
        "id": "PFnwTp8seZNo",
        "outputId": "fbd10488-dffa-4c2c-851f-02fac2e0b89a"
      },
      "execution_count": 127,
      "outputs": [
        {
          "output_type": "stream",
          "name": "stdout",
          "text": [
            "Assets left 11174\n"
          ]
        }
      ]
    }
  ]
}