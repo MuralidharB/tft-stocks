{
  "nbformat": 4,
  "nbformat_minor": 0,
  "metadata": {
    "colab": {
      "provenance": [],
      "authorship_tag": "ABX9TyMC9yOUUIpu0dF6qiBh5l3b",
      "include_colab_link": true
    },
    "kernelspec": {
      "name": "python3",
      "display_name": "Python 3"
    },
    "language_info": {
      "name": "python"
    }
  },
  "cells": [
    {
      "cell_type": "markdown",
      "metadata": {
        "id": "view-in-github",
        "colab_type": "text"
      },
      "source": [
        "<a href=\"https://colab.research.google.com/github/MuralidharB/tft-stocks/blob/master/close_open.ipynb\" target=\"_parent\"><img src=\"https://colab.research.google.com/assets/colab-badge.svg\" alt=\"Open In Colab\"/></a>"
      ]
    },
    {
      "cell_type": "markdown",
      "source": [
        "Small python script that plots the difference between close and open prices of s&p stocks"
      ],
      "metadata": {
        "id": "Y4h-M7UK4B7m"
      }
    },
    {
      "cell_type": "code",
      "execution_count": null,
      "metadata": {
        "id": "awfvEoNa3_OE"
      },
      "outputs": [],
      "source": [
        "# Installation\n",
        "!pip install --upgrade mxnet==1.6.0\n",
        "!pip install gluonts\n",
        "!pip install yfinance\n",
        "!pip install datasets\n",
        "!pip install transformers\n",
        "!pip install accelerate\n",
        "!pip install torch\n",
        "!pip install evaluate\n",
        "!pip install torchviz\n",
        "!pip install jupyter-dash\n",
        "!pip install sns"
      ]
    },
    {
      "cell_type": "code",
      "source": [],
      "metadata": {
        "id": "G1c3aRo35r1-"
      },
      "execution_count": null,
      "outputs": []
    },
    {
      "cell_type": "code",
      "execution_count": null,
      "metadata": {
        "id": "ZtB77RObE0jz"
      },
      "outputs": [],
      "source": [
        "import yfinance as yahooFinance\n",
        "import tensorflow as tf\n",
        "import pandas as pd\n",
        "import sklearn\n",
        "import matplotlib.pyplot as plt\n",
        "import plotly.graph_objects as go\n",
        "from dash import Dash, dash_table\n",
        "import plotly.express as px\n",
        "import seaborn as sns\n",
        "import numpy as np\n",
        "\n",
        "stocks = [\"AAPL\", '^IXIC', '^GSPC', '^DJI','MSFT', 'GOOG', 'GOOGL', 'AMZN', 'UNH', 'XOM', 'JNJ', 'V', 'JPM', 'NVDA']\n",
        "stocks = ['AAPL', 'MSFT', 'GOOG', 'GOOGL', 'AMZN', 'UNH', 'XOM', 'JNJ', 'V', 'JPM', 'NVDA',\n",
        "          'WMT', 'TSLA', 'PG', 'META', 'MA', 'CVX', 'LLY', 'HD', 'ABBV', 'MRK', 'BAC', 'KO', \n",
        "          'PFE', 'PEP', 'AVGO', 'ORCL', 'TMO', 'COST', 'CSCO', 'ABT', 'MCD', 'NKE', 'DHR', \n",
        "          'TMUS', 'ACN', 'DIS', 'VZ', 'NEE', 'CMCSA', 'WFC', 'TXN', 'LIN', 'PM', 'UPS', 'ADBE', \n",
        "          'BMY', 'SCHW', 'MS', 'CRM', 'COP', 'RTX', 'AMGN', 'NFLX', 'HON', 'T', 'UNP', 'QCOM', \n",
        "          'IBM', 'DE', 'CAT', 'LOW', 'BA', 'SBUX', 'INTC', 'SPGI', 'LMT', 'GS', 'CVS', 'BLK', \n",
        "          'AXP', 'ELV', 'AMD', 'GILD', 'INTU', 'PLD', 'MDT', 'AMT', 'ADP', 'SYK', 'ISRG', \n",
        "          'TJX', 'EL', 'C', 'CB', 'CI', 'MDLZ', 'AMAT', 'PYPL', 'ADI', 'BKNG', 'MMC', 'MO', 'GE', \n",
        "          'DUK', 'SLB', 'SO', 'PGR', 'NOW', 'NOC', 'VRTX', 'EOG', 'REGN', 'ZTS', 'TGT', 'MRNA', 'BDX', \n",
        "          'MMM', 'HCA', 'USB', 'ITW', 'APD', 'CSX', 'GD', 'PNC', 'BSX', 'CL', 'WM', 'EQIX', 'FISV', 'FCX', \n",
        "          'CME', 'ETN', 'CCI', 'AON', 'SHW', 'LRCX', 'MU', 'TFC', 'HUM', 'ATVI', 'ICE', 'KLAC', 'NSC', \n",
        "          'CHTR', 'OXY', 'EMR', 'MET', 'PXD', 'MPC', 'MCO', 'MCK', 'DG', 'MNST', 'KHC', 'ORLY', \n",
        "          'D', 'VLO', 'SNPS', 'SRE', 'F', 'KDP', 'AEP', 'GIS', 'PSA', 'MAR', 'PSX', 'ROP', 'FDX', 'EW', \n",
        "          'ADM', 'APH', 'AIG', 'JCI', 'HSY', 'A', 'KMB', 'AZO', 'CTAS', 'CDNS', 'TRV', 'AFL', 'HES', 'CTVA', \n",
        "          'MSI', 'EXC', 'ECL', 'CNC', 'NXPI', 'DXCM', 'PAYX', 'NEM', 'KMI', 'ADSK', 'TT', 'MCHP', 'DVN', \n",
        "          'ROST', 'LVS', 'FIS', 'AJG', 'STZ', 'BIIB', 'SYY', 'CMG', 'O', 'RSG', 'IQV', 'PH', 'XEL', 'DOW', \n",
        "          'SPG', 'WMB', 'TEL', 'MSCI', 'IDXX', 'BK', 'NUE', 'LHX', 'FTNT', 'COF', 'ALL', 'HAL', 'PRU', 'CARR', \n",
        "          'DD', 'TDG', 'YUM', 'ANET', 'HLT', 'PCAR', 'CMI', 'ED', 'ABC', 'EA', 'AMP', 'OTIS', 'WELL', 'MTD', \n",
        "          'ODFL', 'SBAC', 'KR', 'AME', 'DLTR', 'VICI', 'DHI', 'ROK', 'WBA', 'KEYS', 'PEG', 'PCG', 'CSGP', \n",
        "          'CTSH', 'ENPH', 'RMD', 'OKE', 'WEC', 'BKR', 'NDAQ', 'WBD', 'ILMN', 'PPG', 'GLW', 'STT', 'LYB', \n",
        "          'ES', 'IFF', 'DLR', 'AWK', 'VRSK', 'DFS', 'HPQ', 'GWW', 'GPN', 'WTW', 'ON', 'FAST', 'LEN', 'CEG', \n",
        "          'APTV', 'TROW', 'URI', 'IT', 'ALB', 'CBRE', 'ZBH', 'EIX', 'MTB', 'CDW', 'ULTA', 'EFX', 'HRL', 'FANG', \n",
        "          'TSCO', 'EBAY', 'DAL', 'FE', 'VMC', 'HIG', 'ARE', 'K', 'RJF', 'GPC', 'TSN', 'FITB', 'WY', 'FTV', \n",
        "          'ACGL', 'DTE', 'BAX', 'AEE', 'IR', 'AVB', 'FRC', 'MKC', 'VRSN', 'PPL', 'EQR', 'ETR', 'HPE', 'LH', \n",
        "          'ANSS', 'LUV', 'PFG', 'MLM', 'HBAN', 'XYL', 'RF', 'CAH', 'WAT', 'CFG', 'STE', 'PWR', 'CHD', 'HOLX', \n",
        "          'CTRA', 'NTRS', 'VTR', 'EXR', 'DOV', 'CAG', 'CNP', 'WRB', 'TDY', 'GRMN', 'CMS', 'EPAM', 'STLD', 'BBY', \n",
        "          'WST', 'WAB', 'DRI', 'FSLR', 'INVH', 'MPWR', 'AES', 'JBHT', 'ALGN', 'AMCR', 'ROL', 'PAYC', 'MAA', 'IEX', \n",
        "          'INCY', 'TTWO', 'BALL', 'OMC', 'CLX', 'DGX', 'CINF', 'EXPD', 'MRO', 'MOH', 'KEY', 'COO', 'BRO', 'TRGP', \n",
        "          'SEDG', 'FOX', 'FOXA', 'PKI', 'SJM', 'HWM', 'CPB', 'LYV', 'BR', 'CF', 'FMC', 'J', 'ATO', 'ETSY', 'FDS', \n",
        "          'SWKS', 'UAL', 'ZBRA', 'NVR', 'AVY', 'MOS', 'SIVB', 'PTC', 'RCL', 'LKQ', 'MGM', 'SYF', 'TXT', 'TER', \n",
        "          'EVRG', 'CPRT', 'BEN', 'IRM', 'VTRS', 'EXPE', 'FLT', 'LW', 'GEN', 'PEAK', 'L', 'KIM', 'APA', 'IPG', \n",
        "          'ESS', 'NTAP', 'RE', 'NDSN', 'LNT', 'AKAM', 'LDOS', 'IP', 'TYL', 'TRMB', 'SNA', 'UDR', 'PARA', 'JKHY', \n",
        "          'CBOE', 'CE', 'BIO', 'POOL', 'MTCH', 'EQT', 'SWK', 'PKG', 'WDC', 'TFX', 'MKTX', 'CPT', 'DPZ', 'CRL', 'GL', \n",
        "          'STX', 'HST', 'VFC', 'MAS', 'NWS', 'NWSA', 'NI', 'PHM', 'CHRW', 'WYNN', 'HSIC', 'CCL', 'EMN', 'KMX', 'REG', \n",
        "          'BXP', 'UHS', 'BBWI', 'JNPR', 'TPR', 'BWA', 'AAL', 'ALLE', 'QRVO', 'CZR', 'CDAY', 'WRK', 'AOS', 'AAP', 'HII', \n",
        "          'HAS', 'IVZ', 'CMA', 'FFIV', 'CTLT', 'PNW', 'WHR', 'FRT', 'RHI', 'PNR', 'DISH', 'SEE', 'RL', 'ZION', 'OGN', \n",
        "          'NRG', 'XRAY', 'MHK', 'DVA', 'SBNY', 'GNRC', 'AIZ', 'DXC', 'NWL', 'ALK', 'NCLH', 'LUMN', 'LNC', 'VNO', 'TECH', \n",
        "          'TAP',] # '^IXIC', '^GSPC', '^DJI']\n",
        "\n",
        "stocks_ts = pd.DataFrame()\n",
        "stocks_spread = pd.DataFrame()\n",
        "latest = {}\n",
        "\n",
        "for stock in stocks:\n",
        "    data = yahooFinance.Ticker(stock).history(period=\"3y\")\n",
        "    d = data.copy()[['Open', 'Close']]\n",
        "    stocks_ts.insert(0, stock+\"_Open\", d['Open'])\n",
        "    stocks_ts.insert(0, stock+\"_Close\", d['Close'])\n",
        "    stocks_spread.insert(0, stock+\"_Diff\",  d['Close'] - d['Open'])\n",
        "    latest[stock+\"_Diff\"] = data.iloc[-1]['Close'] - data.iloc[-1]['Open']\n",
        "    \"\"\"\n",
        "    fig = go.Figure(data=[go.Candlestick(x=d.index,\n",
        "                open=d['Open'],\n",
        "                high=d['Open'],\n",
        "                low=d['Close'],\n",
        "                close=d['Close'])])\n",
        "    fig.update_layout(\n",
        "      title=stock,\n",
        "      yaxis_title=stock +' Stock',\n",
        "      shapes = [dict(\n",
        "          x0='2022-12-09', x1='2022-12-09', y0=0, y1=1, xref='x', yref='paper',\n",
        "          line_width=2)],\n",
        "      annotations=[dict(\n",
        "          x='2022-12-09', y=0.05, xref='x', yref='paper',\n",
        "          showarrow=False, xanchor='left', text='Increase Period Begins')]\n",
        "    )\n",
        "\n",
        "    fig.show()\n",
        "\n",
        "    stocks_ts['Date'] = stocks_ts.index\n",
        "    fig = px.line(stocks_ts, x=\"Date\", y=stock+\"_Diff\", title=stock + \" Price change\", markers=True) \n",
        "    fig.show()\n",
        "    \"\"\"\n",
        "    #x = pd.Series(stocks_ts[stock+\"_Diff\"])\n",
        "    #ax = x.plot.kde(figsize=(30,8))\n",
        "    #sns.set(rc={'figure.figsize':(25.7,8.27)})\n",
        "    #sns.lineplot(x=\"Date\",y=stock+\"_Diff\", data=stocks_ts, markers=True, err_style=\"bars\")\n",
        "    #sns.despine();"
      ]
    },
    {
      "cell_type": "code",
      "source": [
        "std = stocks_spread.describe().loc['std']\n",
        "fig = px.line(std, title=stock + \" Price change\", markers=True) \n",
        "fig.show()"
      ],
      "metadata": {
        "colab": {
          "base_uri": "https://localhost:8080/",
          "height": 542
        },
        "id": "KiCTrDH-A4XJ",
        "outputId": "44ca534e-d238-487e-947a-9098a2fb315a"
      },
      "execution_count": 56,
      "outputs": [
        {
          "output_type": "display_data",
          "data": {
            "text/html": [
              "<html>\n",
              "<head><meta charset=\"utf-8\" /></head>\n",
              "<body>\n",
              "    <div>            <script src=\"https://cdnjs.cloudflare.com/ajax/libs/mathjax/2.7.5/MathJax.js?config=TeX-AMS-MML_SVG\"></script><script type=\"text/javascript\">if (window.MathJax && window.MathJax.Hub && window.MathJax.Hub.Config) {window.MathJax.Hub.Config({SVG: {font: \"STIX-Web\"}});}</script>                <script type=\"text/javascript\">window.PlotlyConfig = {MathJaxConfig: 'local'};</script>\n",
              "        <script src=\"https://cdn.plot.ly/plotly-2.18.2.min.js\"></script>                <div id=\"55b0cc54-0522-480c-aa44-e6513da10d0b\" class=\"plotly-graph-div\" style=\"height:525px; width:100%;\"></div>            <script type=\"text/javascript\">                                    window.PLOTLYENV=window.PLOTLYENV || {};                                    if (document.getElementById(\"55b0cc54-0522-480c-aa44-e6513da10d0b\")) {                    Plotly.newPlot(                        \"55b0cc54-0522-480c-aa44-e6513da10d0b\",                        [{\"hovertemplate\":\"variable=std<br>index=%{x}<br>value=%{y}<extra></extra>\",\"legendgroup\":\"std\",\"line\":{\"color\":\"#636efa\",\"dash\":\"solid\"},\"marker\":{\"symbol\":\"circle\"},\"mode\":\"markers+lines\",\"name\":\"std\",\"orientation\":\"v\",\"showlegend\":true,\"x\":[\"TAP_Diff\",\"TECH_Diff\",\"VNO_Diff\",\"LNC_Diff\",\"LUMN_Diff\",\"NCLH_Diff\",\"ALK_Diff\",\"NWL_Diff\",\"DXC_Diff\",\"AIZ_Diff\",\"GNRC_Diff\",\"SBNY_Diff\",\"DVA_Diff\",\"MHK_Diff\",\"XRAY_Diff\",\"NRG_Diff\",\"OGN_Diff\",\"ZION_Diff\",\"RL_Diff\",\"SEE_Diff\",\"DISH_Diff\",\"PNR_Diff\",\"RHI_Diff\",\"FRT_Diff\",\"WHR_Diff\",\"PNW_Diff\",\"CTLT_Diff\",\"FFIV_Diff\",\"CMA_Diff\",\"IVZ_Diff\",\"HAS_Diff\",\"HII_Diff\",\"AAP_Diff\",\"AOS_Diff\",\"WRK_Diff\",\"CDAY_Diff\",\"CZR_Diff\",\"QRVO_Diff\",\"ALLE_Diff\",\"AAL_Diff\",\"BWA_Diff\",\"TPR_Diff\",\"JNPR_Diff\",\"BBWI_Diff\",\"UHS_Diff\",\"BXP_Diff\",\"REG_Diff\",\"KMX_Diff\",\"EMN_Diff\",\"CCL_Diff\",\"HSIC_Diff\",\"WYNN_Diff\",\"CHRW_Diff\",\"PHM_Diff\",\"NI_Diff\",\"NWSA_Diff\",\"NWS_Diff\",\"MAS_Diff\",\"VFC_Diff\",\"HST_Diff\",\"STX_Diff\",\"GL_Diff\",\"CRL_Diff\",\"DPZ_Diff\",\"CPT_Diff\",\"MKTX_Diff\",\"TFX_Diff\",\"WDC_Diff\",\"PKG_Diff\",\"SWK_Diff\",\"EQT_Diff\",\"MTCH_Diff\",\"POOL_Diff\",\"BIO_Diff\",\"CE_Diff\",\"CBOE_Diff\",\"JKHY_Diff\",\"PARA_Diff\",\"UDR_Diff\",\"SNA_Diff\",\"TRMB_Diff\",\"TYL_Diff\",\"IP_Diff\",\"LDOS_Diff\",\"AKAM_Diff\",\"LNT_Diff\",\"NDSN_Diff\",\"RE_Diff\",\"NTAP_Diff\",\"ESS_Diff\",\"IPG_Diff\",\"APA_Diff\",\"KIM_Diff\",\"L_Diff\",\"PEAK_Diff\",\"GEN_Diff\",\"LW_Diff\",\"FLT_Diff\",\"EXPE_Diff\",\"VTRS_Diff\",\"IRM_Diff\",\"BEN_Diff\",\"CPRT_Diff\",\"EVRG_Diff\",\"TER_Diff\",\"TXT_Diff\",\"SYF_Diff\",\"MGM_Diff\",\"LKQ_Diff\",\"RCL_Diff\",\"PTC_Diff\",\"SIVB_Diff\",\"MOS_Diff\",\"AVY_Diff\",\"NVR_Diff\",\"ZBRA_Diff\",\"UAL_Diff\",\"SWKS_Diff\",\"FDS_Diff\",\"ETSY_Diff\",\"ATO_Diff\",\"J_Diff\",\"FMC_Diff\",\"CF_Diff\",\"BR_Diff\",\"LYV_Diff\",\"CPB_Diff\",\"HWM_Diff\",\"SJM_Diff\",\"PKI_Diff\",\"FOXA_Diff\",\"FOX_Diff\",\"SEDG_Diff\",\"TRGP_Diff\",\"BRO_Diff\",\"COO_Diff\",\"KEY_Diff\",\"MOH_Diff\",\"MRO_Diff\",\"EXPD_Diff\",\"CINF_Diff\",\"DGX_Diff\",\"CLX_Diff\",\"OMC_Diff\",\"BALL_Diff\",\"TTWO_Diff\",\"INCY_Diff\",\"IEX_Diff\",\"MAA_Diff\",\"PAYC_Diff\",\"ROL_Diff\",\"AMCR_Diff\",\"ALGN_Diff\",\"JBHT_Diff\",\"AES_Diff\",\"MPWR_Diff\",\"INVH_Diff\",\"FSLR_Diff\",\"DRI_Diff\",\"WAB_Diff\",\"WST_Diff\",\"BBY_Diff\",\"STLD_Diff\",\"EPAM_Diff\",\"CMS_Diff\",\"GRMN_Diff\",\"TDY_Diff\",\"WRB_Diff\",\"CNP_Diff\",\"CAG_Diff\",\"DOV_Diff\",\"EXR_Diff\",\"VTR_Diff\",\"NTRS_Diff\",\"CTRA_Diff\",\"HOLX_Diff\",\"CHD_Diff\",\"PWR_Diff\",\"STE_Diff\",\"CFG_Diff\",\"WAT_Diff\",\"CAH_Diff\",\"RF_Diff\",\"XYL_Diff\",\"HBAN_Diff\",\"MLM_Diff\",\"PFG_Diff\",\"LUV_Diff\",\"ANSS_Diff\",\"LH_Diff\",\"HPE_Diff\",\"ETR_Diff\",\"EQR_Diff\",\"PPL_Diff\",\"VRSN_Diff\",\"MKC_Diff\",\"FRC_Diff\",\"AVB_Diff\",\"IR_Diff\",\"AEE_Diff\",\"BAX_Diff\",\"DTE_Diff\",\"ACGL_Diff\",\"FTV_Diff\",\"WY_Diff\",\"FITB_Diff\",\"TSN_Diff\",\"GPC_Diff\",\"RJF_Diff\",\"K_Diff\",\"ARE_Diff\",\"HIG_Diff\",\"VMC_Diff\",\"FE_Diff\",\"DAL_Diff\",\"EBAY_Diff\",\"TSCO_Diff\",\"FANG_Diff\",\"HRL_Diff\",\"EFX_Diff\",\"ULTA_Diff\",\"CDW_Diff\",\"MTB_Diff\",\"EIX_Diff\",\"ZBH_Diff\",\"CBRE_Diff\",\"ALB_Diff\",\"IT_Diff\",\"URI_Diff\",\"TROW_Diff\",\"APTV_Diff\",\"CEG_Diff\",\"LEN_Diff\",\"FAST_Diff\",\"ON_Diff\",\"WTW_Diff\",\"GPN_Diff\",\"GWW_Diff\",\"HPQ_Diff\",\"DFS_Diff\",\"VRSK_Diff\",\"AWK_Diff\",\"DLR_Diff\",\"IFF_Diff\",\"ES_Diff\",\"LYB_Diff\",\"STT_Diff\",\"GLW_Diff\",\"PPG_Diff\",\"ILMN_Diff\",\"WBD_Diff\",\"NDAQ_Diff\",\"BKR_Diff\",\"WEC_Diff\",\"OKE_Diff\",\"RMD_Diff\",\"ENPH_Diff\",\"CTSH_Diff\",\"CSGP_Diff\",\"PCG_Diff\",\"PEG_Diff\",\"KEYS_Diff\",\"WBA_Diff\",\"ROK_Diff\",\"DHI_Diff\",\"VICI_Diff\",\"DLTR_Diff\",\"AME_Diff\",\"KR_Diff\",\"SBAC_Diff\",\"ODFL_Diff\",\"MTD_Diff\",\"WELL_Diff\",\"OTIS_Diff\",\"AMP_Diff\",\"EA_Diff\",\"ABC_Diff\",\"ED_Diff\",\"CMI_Diff\",\"PCAR_Diff\",\"HLT_Diff\",\"ANET_Diff\",\"YUM_Diff\",\"TDG_Diff\",\"DD_Diff\",\"CARR_Diff\",\"PRU_Diff\",\"HAL_Diff\",\"ALL_Diff\",\"COF_Diff\",\"FTNT_Diff\",\"LHX_Diff\",\"NUE_Diff\",\"BK_Diff\",\"IDXX_Diff\",\"MSCI_Diff\",\"TEL_Diff\",\"WMB_Diff\",\"SPG_Diff\",\"DOW_Diff\",\"XEL_Diff\",\"PH_Diff\",\"IQV_Diff\",\"RSG_Diff\",\"O_Diff\",\"CMG_Diff\",\"SYY_Diff\",\"BIIB_Diff\",\"STZ_Diff\",\"AJG_Diff\",\"FIS_Diff\",\"LVS_Diff\",\"ROST_Diff\",\"DVN_Diff\",\"MCHP_Diff\",\"TT_Diff\",\"ADSK_Diff\",\"KMI_Diff\",\"NEM_Diff\",\"PAYX_Diff\",\"DXCM_Diff\",\"NXPI_Diff\",\"CNC_Diff\",\"ECL_Diff\",\"EXC_Diff\",\"MSI_Diff\",\"CTVA_Diff\",\"HES_Diff\",\"AFL_Diff\",\"TRV_Diff\",\"CDNS_Diff\",\"CTAS_Diff\",\"AZO_Diff\",\"KMB_Diff\",\"A_Diff\",\"HSY_Diff\",\"JCI_Diff\",\"AIG_Diff\",\"APH_Diff\",\"ADM_Diff\",\"EW_Diff\",\"FDX_Diff\",\"ROP_Diff\",\"PSX_Diff\",\"MAR_Diff\",\"PSA_Diff\",\"GIS_Diff\",\"AEP_Diff\",\"KDP_Diff\",\"F_Diff\",\"SRE_Diff\",\"SNPS_Diff\",\"VLO_Diff\",\"D_Diff\",\"ORLY_Diff\",\"KHC_Diff\",\"MNST_Diff\",\"DG_Diff\",\"MCK_Diff\",\"MCO_Diff\",\"MPC_Diff\",\"PXD_Diff\",\"MET_Diff\",\"EMR_Diff\",\"OXY_Diff\",\"CHTR_Diff\",\"NSC_Diff\",\"KLAC_Diff\",\"ICE_Diff\",\"ATVI_Diff\",\"HUM_Diff\",\"TFC_Diff\",\"MU_Diff\",\"LRCX_Diff\",\"SHW_Diff\",\"AON_Diff\",\"CCI_Diff\",\"ETN_Diff\",\"CME_Diff\",\"FCX_Diff\",\"FISV_Diff\",\"EQIX_Diff\",\"WM_Diff\",\"CL_Diff\",\"BSX_Diff\",\"PNC_Diff\",\"GD_Diff\",\"CSX_Diff\",\"APD_Diff\",\"ITW_Diff\",\"USB_Diff\",\"HCA_Diff\",\"MMM_Diff\",\"BDX_Diff\",\"MRNA_Diff\",\"TGT_Diff\",\"ZTS_Diff\",\"REGN_Diff\",\"EOG_Diff\",\"VRTX_Diff\",\"NOC_Diff\",\"NOW_Diff\",\"PGR_Diff\",\"SO_Diff\",\"SLB_Diff\",\"DUK_Diff\",\"GE_Diff\",\"MO_Diff\",\"MMC_Diff\",\"BKNG_Diff\",\"ADI_Diff\",\"PYPL_Diff\",\"AMAT_Diff\",\"MDLZ_Diff\",\"CI_Diff\",\"CB_Diff\",\"C_Diff\",\"EL_Diff\",\"TJX_Diff\",\"ISRG_Diff\",\"SYK_Diff\",\"ADP_Diff\",\"AMT_Diff\",\"MDT_Diff\",\"PLD_Diff\",\"INTU_Diff\",\"GILD_Diff\",\"AMD_Diff\",\"ELV_Diff\",\"AXP_Diff\",\"BLK_Diff\",\"CVS_Diff\",\"GS_Diff\",\"LMT_Diff\",\"SPGI_Diff\",\"INTC_Diff\",\"SBUX_Diff\",\"BA_Diff\",\"LOW_Diff\",\"CAT_Diff\",\"DE_Diff\",\"IBM_Diff\",\"QCOM_Diff\",\"UNP_Diff\",\"T_Diff\",\"HON_Diff\",\"NFLX_Diff\",\"AMGN_Diff\",\"RTX_Diff\",\"COP_Diff\",\"CRM_Diff\",\"MS_Diff\",\"SCHW_Diff\",\"BMY_Diff\",\"ADBE_Diff\",\"UPS_Diff\",\"PM_Diff\",\"LIN_Diff\",\"TXN_Diff\",\"WFC_Diff\",\"CMCSA_Diff\",\"NEE_Diff\",\"VZ_Diff\",\"DIS_Diff\",\"ACN_Diff\",\"TMUS_Diff\",\"DHR_Diff\",\"NKE_Diff\",\"MCD_Diff\",\"ABT_Diff\",\"CSCO_Diff\",\"COST_Diff\",\"TMO_Diff\",\"ORCL_Diff\",\"AVGO_Diff\",\"PEP_Diff\",\"PFE_Diff\",\"KO_Diff\",\"BAC_Diff\",\"MRK_Diff\",\"ABBV_Diff\",\"HD_Diff\",\"LLY_Diff\",\"CVX_Diff\",\"MA_Diff\",\"META_Diff\",\"PG_Diff\",\"TSLA_Diff\",\"WMT_Diff\",\"NVDA_Diff\",\"JPM_Diff\",\"V_Diff\",\"JNJ_Diff\",\"XOM_Diff\",\"UNH_Diff\",\"AMZN_Diff\",\"GOOGL_Diff\",\"GOOG_Diff\",\"MSFT_Diff\",\"AAPL_Diff\"],\"xaxis\":\"x\",\"y\":[0.7984773741633997,1.8298821982490403,0.7306321588929964,1.1554609765445094,0.22721009796883637,0.7236429201019616,1.1518483648759035,0.37814928037902257,0.7138867403977054,2.0818248607801073,7.321582372974711,5.380215957217905,1.7727420582303337,3.142410133207305,0.8333580633380139,0.646144715441972,0.642236207692123,1.0692036577468462,2.2079702948970903,0.8260181305814588,0.7564201300244263,0.8825281556026462,1.43192697455186,1.6726825461097095,3.2972213840433673,1.0294754673744837,2.0491231859080226,2.762639068685777,1.3482346655086337,0.3812651905065045,1.357635729081301,2.9834026178453987,2.946225482753657,0.9542946445167628,0.8054555465040102,2.004698642079353,2.142079440986787,2.897654332175281,1.7587377307591916,0.5238213218117789,0.7583313424527406,0.727935255236877,0.40171268655294845,1.1056770640864515,2.327395640725647,1.6564152691826695,0.9672137550010679,2.2165315363949714,1.5445101329366648,0.6358419807597006,1.1552187412504291,2.2697701130044674,1.417706327731037,0.9539001533222828,0.35761286277415943,0.34479121382461325,0.3429044443523119,0.8529607244731817,1.1095218524794765,0.3368530205610604,1.5009767916552121,1.3977766317899907,5.319340217749874,6.810474276502797,1.7973101977749928,9.36585910697793,5.6860664691661835,1.2173069886748755,1.8600136606423245,2.4857385459615475,0.8451959024627415,2.9600681609247856,7.694785293791679,10.74728090491211,2.1892884397000993,1.936184938195518,2.6364442432326736,1.2465987281466342,0.6844748891791608,2.8967575675636077,1.2408290276645462,7.6053833269458515,0.6227617432586302,1.4567243845481235,1.5179554158260926,0.7440745205976597,3.1188871948333663,4.242693582858286,1.1674452764787515,4.214187046642691,0.4638796276566038,0.8747431713436198,0.3454053137624153,0.7045183127874717,0.4562448379193863,0.41185390182595466,1.15892458666568,4.352756116774717,3.2478501775166566,0.2754036829469932,0.7098513494355823,0.5021140879665622,0.9663963487603506,0.8487343543856679,2.4998869007965925,1.0320015325099374,0.7518100287441994,0.8617231606112502,0.7580974184890445,2.053078776387785,2.165862289150619,11.46858522777673,1.1021737918031893,2.5566684065683782,80.91633587904957,7.449793701650788,1.256137845072898,2.777874587280338,5.560020030341621,5.424615467118625,1.3802239246167127,1.789229937397962,1.6504318121169919,1.7338518945479238,1.9914743422368664,2.095978156163352,0.637460123464754,0.6029336702625568,1.6196603894481054,2.623180286322288,0.6516139934114997,0.5960126101657748,9.277789708779082,1.0676878685751463,0.823210378868646,5.406923995129878,0.34457891450231204,5.010587978591462,0.4695892471191582,1.5724805157421229,1.7364000323185806,1.8578524315721068,2.299451594322977,1.057512757440307,1.249532577024193,2.8379132220867818,1.4765813328860256,2.667068109196977,2.280649438758102,8.421194735082278,0.5725107441545608,0.1400708915323654,10.53821708379865,2.850355479698372,0.3946514204202341,10.407206449017979,0.4969508006411598,2.717589320542315,2.23101818119464,1.3563986844652345,5.745111568830768,1.759160081499647,1.6652072818193475,11.14746617887419,0.7943483559036273,1.6333571609629844,5.966552332437078,0.7596244854366566,0.3562359777857035,0.4331509312394016,1.8090664782602441,2.5467414386395144,0.8609994951904102,1.6353443062233513,0.491847216935781,1.1350976176397043,1.070774897836322,1.9850191575757952,3.028440923774911,0.7485637603040161,4.773973492144415,0.8803070770342496,0.40238462885316245,1.3913160335094357,0.24932806097640745,5.528277170405758,1.0357964895067155,0.8828709288590284,5.872190576331437,3.471440895470783,0.22824138303349986,1.4726601348803319,1.037377683744139,0.352317961641916,2.985587876016439,1.134859399232563,2.8410087900850476,2.770972246500379,0.7804563664344693,1.0744137866409091,1.0351390716561488,1.377941257230988,0.7071968327625011,0.8993666164147135,0.531862141228941,0.6463696589139855,0.9590889172004133,1.7392547941595566,1.504730573607896,0.7580042672462571,2.350324759007459,0.9584548484856672,2.733080735756724,0.5804995515323844,0.8398428344371651,1.024008955796913,3.118854878800972,2.4203503272424114,0.558588576664488,3.4961321208106892,6.519740805719852,2.524253537227231,2.7117361326360823,0.8719577039036415,2.0174826507156496,1.3213485899252209,5.278644771655252,4.511384063416219,6.216523009969976,2.4505393906082857,2.4208042700474803,1.6139788317236095,1.8721274348226453,0.7099412044592393,1.4070485266837551,3.2904734745260105,2.885737272301377,6.712408136724098,0.49955730100612966,1.8628517489734915,2.478507553376592,2.135532958557631,2.172595646735719,1.9807148585845025,1.1648687966873141,1.4600996839572487,1.4286856245894362,0.5006326568799754,1.9871760162771572,7.4516231553354935,1.0367341922243916,0.7418092754629151,0.5459783887281898,1.2324216090212081,0.9111956857678851,3.299302833573588,6.811480643215127,1.0080025972598452,1.50584996166529,0.2494229126343216,0.7700508829549959,2.3274852961543147,0.7057002925182259,3.7121945511328427,1.665653433325644,0.42241355544215436,2.150707126915946,1.5197683871779337,0.6983260413898009,5.357534190024086,4.935425644365803,20.878012713668994,1.2168729989375138,1.0354413688225932,4.026041819028297,1.9289642676775192,1.759827877756092,1.03227384229198,3.1949621300268136,0.8109439022936512,2.285213182191226,2.0577296780733687,1.3557145951233427,10.704036459673386,1.0644060240062736,0.7024383947847679,1.3590136549536975,0.6634376496917476,1.6724587514019154,2.272578796870431,1.273956557855494,3.152049876149528,2.554091329622606,0.6855614481087626,9.18441997312444,8.607646007161183,1.8153250521625346,0.38888599361643356,1.9538108035025035,0.8307076669379213,0.8923298557943651,4.302580281492574,3.4162999023813687,1.3784488473764003,0.7972330141103574,25.75237533106588,1.2502398104995385,7.045087073195892,2.909254136927012,1.9719041498549235,1.8787380062964596,1.043741834212689,1.9088120030503701,1.0940153933601626,1.3989903646588007,2.2568169390404273,4.898537408088595,0.22870710642634828,1.050004233782699,1.4464531180136888,2.5608523013974516,3.577329352605741,1.355733847281771,2.7250758516208102,0.4958604165451609,2.9867870858574,0.7562355641459035,2.0587751799934555,0.722703207839101,2.0016060679753775,2.7538578795456012,5.3796145411995875,26.300590349342674,1.4060966888479518,1.8959861787973402,2.095944749647585,0.7992412590109998,0.8551863207002481,0.9147555017044271,1.0400420993620327,1.5979882163593808,3.516944776183324,5.6775174614991215,1.679709447189813,2.75766458506974,4.043630322981554,0.7738966050436955,1.1779650067828962,0.39553974213177406,0.27737353930535513,1.8984676938161915,5.333351002827069,2.084333465853598,0.9475146197992387,8.541559398727918,0.4657324282732748,1.1961765404719051,2.898193304961695,3.520140221265914,4.734522294276531,1.4993137074520537,3.53424276556683,0.8193620935668974,1.1242001429271522,1.1939917484410316,9.073441789364214,3.453891396216501,7.265507357613488,1.4521129314424988,1.0746336712772298,6.892608847420772,0.8627531690205258,1.544402018104881,11.87186150911915,3.6962148622189983,3.70698833678904,2.492696365728508,1.87944543430197,2.7305791117742144,0.774546128011823,1.6730656456916548,11.954064725698235,1.5931506392148986,0.7713448591810987,0.5734583543767432,2.539165030615428,2.415318487093819,0.429628779759174,3.5609661800767207,2.485065195644423,0.7606193255005617,3.499643587492949,1.9482257480056828,3.1954993865253614,8.247463184218292,2.839814111904198,2.4165384275185615,10.38873822292038,1.9462206756255174,4.465128056545561,6.139804494945084,11.393436039987153,1.5541396608307587,0.8018154025575616,0.8248654151226421,1.129714710728712,1.2778313966146935,0.5438615054229294,1.76471731294624,40.37813467619524,2.399023567739778,3.646221573932075,2.605672504579816,0.6364391347986788,3.6748242755552187,2.40004232741306,0.9092430652996277,4.340830999352075,1.0242886549128134,4.590284689253889,3.481790808211461,2.7413530283943506,3.8826217719857876,1.279339668243602,1.9003307232707711,8.633830664203176,0.8616780365210595,2.6796206779387077,6.203114585320815,2.407000626993003,10.257384317194166,1.0810382123107243,4.456344364035029,5.032211758416937,5.302898535325737,0.8022566342453807,1.2774561990205666,4.513079520005474,2.922997650886081,2.931601772861354,5.517522302676774,1.4476241519916915,2.680676832127049,2.6424606949748735,0.22895276711331788,2.4246868608134156,9.194803204280609,2.9574725896634706,1.2202815549141164,1.5863077161297496,3.958540023218567,1.16953130294857,1.2406063933150402,0.7380237750562029,8.407483700596474,2.3261556114985074,1.0604909567665193,3.532818579885539,2.4153730729974923,0.7221688088746028,0.6571038280476575,1.0859097032913128,0.48644143958289393,2.1202926734720338,4.009992848847,1.7306934228794806,3.763338967459014,1.8217296176101059,2.435032330100302,1.4063601684074127,0.594172361351187,6.016815380653689,7.547544350349743,1.0288652306684536,7.876226015897138,1.5637085908847952,0.613495894598754,0.5778746772205091,0.5274718463877225,0.9531188371106206,1.4450782797827884,4.168854695799954,3.676004531727708,1.8982560868702434,5.2600478730636135,4.650209453133182,1.446234105221245,7.9278935246601545,1.5578563014425117,5.330437907408306,1.7296731207774971,2.8395164216296114,1.5113508686988333,1.1895235193604083,5.748597821295783,2.5904471447055215,1.704355335731361,1.7073398133397,3.788122879537447,2.279211729174848],\"yaxis\":\"y\",\"type\":\"scatter\"}],                        {\"template\":{\"data\":{\"histogram2dcontour\":[{\"type\":\"histogram2dcontour\",\"colorbar\":{\"outlinewidth\":0,\"ticks\":\"\"},\"colorscale\":[[0.0,\"#0d0887\"],[0.1111111111111111,\"#46039f\"],[0.2222222222222222,\"#7201a8\"],[0.3333333333333333,\"#9c179e\"],[0.4444444444444444,\"#bd3786\"],[0.5555555555555556,\"#d8576b\"],[0.6666666666666666,\"#ed7953\"],[0.7777777777777778,\"#fb9f3a\"],[0.8888888888888888,\"#fdca26\"],[1.0,\"#f0f921\"]]}],\"choropleth\":[{\"type\":\"choropleth\",\"colorbar\":{\"outlinewidth\":0,\"ticks\":\"\"}}],\"histogram2d\":[{\"type\":\"histogram2d\",\"colorbar\":{\"outlinewidth\":0,\"ticks\":\"\"},\"colorscale\":[[0.0,\"#0d0887\"],[0.1111111111111111,\"#46039f\"],[0.2222222222222222,\"#7201a8\"],[0.3333333333333333,\"#9c179e\"],[0.4444444444444444,\"#bd3786\"],[0.5555555555555556,\"#d8576b\"],[0.6666666666666666,\"#ed7953\"],[0.7777777777777778,\"#fb9f3a\"],[0.8888888888888888,\"#fdca26\"],[1.0,\"#f0f921\"]]}],\"heatmap\":[{\"type\":\"heatmap\",\"colorbar\":{\"outlinewidth\":0,\"ticks\":\"\"},\"colorscale\":[[0.0,\"#0d0887\"],[0.1111111111111111,\"#46039f\"],[0.2222222222222222,\"#7201a8\"],[0.3333333333333333,\"#9c179e\"],[0.4444444444444444,\"#bd3786\"],[0.5555555555555556,\"#d8576b\"],[0.6666666666666666,\"#ed7953\"],[0.7777777777777778,\"#fb9f3a\"],[0.8888888888888888,\"#fdca26\"],[1.0,\"#f0f921\"]]}],\"heatmapgl\":[{\"type\":\"heatmapgl\",\"colorbar\":{\"outlinewidth\":0,\"ticks\":\"\"},\"colorscale\":[[0.0,\"#0d0887\"],[0.1111111111111111,\"#46039f\"],[0.2222222222222222,\"#7201a8\"],[0.3333333333333333,\"#9c179e\"],[0.4444444444444444,\"#bd3786\"],[0.5555555555555556,\"#d8576b\"],[0.6666666666666666,\"#ed7953\"],[0.7777777777777778,\"#fb9f3a\"],[0.8888888888888888,\"#fdca26\"],[1.0,\"#f0f921\"]]}],\"contourcarpet\":[{\"type\":\"contourcarpet\",\"colorbar\":{\"outlinewidth\":0,\"ticks\":\"\"}}],\"contour\":[{\"type\":\"contour\",\"colorbar\":{\"outlinewidth\":0,\"ticks\":\"\"},\"colorscale\":[[0.0,\"#0d0887\"],[0.1111111111111111,\"#46039f\"],[0.2222222222222222,\"#7201a8\"],[0.3333333333333333,\"#9c179e\"],[0.4444444444444444,\"#bd3786\"],[0.5555555555555556,\"#d8576b\"],[0.6666666666666666,\"#ed7953\"],[0.7777777777777778,\"#fb9f3a\"],[0.8888888888888888,\"#fdca26\"],[1.0,\"#f0f921\"]]}],\"surface\":[{\"type\":\"surface\",\"colorbar\":{\"outlinewidth\":0,\"ticks\":\"\"},\"colorscale\":[[0.0,\"#0d0887\"],[0.1111111111111111,\"#46039f\"],[0.2222222222222222,\"#7201a8\"],[0.3333333333333333,\"#9c179e\"],[0.4444444444444444,\"#bd3786\"],[0.5555555555555556,\"#d8576b\"],[0.6666666666666666,\"#ed7953\"],[0.7777777777777778,\"#fb9f3a\"],[0.8888888888888888,\"#fdca26\"],[1.0,\"#f0f921\"]]}],\"mesh3d\":[{\"type\":\"mesh3d\",\"colorbar\":{\"outlinewidth\":0,\"ticks\":\"\"}}],\"scatter\":[{\"fillpattern\":{\"fillmode\":\"overlay\",\"size\":10,\"solidity\":0.2},\"type\":\"scatter\"}],\"parcoords\":[{\"type\":\"parcoords\",\"line\":{\"colorbar\":{\"outlinewidth\":0,\"ticks\":\"\"}}}],\"scatterpolargl\":[{\"type\":\"scatterpolargl\",\"marker\":{\"colorbar\":{\"outlinewidth\":0,\"ticks\":\"\"}}}],\"bar\":[{\"error_x\":{\"color\":\"#2a3f5f\"},\"error_y\":{\"color\":\"#2a3f5f\"},\"marker\":{\"line\":{\"color\":\"#E5ECF6\",\"width\":0.5},\"pattern\":{\"fillmode\":\"overlay\",\"size\":10,\"solidity\":0.2}},\"type\":\"bar\"}],\"scattergeo\":[{\"type\":\"scattergeo\",\"marker\":{\"colorbar\":{\"outlinewidth\":0,\"ticks\":\"\"}}}],\"scatterpolar\":[{\"type\":\"scatterpolar\",\"marker\":{\"colorbar\":{\"outlinewidth\":0,\"ticks\":\"\"}}}],\"histogram\":[{\"marker\":{\"pattern\":{\"fillmode\":\"overlay\",\"size\":10,\"solidity\":0.2}},\"type\":\"histogram\"}],\"scattergl\":[{\"type\":\"scattergl\",\"marker\":{\"colorbar\":{\"outlinewidth\":0,\"ticks\":\"\"}}}],\"scatter3d\":[{\"type\":\"scatter3d\",\"line\":{\"colorbar\":{\"outlinewidth\":0,\"ticks\":\"\"}},\"marker\":{\"colorbar\":{\"outlinewidth\":0,\"ticks\":\"\"}}}],\"scattermapbox\":[{\"type\":\"scattermapbox\",\"marker\":{\"colorbar\":{\"outlinewidth\":0,\"ticks\":\"\"}}}],\"scatterternary\":[{\"type\":\"scatterternary\",\"marker\":{\"colorbar\":{\"outlinewidth\":0,\"ticks\":\"\"}}}],\"scattercarpet\":[{\"type\":\"scattercarpet\",\"marker\":{\"colorbar\":{\"outlinewidth\":0,\"ticks\":\"\"}}}],\"carpet\":[{\"aaxis\":{\"endlinecolor\":\"#2a3f5f\",\"gridcolor\":\"white\",\"linecolor\":\"white\",\"minorgridcolor\":\"white\",\"startlinecolor\":\"#2a3f5f\"},\"baxis\":{\"endlinecolor\":\"#2a3f5f\",\"gridcolor\":\"white\",\"linecolor\":\"white\",\"minorgridcolor\":\"white\",\"startlinecolor\":\"#2a3f5f\"},\"type\":\"carpet\"}],\"table\":[{\"cells\":{\"fill\":{\"color\":\"#EBF0F8\"},\"line\":{\"color\":\"white\"}},\"header\":{\"fill\":{\"color\":\"#C8D4E3\"},\"line\":{\"color\":\"white\"}},\"type\":\"table\"}],\"barpolar\":[{\"marker\":{\"line\":{\"color\":\"#E5ECF6\",\"width\":0.5},\"pattern\":{\"fillmode\":\"overlay\",\"size\":10,\"solidity\":0.2}},\"type\":\"barpolar\"}],\"pie\":[{\"automargin\":true,\"type\":\"pie\"}]},\"layout\":{\"autotypenumbers\":\"strict\",\"colorway\":[\"#636efa\",\"#EF553B\",\"#00cc96\",\"#ab63fa\",\"#FFA15A\",\"#19d3f3\",\"#FF6692\",\"#B6E880\",\"#FF97FF\",\"#FECB52\"],\"font\":{\"color\":\"#2a3f5f\"},\"hovermode\":\"closest\",\"hoverlabel\":{\"align\":\"left\"},\"paper_bgcolor\":\"white\",\"plot_bgcolor\":\"#E5ECF6\",\"polar\":{\"bgcolor\":\"#E5ECF6\",\"angularaxis\":{\"gridcolor\":\"white\",\"linecolor\":\"white\",\"ticks\":\"\"},\"radialaxis\":{\"gridcolor\":\"white\",\"linecolor\":\"white\",\"ticks\":\"\"}},\"ternary\":{\"bgcolor\":\"#E5ECF6\",\"aaxis\":{\"gridcolor\":\"white\",\"linecolor\":\"white\",\"ticks\":\"\"},\"baxis\":{\"gridcolor\":\"white\",\"linecolor\":\"white\",\"ticks\":\"\"},\"caxis\":{\"gridcolor\":\"white\",\"linecolor\":\"white\",\"ticks\":\"\"}},\"coloraxis\":{\"colorbar\":{\"outlinewidth\":0,\"ticks\":\"\"}},\"colorscale\":{\"sequential\":[[0.0,\"#0d0887\"],[0.1111111111111111,\"#46039f\"],[0.2222222222222222,\"#7201a8\"],[0.3333333333333333,\"#9c179e\"],[0.4444444444444444,\"#bd3786\"],[0.5555555555555556,\"#d8576b\"],[0.6666666666666666,\"#ed7953\"],[0.7777777777777778,\"#fb9f3a\"],[0.8888888888888888,\"#fdca26\"],[1.0,\"#f0f921\"]],\"sequentialminus\":[[0.0,\"#0d0887\"],[0.1111111111111111,\"#46039f\"],[0.2222222222222222,\"#7201a8\"],[0.3333333333333333,\"#9c179e\"],[0.4444444444444444,\"#bd3786\"],[0.5555555555555556,\"#d8576b\"],[0.6666666666666666,\"#ed7953\"],[0.7777777777777778,\"#fb9f3a\"],[0.8888888888888888,\"#fdca26\"],[1.0,\"#f0f921\"]],\"diverging\":[[0,\"#8e0152\"],[0.1,\"#c51b7d\"],[0.2,\"#de77ae\"],[0.3,\"#f1b6da\"],[0.4,\"#fde0ef\"],[0.5,\"#f7f7f7\"],[0.6,\"#e6f5d0\"],[0.7,\"#b8e186\"],[0.8,\"#7fbc41\"],[0.9,\"#4d9221\"],[1,\"#276419\"]]},\"xaxis\":{\"gridcolor\":\"white\",\"linecolor\":\"white\",\"ticks\":\"\",\"title\":{\"standoff\":15},\"zerolinecolor\":\"white\",\"automargin\":true,\"zerolinewidth\":2},\"yaxis\":{\"gridcolor\":\"white\",\"linecolor\":\"white\",\"ticks\":\"\",\"title\":{\"standoff\":15},\"zerolinecolor\":\"white\",\"automargin\":true,\"zerolinewidth\":2},\"scene\":{\"xaxis\":{\"backgroundcolor\":\"#E5ECF6\",\"gridcolor\":\"white\",\"linecolor\":\"white\",\"showbackground\":true,\"ticks\":\"\",\"zerolinecolor\":\"white\",\"gridwidth\":2},\"yaxis\":{\"backgroundcolor\":\"#E5ECF6\",\"gridcolor\":\"white\",\"linecolor\":\"white\",\"showbackground\":true,\"ticks\":\"\",\"zerolinecolor\":\"white\",\"gridwidth\":2},\"zaxis\":{\"backgroundcolor\":\"#E5ECF6\",\"gridcolor\":\"white\",\"linecolor\":\"white\",\"showbackground\":true,\"ticks\":\"\",\"zerolinecolor\":\"white\",\"gridwidth\":2}},\"shapedefaults\":{\"line\":{\"color\":\"#2a3f5f\"}},\"annotationdefaults\":{\"arrowcolor\":\"#2a3f5f\",\"arrowhead\":0,\"arrowwidth\":1},\"geo\":{\"bgcolor\":\"white\",\"landcolor\":\"#E5ECF6\",\"subunitcolor\":\"white\",\"showland\":true,\"showlakes\":true,\"lakecolor\":\"white\"},\"title\":{\"x\":0.05},\"mapbox\":{\"style\":\"light\"}}},\"xaxis\":{\"anchor\":\"y\",\"domain\":[0.0,1.0],\"title\":{\"text\":\"index\"}},\"yaxis\":{\"anchor\":\"x\",\"domain\":[0.0,1.0],\"title\":{\"text\":\"value\"}},\"legend\":{\"title\":{\"text\":\"variable\"},\"tracegroupgap\":0},\"title\":{\"text\":\"TAP Price change\"}},                        {\"responsive\": true}                    ).then(function(){\n",
              "                            \n",
              "var gd = document.getElementById('55b0cc54-0522-480c-aa44-e6513da10d0b');\n",
              "var x = new MutationObserver(function (mutations, observer) {{\n",
              "        var display = window.getComputedStyle(gd).display;\n",
              "        if (!display || display === 'none') {{\n",
              "            console.log([gd, 'removed!']);\n",
              "            Plotly.purge(gd);\n",
              "            observer.disconnect();\n",
              "        }}\n",
              "}});\n",
              "\n",
              "// Listen for the removal of the full notebook cells\n",
              "var notebookContainer = gd.closest('#notebook-container');\n",
              "if (notebookContainer) {{\n",
              "    x.observe(notebookContainer, {childList: true});\n",
              "}}\n",
              "\n",
              "// Listen for the clearing of the current output cell\n",
              "var outputEl = gd.closest('.output');\n",
              "if (outputEl) {{\n",
              "    x.observe(outputEl, {childList: true});\n",
              "}}\n",
              "\n",
              "                        })                };                            </script>        </div>\n",
              "</body>\n",
              "</html>"
            ]
          },
          "metadata": {}
        }
      ]
    },
    {
      "cell_type": "code",
      "source": [
        "yahooFinance.Ticker(\"MPWR\").history(period=\"3y\").iloc[-1]"
      ],
      "metadata": {
        "colab": {
          "base_uri": "https://localhost:8080/"
        },
        "id": "xVztyGl5aVNW",
        "outputId": "0bc58f14-2de8-4fad-9233-83e6d334006d"
      },
      "execution_count": 93,
      "outputs": [
        {
          "output_type": "execute_result",
          "data": {
            "text/plain": [
              "Open               505.529999\n",
              "High               506.250000\n",
              "Low                479.100006\n",
              "Close              485.399994\n",
              "Volume          661300.000000\n",
              "Dividends            0.000000\n",
              "Stock Splits         0.000000\n",
              "Name: 2023-03-24 00:00:00-04:00, dtype: float64"
            ]
          },
          "metadata": {},
          "execution_count": 93
        }
      ]
    },
    {
      "cell_type": "code",
      "source": [
        "# Determine what stocks are in buy zone and what stocks are in sell zone\n",
        "\n",
        "\n",
        "# The seed money, 10 thousand\n",
        "seedmoney = 10000\n",
        "\n",
        "# Start date of the investing\n",
        "std = pd.DataFrame.from_dict(std)\n",
        "std.columns = ['std',]\n",
        "\n",
        "latest = pd.Series(latest)\n",
        "pd.DataFrame.from_dict(latest)\n",
        "latest_diff = pd.DataFrame.from_dict(latest)\n",
        "latest_diff.columns = ['diff',]\n",
        "latest_diff = latest_diff.iloc[::-1]\n",
        "\n",
        "latest_diff['std'] = std['std']\n",
        "latest_diff['sell'] = np.where((latest_diff['diff'] >= std['std']), True, False)\n",
        "latest_diff['buy'] = np.where(((latest_diff['diff'] < 0) & (latest_diff['diff'] < -std['std'])), True, False)\n",
        "\n",
        "#Print which stocks are buy and which are sell\n",
        "print(\"Stock to Buy\")\n",
        "print(latest_diff[latest_diff['buy']])\n",
        "print()\n",
        "print(\"Stocks to Sell\")\n",
        "print(latest_diff[latest_diff['sell']])\n"
      ],
      "metadata": {
        "id": "lp-4QD8H-HtR"
      },
      "execution_count": null,
      "outputs": []
    },
    {
      "cell_type": "code",
      "source": [
        "# We assume that we invest $100 in each stock that is in the buy zone\n",
        "# and sell all stocks in the sell zone\n",
        "\n",
        "# We will start back testing from year back. We can always change the starting point and tune the model."
      ],
      "metadata": {
        "id": "PFnwTp8seZNo"
      },
      "execution_count": null,
      "outputs": []
    }
  ]
}