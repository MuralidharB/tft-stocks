{
  "cells": [
    {
      "cell_type": "markdown",
      "metadata": {
        "id": "view-in-github",
        "colab_type": "text"
      },
      "source": [
        "<a href=\"https://colab.research.google.com/github/MuralidharB/tft-stocks/blob/master/tft_example.ipynb\" target=\"_parent\"><img src=\"https://colab.research.google.com/assets/colab-badge.svg\" alt=\"Open In Colab\"/></a>"
      ]
    },
    {
      "cell_type": "markdown",
      "metadata": {
        "id": "W9QhLjkcQWDi"
      },
      "source": [
        "\n",
        "https://towardsdatascience.com/temporal-fusion-transformer-time-series-forecasting-with-deep-learning-complete-tutorial-d32c1e51cd91\n",
        "> Indented block\n",
        "\n"
      ]
    },
    {
      "cell_type": "code",
      "execution_count": null,
      "metadata": {
        "colab": {
          "base_uri": "https://localhost:8080/"
        },
        "id": "0y-8Sh8L41UR",
        "outputId": "3acc1462-707b-489c-b0e0-7b9c984f9475"
      },
      "outputs": [
        {
          "output_type": "stream",
          "name": "stdout",
          "text": [
            "\u001b[2K     \u001b[90m━━━━━━━━━━━━━━━━━━━━━━━━━━━━━━━━━━━━━━━\u001b[0m \u001b[32m141.4/141.4 KB\u001b[0m \u001b[31m3.5 MB/s\u001b[0m eta \u001b[36m0:00:00\u001b[0m\n",
            "\u001b[2K     \u001b[90m━━━━━━━━━━━━━━━━━━━━━━━━━━━━━━━━━━━━━━\u001b[0m \u001b[32m825.8/825.8 KB\u001b[0m \u001b[31m23.8 MB/s\u001b[0m eta \u001b[36m0:00:00\u001b[0m\n",
            "\u001b[2K     \u001b[90m━━━━━━━━━━━━━━━━━━━━━━━━━━━━━━━━━━━━━━━━\u001b[0m \u001b[32m34.5/34.5 MB\u001b[0m \u001b[31m38.2 MB/s\u001b[0m eta \u001b[36m0:00:00\u001b[0m\n",
            "\u001b[2K     \u001b[90m━━━━━━━━━━━━━━━━━━━━━━━━━━━━━━━━━━━━━━\u001b[0m \u001b[32m308.2/308.2 KB\u001b[0m \u001b[31m25.0 MB/s\u001b[0m eta \u001b[36m0:00:00\u001b[0m\n",
            "\u001b[2K     \u001b[90m━━━━━━━━━━━━━━━━━━━━━━━━━━━━━━━━━━━━━━\u001b[0m \u001b[32m210.6/210.6 KB\u001b[0m \u001b[31m20.0 MB/s\u001b[0m eta \u001b[36m0:00:00\u001b[0m\n",
            "\u001b[2K     \u001b[90m━━━━━━━━━━━━━━━━━━━━━━━━━━━━━━━━━━━━━━━━\u001b[0m \u001b[32m81.0/81.0 KB\u001b[0m \u001b[31m7.9 MB/s\u001b[0m eta \u001b[36m0:00:00\u001b[0m\n",
            "\u001b[2K     \u001b[90m━━━━━━━━━━━━━━━━━━━━━━━━━━━━━━━━━━━━━━\u001b[0m \u001b[32m517.2/517.2 KB\u001b[0m \u001b[31m36.5 MB/s\u001b[0m eta \u001b[36m0:00:00\u001b[0m\n",
            "\u001b[2K     \u001b[90m━━━━━━━━━━━━━━━━━━━━━━━━━━━━━━━━━━━━━━━━\u001b[0m \u001b[32m78.7/78.7 KB\u001b[0m \u001b[31m3.2 MB/s\u001b[0m eta \u001b[36m0:00:00\u001b[0m\n",
            "\u001b[2K     \u001b[90m━━━━━━━━━━━━━━━━━━━━━━━━━━━━━━━━━━━━━━\u001b[0m \u001b[32m147.2/147.2 KB\u001b[0m \u001b[31m15.7 MB/s\u001b[0m eta \u001b[36m0:00:00\u001b[0m\n",
            "\u001b[2K     \u001b[90m━━━━━━━━━━━━━━━━━━━━━━━━━━━━━━━━━━━━━━━━\u001b[0m \u001b[32m50.0/50.0 KB\u001b[0m \u001b[31m4.9 MB/s\u001b[0m eta \u001b[36m0:00:00\u001b[0m\n",
            "\u001b[?25h  Preparing metadata (setup.py) ... \u001b[?25l\u001b[?25hdone\n",
            "\u001b[2K     \u001b[90m━━━━━━━━━━━━━━━━━━━━━━━━━━━━━━━━━━━━━━\u001b[0m \u001b[32m112.7/112.7 KB\u001b[0m \u001b[31m10.7 MB/s\u001b[0m eta \u001b[36m0:00:00\u001b[0m\n",
            "\u001b[?25h  Building wheel for pyperclip (setup.py) ... \u001b[?25l\u001b[?25hdone\n"
          ]
        }
      ],
      "source": [
        "!pip install -q pytorch_forecasting"
      ]
    },
    {
      "cell_type": "code",
      "execution_count": null,
      "metadata": {
        "colab": {
          "base_uri": "https://localhost:8080/",
          "height": 614
        },
        "id": "qkTvrnLH4r11",
        "outputId": "8734f424-0548-4258-d099-a11c598b7fca"
      },
      "outputs": [
        {
          "data": {
            "text/html": [
              "\n",
              "  <div id=\"df-f8116b5d-2025-4c78-86d0-28c255aeb8b2\">\n",
              "    <div class=\"colab-df-container\">\n",
              "      <div>\n",
              "<style scoped>\n",
              "    .dataframe tbody tr th:only-of-type {\n",
              "        vertical-align: middle;\n",
              "    }\n",
              "\n",
              "    .dataframe tbody tr th {\n",
              "        vertical-align: top;\n",
              "    }\n",
              "\n",
              "    .dataframe thead th {\n",
              "        text-align: right;\n",
              "    }\n",
              "</style>\n",
              "<table border=\"1\" class=\"dataframe\">\n",
              "  <thead>\n",
              "    <tr style=\"text-align: right;\">\n",
              "      <th></th>\n",
              "      <th>time_idx</th>\n",
              "      <th>target</th>\n",
              "      <th>group</th>\n",
              "      <th>holidays</th>\n",
              "    </tr>\n",
              "  </thead>\n",
              "  <tbody>\n",
              "    <tr>\n",
              "      <th>0</th>\n",
              "      <td>0</td>\n",
              "      <td>0</td>\n",
              "      <td>0</td>\n",
              "      <td>X</td>\n",
              "    </tr>\n",
              "    <tr>\n",
              "      <th>1</th>\n",
              "      <td>1</td>\n",
              "      <td>1</td>\n",
              "      <td>0</td>\n",
              "      <td>Black Friday</td>\n",
              "    </tr>\n",
              "    <tr>\n",
              "      <th>2</th>\n",
              "      <td>2</td>\n",
              "      <td>2</td>\n",
              "      <td>0</td>\n",
              "      <td>X</td>\n",
              "    </tr>\n",
              "    <tr>\n",
              "      <th>3</th>\n",
              "      <td>3</td>\n",
              "      <td>3</td>\n",
              "      <td>0</td>\n",
              "      <td>Christmas</td>\n",
              "    </tr>\n",
              "    <tr>\n",
              "      <th>4</th>\n",
              "      <td>4</td>\n",
              "      <td>4</td>\n",
              "      <td>0</td>\n",
              "      <td>X</td>\n",
              "    </tr>\n",
              "    <tr>\n",
              "      <th>5</th>\n",
              "      <td>5</td>\n",
              "      <td>5</td>\n",
              "      <td>0</td>\n",
              "      <td>X</td>\n",
              "    </tr>\n",
              "    <tr>\n",
              "      <th>6</th>\n",
              "      <td>0</td>\n",
              "      <td>20</td>\n",
              "      <td>1</td>\n",
              "      <td>X</td>\n",
              "    </tr>\n",
              "    <tr>\n",
              "      <th>7</th>\n",
              "      <td>1</td>\n",
              "      <td>21</td>\n",
              "      <td>1</td>\n",
              "      <td>Black Friday</td>\n",
              "    </tr>\n",
              "    <tr>\n",
              "      <th>8</th>\n",
              "      <td>2</td>\n",
              "      <td>22</td>\n",
              "      <td>1</td>\n",
              "      <td>X</td>\n",
              "    </tr>\n",
              "    <tr>\n",
              "      <th>9</th>\n",
              "      <td>3</td>\n",
              "      <td>23</td>\n",
              "      <td>1</td>\n",
              "      <td>Christmas</td>\n",
              "    </tr>\n",
              "    <tr>\n",
              "      <th>10</th>\n",
              "      <td>4</td>\n",
              "      <td>24</td>\n",
              "      <td>1</td>\n",
              "      <td>X</td>\n",
              "    </tr>\n",
              "    <tr>\n",
              "      <th>11</th>\n",
              "      <td>5</td>\n",
              "      <td>25</td>\n",
              "      <td>1</td>\n",
              "      <td>X</td>\n",
              "    </tr>\n",
              "    <tr>\n",
              "      <th>12</th>\n",
              "      <td>0</td>\n",
              "      <td>40</td>\n",
              "      <td>2</td>\n",
              "      <td>X</td>\n",
              "    </tr>\n",
              "    <tr>\n",
              "      <th>13</th>\n",
              "      <td>1</td>\n",
              "      <td>41</td>\n",
              "      <td>2</td>\n",
              "      <td>Black Friday</td>\n",
              "    </tr>\n",
              "    <tr>\n",
              "      <th>14</th>\n",
              "      <td>2</td>\n",
              "      <td>42</td>\n",
              "      <td>2</td>\n",
              "      <td>X</td>\n",
              "    </tr>\n",
              "    <tr>\n",
              "      <th>15</th>\n",
              "      <td>3</td>\n",
              "      <td>43</td>\n",
              "      <td>2</td>\n",
              "      <td>Christmas</td>\n",
              "    </tr>\n",
              "    <tr>\n",
              "      <th>16</th>\n",
              "      <td>4</td>\n",
              "      <td>44</td>\n",
              "      <td>2</td>\n",
              "      <td>X</td>\n",
              "    </tr>\n",
              "    <tr>\n",
              "      <th>17</th>\n",
              "      <td>5</td>\n",
              "      <td>45</td>\n",
              "      <td>2</td>\n",
              "      <td>X</td>\n",
              "    </tr>\n",
              "  </tbody>\n",
              "</table>\n",
              "</div>\n",
              "      <button class=\"colab-df-convert\" onclick=\"convertToInteractive('df-f8116b5d-2025-4c78-86d0-28c255aeb8b2')\"\n",
              "              title=\"Convert this dataframe to an interactive table.\"\n",
              "              style=\"display:none;\">\n",
              "        \n",
              "  <svg xmlns=\"http://www.w3.org/2000/svg\" height=\"24px\"viewBox=\"0 0 24 24\"\n",
              "       width=\"24px\">\n",
              "    <path d=\"M0 0h24v24H0V0z\" fill=\"none\"/>\n",
              "    <path d=\"M18.56 5.44l.94 2.06.94-2.06 2.06-.94-2.06-.94-.94-2.06-.94 2.06-2.06.94zm-11 1L8.5 8.5l.94-2.06 2.06-.94-2.06-.94L8.5 2.5l-.94 2.06-2.06.94zm10 10l.94 2.06.94-2.06 2.06-.94-2.06-.94-.94-2.06-.94 2.06-2.06.94z\"/><path d=\"M17.41 7.96l-1.37-1.37c-.4-.4-.92-.59-1.43-.59-.52 0-1.04.2-1.43.59L10.3 9.45l-7.72 7.72c-.78.78-.78 2.05 0 2.83L4 21.41c.39.39.9.59 1.41.59.51 0 1.02-.2 1.41-.59l7.78-7.78 2.81-2.81c.8-.78.8-2.07 0-2.86zM5.41 20L4 18.59l7.72-7.72 1.47 1.35L5.41 20z\"/>\n",
              "  </svg>\n",
              "      </button>\n",
              "      \n",
              "  <style>\n",
              "    .colab-df-container {\n",
              "      display:flex;\n",
              "      flex-wrap:wrap;\n",
              "      gap: 12px;\n",
              "    }\n",
              "\n",
              "    .colab-df-convert {\n",
              "      background-color: #E8F0FE;\n",
              "      border: none;\n",
              "      border-radius: 50%;\n",
              "      cursor: pointer;\n",
              "      display: none;\n",
              "      fill: #1967D2;\n",
              "      height: 32px;\n",
              "      padding: 0 0 0 0;\n",
              "      width: 32px;\n",
              "    }\n",
              "\n",
              "    .colab-df-convert:hover {\n",
              "      background-color: #E2EBFA;\n",
              "      box-shadow: 0px 1px 2px rgba(60, 64, 67, 0.3), 0px 1px 3px 1px rgba(60, 64, 67, 0.15);\n",
              "      fill: #174EA6;\n",
              "    }\n",
              "\n",
              "    [theme=dark] .colab-df-convert {\n",
              "      background-color: #3B4455;\n",
              "      fill: #D2E3FC;\n",
              "    }\n",
              "\n",
              "    [theme=dark] .colab-df-convert:hover {\n",
              "      background-color: #434B5C;\n",
              "      box-shadow: 0px 1px 3px 1px rgba(0, 0, 0, 0.15);\n",
              "      filter: drop-shadow(0px 1px 2px rgba(0, 0, 0, 0.3));\n",
              "      fill: #FFFFFF;\n",
              "    }\n",
              "  </style>\n",
              "\n",
              "      <script>\n",
              "        const buttonEl =\n",
              "          document.querySelector('#df-f8116b5d-2025-4c78-86d0-28c255aeb8b2 button.colab-df-convert');\n",
              "        buttonEl.style.display =\n",
              "          google.colab.kernel.accessAllowed ? 'block' : 'none';\n",
              "\n",
              "        async function convertToInteractive(key) {\n",
              "          const element = document.querySelector('#df-f8116b5d-2025-4c78-86d0-28c255aeb8b2');\n",
              "          const dataTable =\n",
              "            await google.colab.kernel.invokeFunction('convertToInteractive',\n",
              "                                                     [key], {});\n",
              "          if (!dataTable) return;\n",
              "\n",
              "          const docLinkHtml = 'Like what you see? Visit the ' +\n",
              "            '<a target=\"_blank\" href=https://colab.research.google.com/notebooks/data_table.ipynb>data table notebook</a>'\n",
              "            + ' to learn more about interactive tables.';\n",
              "          element.innerHTML = '';\n",
              "          dataTable['output_type'] = 'display_data';\n",
              "          await google.colab.output.renderOutput(dataTable, element);\n",
              "          const docLink = document.createElement('div');\n",
              "          docLink.innerHTML = docLinkHtml;\n",
              "          element.appendChild(docLink);\n",
              "        }\n",
              "      </script>\n",
              "    </div>\n",
              "  </div>\n",
              "  "
            ],
            "text/plain": [
              "    time_idx  target  group      holidays\n",
              "0          0       0      0             X\n",
              "1          1       1      0  Black Friday\n",
              "2          2       2      0             X\n",
              "3          3       3      0     Christmas\n",
              "4          4       4      0             X\n",
              "5          5       5      0             X\n",
              "6          0      20      1             X\n",
              "7          1      21      1  Black Friday\n",
              "8          2      22      1             X\n",
              "9          3      23      1     Christmas\n",
              "10         4      24      1             X\n",
              "11         5      25      1             X\n",
              "12         0      40      2             X\n",
              "13         1      41      2  Black Friday\n",
              "14         2      42      2             X\n",
              "15         3      43      2     Christmas\n",
              "16         4      44      2             X\n",
              "17         5      45      2             X"
            ]
          },
          "execution_count": 3,
          "metadata": {},
          "output_type": "execute_result"
        }
      ],
      "source": [
        "import numpy as np\n",
        "import pandas as pd\n",
        "from pytorch_forecasting import TimeSeriesDataSet\n",
        "\n",
        "sample_data = pd.DataFrame(\n",
        "    dict(\n",
        "        time_idx=np.tile(np.arange(6), 3),\n",
        "        target=np.array([0,1,2,3,4,5,20,21,22,23,24,25,40,41,42,43,44,45]),\n",
        "        group=np.repeat(np.arange(3), 6),\n",
        "        holidays = np.tile(['X','Black Friday', 'X','Christmas','X', 'X'],3),\n",
        "    )\n",
        ")\n",
        "sample_data"
      ]
    },
    {
      "cell_type": "code",
      "execution_count": null,
      "metadata": {
        "colab": {
          "base_uri": "https://localhost:8080/"
        },
        "id": "ouG2mO5z8DnN",
        "outputId": "2c1fefba-50b9-4eae-e59f-7a3a3b8ffc0c"
      },
      "outputs": [
        {
          "name": "stdout",
          "output_type": "stream",
          "text": [
            "tensor([[0., 1.]])\n",
            "tensor([[0]])\n",
            "\n",
            "\n",
            "tensor([[2., 3., 4.]])\n"
          ]
        }
      ],
      "source": [
        "# create the time-series dataset from the pandas df\n",
        "dataset = TimeSeriesDataSet(\n",
        "    sample_data,\n",
        "    group_ids=[\"group\"],\n",
        "    target=\"target\",\n",
        "    time_idx=\"time_idx\",\n",
        "    max_encoder_length=2,\n",
        "    max_prediction_length=3,\n",
        "    time_varying_unknown_reals=[\"target\"],\n",
        "    static_categoricals=[\"holidays\"],\n",
        "    target_normalizer=None\n",
        ")\n",
        "\n",
        "# pass the dataset to a dataloader\n",
        "dataloader = dataset.to_dataloader(batch_size=1)\n",
        "\n",
        "#load the first batch\n",
        "x, y = next(iter(dataloader))\n",
        "print(x['encoder_target'])\n",
        "print(x['groups'])\n",
        "print('\\n')\n",
        "print(x['decoder_target'])"
      ]
    },
    {
      "cell_type": "code",
      "execution_count": null,
      "metadata": {
        "colab": {
          "base_uri": "https://localhost:8080/",
          "height": 222
        },
        "id": "E6FyqFaLF6bQ",
        "outputId": "8c840a53-c4be-4202-e098-816bd3eed03e"
      },
      "outputs": [
        {
          "output_type": "error",
          "ename": "NameError",
          "evalue": "ignored",
          "traceback": [
            "\u001b[0;31m---------------------------------------------------------------------------\u001b[0m",
            "\u001b[0;31mNameError\u001b[0m                                 Traceback (most recent call last)",
            "\u001b[0;32m<ipython-input-2-30e27d33a6de>\u001b[0m in \u001b[0;36m<module>\u001b[0;34m\u001b[0m\n\u001b[0;32m----> 1\u001b[0;31m \u001b[0mdata\u001b[0m \u001b[0;34m=\u001b[0m \u001b[0mpd\u001b[0m\u001b[0;34m.\u001b[0m\u001b[0mread_csv\u001b[0m\u001b[0;34m(\u001b[0m\u001b[0;34m'sample_data/LD2011_2014.txt'\u001b[0m\u001b[0;34m,\u001b[0m \u001b[0mindex_col\u001b[0m\u001b[0;34m=\u001b[0m\u001b[0;36m0\u001b[0m\u001b[0;34m,\u001b[0m \u001b[0msep\u001b[0m\u001b[0;34m=\u001b[0m\u001b[0;34m';'\u001b[0m\u001b[0;34m,\u001b[0m \u001b[0mdecimal\u001b[0m\u001b[0;34m=\u001b[0m\u001b[0;34m','\u001b[0m\u001b[0;34m)\u001b[0m\u001b[0;34m\u001b[0m\u001b[0;34m\u001b[0m\u001b[0m\n\u001b[0m\u001b[1;32m      2\u001b[0m \u001b[0mdata\u001b[0m\u001b[0;34m.\u001b[0m\u001b[0mindex\u001b[0m \u001b[0;34m=\u001b[0m \u001b[0mpd\u001b[0m\u001b[0;34m.\u001b[0m\u001b[0mto_datetime\u001b[0m\u001b[0;34m(\u001b[0m\u001b[0mdata\u001b[0m\u001b[0;34m.\u001b[0m\u001b[0mindex\u001b[0m\u001b[0;34m)\u001b[0m\u001b[0;34m\u001b[0m\u001b[0;34m\u001b[0m\u001b[0m\n\u001b[1;32m      3\u001b[0m \u001b[0mdata\u001b[0m\u001b[0;34m.\u001b[0m\u001b[0msort_index\u001b[0m\u001b[0;34m(\u001b[0m\u001b[0minplace\u001b[0m\u001b[0;34m=\u001b[0m\u001b[0;32mTrue\u001b[0m\u001b[0;34m)\u001b[0m\u001b[0;34m\u001b[0m\u001b[0;34m\u001b[0m\u001b[0m\n\u001b[1;32m      4\u001b[0m \u001b[0mdata\u001b[0m\u001b[0;34m\u001b[0m\u001b[0;34m\u001b[0m\u001b[0m\n",
            "\u001b[0;31mNameError\u001b[0m: name 'pd' is not defined"
          ]
        }
      ],
      "source": [
        "data = pd.read_csv('sample_data/LD2011_2014.txt', index_col=0, sep=';', decimal=',')\n",
        "data.index = pd.to_datetime(data.index)\n",
        "data.sort_index(inplace=True)\n",
        "data"
      ]
    },
    {
      "cell_type": "code",
      "execution_count": null,
      "metadata": {
        "colab": {
          "base_uri": "https://localhost:8080/",
          "height": 424
        },
        "id": "AlgQhsT-GH2f",
        "outputId": "d426881e-51c6-400e-c5b1-fd05690da58f"
      },
      "outputs": [
        {
          "data": {
            "text/html": [
              "\n",
              "  <div id=\"df-4efafd90-5fd6-4a62-b63e-903fd1c89e1f\">\n",
              "    <div class=\"colab-df-container\">\n",
              "      <div>\n",
              "<style scoped>\n",
              "    .dataframe tbody tr th:only-of-type {\n",
              "        vertical-align: middle;\n",
              "    }\n",
              "\n",
              "    .dataframe tbody tr th {\n",
              "        vertical-align: top;\n",
              "    }\n",
              "\n",
              "    .dataframe thead th {\n",
              "        text-align: right;\n",
              "    }\n",
              "</style>\n",
              "<table border=\"1\" class=\"dataframe\">\n",
              "  <thead>\n",
              "    <tr style=\"text-align: right;\">\n",
              "      <th></th>\n",
              "      <th>MT_002</th>\n",
              "      <th>MT_004</th>\n",
              "      <th>MT_005</th>\n",
              "      <th>MT_006</th>\n",
              "      <th>MT_008</th>\n",
              "    </tr>\n",
              "  </thead>\n",
              "  <tbody>\n",
              "    <tr>\n",
              "      <th>2011-01-01 00:00:00</th>\n",
              "      <td>NaN</td>\n",
              "      <td>NaN</td>\n",
              "      <td>NaN</td>\n",
              "      <td>NaN</td>\n",
              "      <td>NaN</td>\n",
              "    </tr>\n",
              "    <tr>\n",
              "      <th>2011-01-01 01:00:00</th>\n",
              "      <td>NaN</td>\n",
              "      <td>NaN</td>\n",
              "      <td>NaN</td>\n",
              "      <td>NaN</td>\n",
              "      <td>NaN</td>\n",
              "    </tr>\n",
              "    <tr>\n",
              "      <th>2011-01-01 02:00:00</th>\n",
              "      <td>NaN</td>\n",
              "      <td>NaN</td>\n",
              "      <td>NaN</td>\n",
              "      <td>NaN</td>\n",
              "      <td>NaN</td>\n",
              "    </tr>\n",
              "    <tr>\n",
              "      <th>2011-01-01 03:00:00</th>\n",
              "      <td>NaN</td>\n",
              "      <td>NaN</td>\n",
              "      <td>NaN</td>\n",
              "      <td>NaN</td>\n",
              "      <td>NaN</td>\n",
              "    </tr>\n",
              "    <tr>\n",
              "      <th>2011-01-01 04:00:00</th>\n",
              "      <td>NaN</td>\n",
              "      <td>NaN</td>\n",
              "      <td>NaN</td>\n",
              "      <td>NaN</td>\n",
              "      <td>NaN</td>\n",
              "    </tr>\n",
              "    <tr>\n",
              "      <th>...</th>\n",
              "      <td>...</td>\n",
              "      <td>...</td>\n",
              "      <td>...</td>\n",
              "      <td>...</td>\n",
              "      <td>...</td>\n",
              "    </tr>\n",
              "    <tr>\n",
              "      <th>2014-12-31 20:00:00</th>\n",
              "      <td>25.248933</td>\n",
              "      <td>186.483740</td>\n",
              "      <td>92.073171</td>\n",
              "      <td>340.773810</td>\n",
              "      <td>315.656566</td>\n",
              "    </tr>\n",
              "    <tr>\n",
              "      <th>2014-12-31 21:00:00</th>\n",
              "      <td>22.759602</td>\n",
              "      <td>162.093496</td>\n",
              "      <td>86.280488</td>\n",
              "      <td>319.940476</td>\n",
              "      <td>269.360269</td>\n",
              "    </tr>\n",
              "    <tr>\n",
              "      <th>2014-12-31 22:00:00</th>\n",
              "      <td>22.048364</td>\n",
              "      <td>161.077236</td>\n",
              "      <td>86.890244</td>\n",
              "      <td>314.732143</td>\n",
              "      <td>251.683502</td>\n",
              "    </tr>\n",
              "    <tr>\n",
              "      <th>2014-12-31 23:00:00</th>\n",
              "      <td>21.337127</td>\n",
              "      <td>161.585366</td>\n",
              "      <td>83.841463</td>\n",
              "      <td>308.035714</td>\n",
              "      <td>250.841751</td>\n",
              "    </tr>\n",
              "    <tr>\n",
              "      <th>2015-01-01 00:00:00</th>\n",
              "      <td>19.914651</td>\n",
              "      <td>178.861789</td>\n",
              "      <td>84.146341</td>\n",
              "      <td>279.761905</td>\n",
              "      <td>249.158249</td>\n",
              "    </tr>\n",
              "  </tbody>\n",
              "</table>\n",
              "<p>35065 rows × 5 columns</p>\n",
              "</div>\n",
              "      <button class=\"colab-df-convert\" onclick=\"convertToInteractive('df-4efafd90-5fd6-4a62-b63e-903fd1c89e1f')\"\n",
              "              title=\"Convert this dataframe to an interactive table.\"\n",
              "              style=\"display:none;\">\n",
              "        \n",
              "  <svg xmlns=\"http://www.w3.org/2000/svg\" height=\"24px\"viewBox=\"0 0 24 24\"\n",
              "       width=\"24px\">\n",
              "    <path d=\"M0 0h24v24H0V0z\" fill=\"none\"/>\n",
              "    <path d=\"M18.56 5.44l.94 2.06.94-2.06 2.06-.94-2.06-.94-.94-2.06-.94 2.06-2.06.94zm-11 1L8.5 8.5l.94-2.06 2.06-.94-2.06-.94L8.5 2.5l-.94 2.06-2.06.94zm10 10l.94 2.06.94-2.06 2.06-.94-2.06-.94-.94-2.06-.94 2.06-2.06.94z\"/><path d=\"M17.41 7.96l-1.37-1.37c-.4-.4-.92-.59-1.43-.59-.52 0-1.04.2-1.43.59L10.3 9.45l-7.72 7.72c-.78.78-.78 2.05 0 2.83L4 21.41c.39.39.9.59 1.41.59.51 0 1.02-.2 1.41-.59l7.78-7.78 2.81-2.81c.8-.78.8-2.07 0-2.86zM5.41 20L4 18.59l7.72-7.72 1.47 1.35L5.41 20z\"/>\n",
              "  </svg>\n",
              "      </button>\n",
              "      \n",
              "  <style>\n",
              "    .colab-df-container {\n",
              "      display:flex;\n",
              "      flex-wrap:wrap;\n",
              "      gap: 12px;\n",
              "    }\n",
              "\n",
              "    .colab-df-convert {\n",
              "      background-color: #E8F0FE;\n",
              "      border: none;\n",
              "      border-radius: 50%;\n",
              "      cursor: pointer;\n",
              "      display: none;\n",
              "      fill: #1967D2;\n",
              "      height: 32px;\n",
              "      padding: 0 0 0 0;\n",
              "      width: 32px;\n",
              "    }\n",
              "\n",
              "    .colab-df-convert:hover {\n",
              "      background-color: #E2EBFA;\n",
              "      box-shadow: 0px 1px 2px rgba(60, 64, 67, 0.3), 0px 1px 3px 1px rgba(60, 64, 67, 0.15);\n",
              "      fill: #174EA6;\n",
              "    }\n",
              "\n",
              "    [theme=dark] .colab-df-convert {\n",
              "      background-color: #3B4455;\n",
              "      fill: #D2E3FC;\n",
              "    }\n",
              "\n",
              "    [theme=dark] .colab-df-convert:hover {\n",
              "      background-color: #434B5C;\n",
              "      box-shadow: 0px 1px 3px 1px rgba(0, 0, 0, 0.15);\n",
              "      filter: drop-shadow(0px 1px 2px rgba(0, 0, 0, 0.3));\n",
              "      fill: #FFFFFF;\n",
              "    }\n",
              "  </style>\n",
              "\n",
              "      <script>\n",
              "        const buttonEl =\n",
              "          document.querySelector('#df-4efafd90-5fd6-4a62-b63e-903fd1c89e1f button.colab-df-convert');\n",
              "        buttonEl.style.display =\n",
              "          google.colab.kernel.accessAllowed ? 'block' : 'none';\n",
              "\n",
              "        async function convertToInteractive(key) {\n",
              "          const element = document.querySelector('#df-4efafd90-5fd6-4a62-b63e-903fd1c89e1f');\n",
              "          const dataTable =\n",
              "            await google.colab.kernel.invokeFunction('convertToInteractive',\n",
              "                                                     [key], {});\n",
              "          if (!dataTable) return;\n",
              "\n",
              "          const docLinkHtml = 'Like what you see? Visit the ' +\n",
              "            '<a target=\"_blank\" href=https://colab.research.google.com/notebooks/data_table.ipynb>data table notebook</a>'\n",
              "            + ' to learn more about interactive tables.';\n",
              "          element.innerHTML = '';\n",
              "          dataTable['output_type'] = 'display_data';\n",
              "          await google.colab.output.renderOutput(dataTable, element);\n",
              "          const docLink = document.createElement('div');\n",
              "          docLink.innerHTML = docLinkHtml;\n",
              "          element.appendChild(docLink);\n",
              "        }\n",
              "      </script>\n",
              "    </div>\n",
              "  </div>\n",
              "  "
            ],
            "text/plain": [
              "                        MT_002      MT_004     MT_005      MT_006      MT_008\n",
              "2011-01-01 00:00:00        NaN         NaN        NaN         NaN         NaN\n",
              "2011-01-01 01:00:00        NaN         NaN        NaN         NaN         NaN\n",
              "2011-01-01 02:00:00        NaN         NaN        NaN         NaN         NaN\n",
              "2011-01-01 03:00:00        NaN         NaN        NaN         NaN         NaN\n",
              "2011-01-01 04:00:00        NaN         NaN        NaN         NaN         NaN\n",
              "...                        ...         ...        ...         ...         ...\n",
              "2014-12-31 20:00:00  25.248933  186.483740  92.073171  340.773810  315.656566\n",
              "2014-12-31 21:00:00  22.759602  162.093496  86.280488  319.940476  269.360269\n",
              "2014-12-31 22:00:00  22.048364  161.077236  86.890244  314.732143  251.683502\n",
              "2014-12-31 23:00:00  21.337127  161.585366  83.841463  308.035714  250.841751\n",
              "2015-01-01 00:00:00  19.914651  178.861789  84.146341  279.761905  249.158249\n",
              "\n",
              "[35065 rows x 5 columns]"
            ]
          },
          "execution_count": 39,
          "metadata": {},
          "output_type": "execute_result"
        }
      ],
      "source": [
        "data = data.resample('1h').mean().replace(0., np.nan)\n",
        "earliest_time = data.index.min()\n",
        "df=data[['MT_002', 'MT_004', 'MT_005', 'MT_006', 'MT_008' ]]\n",
        "df"
      ]
    },
    {
      "cell_type": "code",
      "execution_count": null,
      "metadata": {
        "colab": {
          "base_uri": "https://localhost:8080/",
          "height": 424
        },
        "id": "zbG4-XIDG6e6",
        "outputId": "585771f5-0265-4b1d-f143-148cea4cce67"
      },
      "outputs": [
        {
          "data": {
            "text/html": [
              "\n",
              "  <div id=\"df-3e6e3fd2-8820-417f-aa41-8cee28677739\">\n",
              "    <div class=\"colab-df-container\">\n",
              "      <div>\n",
              "<style scoped>\n",
              "    .dataframe tbody tr th:only-of-type {\n",
              "        vertical-align: middle;\n",
              "    }\n",
              "\n",
              "    .dataframe tbody tr th {\n",
              "        vertical-align: top;\n",
              "    }\n",
              "\n",
              "    .dataframe thead th {\n",
              "        text-align: right;\n",
              "    }\n",
              "</style>\n",
              "<table border=\"1\" class=\"dataframe\">\n",
              "  <thead>\n",
              "    <tr style=\"text-align: right;\">\n",
              "      <th></th>\n",
              "      <th>power_usage</th>\n",
              "      <th>hours_from_start</th>\n",
              "      <th>days_from_start</th>\n",
              "      <th>date</th>\n",
              "      <th>consumer_id</th>\n",
              "      <th>hour</th>\n",
              "      <th>day</th>\n",
              "      <th>day_of_week</th>\n",
              "      <th>month</th>\n",
              "    </tr>\n",
              "  </thead>\n",
              "  <tbody>\n",
              "    <tr>\n",
              "      <th>17544</th>\n",
              "      <td>24.004267</td>\n",
              "      <td>26304</td>\n",
              "      <td>1096</td>\n",
              "      <td>2014-01-01 00:00:00</td>\n",
              "      <td>MT_002</td>\n",
              "      <td>0</td>\n",
              "      <td>1</td>\n",
              "      <td>2</td>\n",
              "      <td>1</td>\n",
              "    </tr>\n",
              "    <tr>\n",
              "      <th>17545</th>\n",
              "      <td>23.293030</td>\n",
              "      <td>26305</td>\n",
              "      <td>1096</td>\n",
              "      <td>2014-01-01 01:00:00</td>\n",
              "      <td>MT_002</td>\n",
              "      <td>1</td>\n",
              "      <td>1</td>\n",
              "      <td>2</td>\n",
              "      <td>1</td>\n",
              "    </tr>\n",
              "    <tr>\n",
              "      <th>17546</th>\n",
              "      <td>24.537696</td>\n",
              "      <td>26306</td>\n",
              "      <td>1096</td>\n",
              "      <td>2014-01-01 02:00:00</td>\n",
              "      <td>MT_002</td>\n",
              "      <td>2</td>\n",
              "      <td>1</td>\n",
              "      <td>2</td>\n",
              "      <td>1</td>\n",
              "    </tr>\n",
              "    <tr>\n",
              "      <th>17547</th>\n",
              "      <td>21.870555</td>\n",
              "      <td>26307</td>\n",
              "      <td>1096</td>\n",
              "      <td>2014-01-01 03:00:00</td>\n",
              "      <td>MT_002</td>\n",
              "      <td>3</td>\n",
              "      <td>1</td>\n",
              "      <td>2</td>\n",
              "      <td>1</td>\n",
              "    </tr>\n",
              "    <tr>\n",
              "      <th>17548</th>\n",
              "      <td>22.226174</td>\n",
              "      <td>26308</td>\n",
              "      <td>1096</td>\n",
              "      <td>2014-01-01 04:00:00</td>\n",
              "      <td>MT_002</td>\n",
              "      <td>4</td>\n",
              "      <td>1</td>\n",
              "      <td>2</td>\n",
              "      <td>1</td>\n",
              "    </tr>\n",
              "    <tr>\n",
              "      <th>...</th>\n",
              "      <td>...</td>\n",
              "      <td>...</td>\n",
              "      <td>...</td>\n",
              "      <td>...</td>\n",
              "      <td>...</td>\n",
              "      <td>...</td>\n",
              "      <td>...</td>\n",
              "      <td>...</td>\n",
              "      <td>...</td>\n",
              "    </tr>\n",
              "    <tr>\n",
              "      <th>128759</th>\n",
              "      <td>249.158249</td>\n",
              "      <td>32299</td>\n",
              "      <td>1345</td>\n",
              "      <td>2014-09-07 19:00:00</td>\n",
              "      <td>MT_008</td>\n",
              "      <td>19</td>\n",
              "      <td>7</td>\n",
              "      <td>6</td>\n",
              "      <td>9</td>\n",
              "    </tr>\n",
              "    <tr>\n",
              "      <th>128760</th>\n",
              "      <td>303.030303</td>\n",
              "      <td>32300</td>\n",
              "      <td>1345</td>\n",
              "      <td>2014-09-07 20:00:00</td>\n",
              "      <td>MT_008</td>\n",
              "      <td>20</td>\n",
              "      <td>7</td>\n",
              "      <td>6</td>\n",
              "      <td>9</td>\n",
              "    </tr>\n",
              "    <tr>\n",
              "      <th>128761</th>\n",
              "      <td>306.397306</td>\n",
              "      <td>32301</td>\n",
              "      <td>1345</td>\n",
              "      <td>2014-09-07 21:00:00</td>\n",
              "      <td>MT_008</td>\n",
              "      <td>21</td>\n",
              "      <td>7</td>\n",
              "      <td>6</td>\n",
              "      <td>9</td>\n",
              "    </tr>\n",
              "    <tr>\n",
              "      <th>128762</th>\n",
              "      <td>279.461279</td>\n",
              "      <td>32302</td>\n",
              "      <td>1345</td>\n",
              "      <td>2014-09-07 22:00:00</td>\n",
              "      <td>MT_008</td>\n",
              "      <td>22</td>\n",
              "      <td>7</td>\n",
              "      <td>6</td>\n",
              "      <td>9</td>\n",
              "    </tr>\n",
              "    <tr>\n",
              "      <th>128763</th>\n",
              "      <td>250.841751</td>\n",
              "      <td>32303</td>\n",
              "      <td>1345</td>\n",
              "      <td>2014-09-07 23:00:00</td>\n",
              "      <td>MT_008</td>\n",
              "      <td>23</td>\n",
              "      <td>7</td>\n",
              "      <td>6</td>\n",
              "      <td>9</td>\n",
              "    </tr>\n",
              "  </tbody>\n",
              "</table>\n",
              "<p>30000 rows × 9 columns</p>\n",
              "</div>\n",
              "      <button class=\"colab-df-convert\" onclick=\"convertToInteractive('df-3e6e3fd2-8820-417f-aa41-8cee28677739')\"\n",
              "              title=\"Convert this dataframe to an interactive table.\"\n",
              "              style=\"display:none;\">\n",
              "        \n",
              "  <svg xmlns=\"http://www.w3.org/2000/svg\" height=\"24px\"viewBox=\"0 0 24 24\"\n",
              "       width=\"24px\">\n",
              "    <path d=\"M0 0h24v24H0V0z\" fill=\"none\"/>\n",
              "    <path d=\"M18.56 5.44l.94 2.06.94-2.06 2.06-.94-2.06-.94-.94-2.06-.94 2.06-2.06.94zm-11 1L8.5 8.5l.94-2.06 2.06-.94-2.06-.94L8.5 2.5l-.94 2.06-2.06.94zm10 10l.94 2.06.94-2.06 2.06-.94-2.06-.94-.94-2.06-.94 2.06-2.06.94z\"/><path d=\"M17.41 7.96l-1.37-1.37c-.4-.4-.92-.59-1.43-.59-.52 0-1.04.2-1.43.59L10.3 9.45l-7.72 7.72c-.78.78-.78 2.05 0 2.83L4 21.41c.39.39.9.59 1.41.59.51 0 1.02-.2 1.41-.59l7.78-7.78 2.81-2.81c.8-.78.8-2.07 0-2.86zM5.41 20L4 18.59l7.72-7.72 1.47 1.35L5.41 20z\"/>\n",
              "  </svg>\n",
              "      </button>\n",
              "      \n",
              "  <style>\n",
              "    .colab-df-container {\n",
              "      display:flex;\n",
              "      flex-wrap:wrap;\n",
              "      gap: 12px;\n",
              "    }\n",
              "\n",
              "    .colab-df-convert {\n",
              "      background-color: #E8F0FE;\n",
              "      border: none;\n",
              "      border-radius: 50%;\n",
              "      cursor: pointer;\n",
              "      display: none;\n",
              "      fill: #1967D2;\n",
              "      height: 32px;\n",
              "      padding: 0 0 0 0;\n",
              "      width: 32px;\n",
              "    }\n",
              "\n",
              "    .colab-df-convert:hover {\n",
              "      background-color: #E2EBFA;\n",
              "      box-shadow: 0px 1px 2px rgba(60, 64, 67, 0.3), 0px 1px 3px 1px rgba(60, 64, 67, 0.15);\n",
              "      fill: #174EA6;\n",
              "    }\n",
              "\n",
              "    [theme=dark] .colab-df-convert {\n",
              "      background-color: #3B4455;\n",
              "      fill: #D2E3FC;\n",
              "    }\n",
              "\n",
              "    [theme=dark] .colab-df-convert:hover {\n",
              "      background-color: #434B5C;\n",
              "      box-shadow: 0px 1px 3px 1px rgba(0, 0, 0, 0.15);\n",
              "      filter: drop-shadow(0px 1px 2px rgba(0, 0, 0, 0.3));\n",
              "      fill: #FFFFFF;\n",
              "    }\n",
              "  </style>\n",
              "\n",
              "      <script>\n",
              "        const buttonEl =\n",
              "          document.querySelector('#df-3e6e3fd2-8820-417f-aa41-8cee28677739 button.colab-df-convert');\n",
              "        buttonEl.style.display =\n",
              "          google.colab.kernel.accessAllowed ? 'block' : 'none';\n",
              "\n",
              "        async function convertToInteractive(key) {\n",
              "          const element = document.querySelector('#df-3e6e3fd2-8820-417f-aa41-8cee28677739');\n",
              "          const dataTable =\n",
              "            await google.colab.kernel.invokeFunction('convertToInteractive',\n",
              "                                                     [key], {});\n",
              "          if (!dataTable) return;\n",
              "\n",
              "          const docLinkHtml = 'Like what you see? Visit the ' +\n",
              "            '<a target=\"_blank\" href=https://colab.research.google.com/notebooks/data_table.ipynb>data table notebook</a>'\n",
              "            + ' to learn more about interactive tables.';\n",
              "          element.innerHTML = '';\n",
              "          dataTable['output_type'] = 'display_data';\n",
              "          await google.colab.output.renderOutput(dataTable, element);\n",
              "          const docLink = document.createElement('div');\n",
              "          docLink.innerHTML = docLinkHtml;\n",
              "          element.appendChild(docLink);\n",
              "        }\n",
              "      </script>\n",
              "    </div>\n",
              "  </div>\n",
              "  "
            ],
            "text/plain": [
              "        power_usage  hours_from_start  days_from_start                date  \\\n",
              "17544     24.004267             26304             1096 2014-01-01 00:00:00   \n",
              "17545     23.293030             26305             1096 2014-01-01 01:00:00   \n",
              "17546     24.537696             26306             1096 2014-01-01 02:00:00   \n",
              "17547     21.870555             26307             1096 2014-01-01 03:00:00   \n",
              "17548     22.226174             26308             1096 2014-01-01 04:00:00   \n",
              "...             ...               ...              ...                 ...   \n",
              "128759   249.158249             32299             1345 2014-09-07 19:00:00   \n",
              "128760   303.030303             32300             1345 2014-09-07 20:00:00   \n",
              "128761   306.397306             32301             1345 2014-09-07 21:00:00   \n",
              "128762   279.461279             32302             1345 2014-09-07 22:00:00   \n",
              "128763   250.841751             32303             1345 2014-09-07 23:00:00   \n",
              "\n",
              "       consumer_id  hour  day  day_of_week  month  \n",
              "17544       MT_002     0    1            2      1  \n",
              "17545       MT_002     1    1            2      1  \n",
              "17546       MT_002     2    1            2      1  \n",
              "17547       MT_002     3    1            2      1  \n",
              "17548       MT_002     4    1            2      1  \n",
              "...            ...   ...  ...          ...    ...  \n",
              "128759      MT_008    19    7            6      9  \n",
              "128760      MT_008    20    7            6      9  \n",
              "128761      MT_008    21    7            6      9  \n",
              "128762      MT_008    22    7            6      9  \n",
              "128763      MT_008    23    7            6      9  \n",
              "\n",
              "[30000 rows x 9 columns]"
            ]
          },
          "execution_count": 46,
          "metadata": {},
          "output_type": "execute_result"
        }
      ],
      "source": [
        "df_list = []\n",
        "\n",
        "for label in df:\n",
        "\n",
        "    ts = df[label]\n",
        "    start_date = min(ts.fillna(method='ffill').dropna().index)\n",
        "    end_date = max(ts.fillna(method='bfill').dropna().index)\n",
        "\n",
        "    active_range = (ts.index >= start_date) & (ts.index <= end_date)\n",
        "    ts = ts[active_range].fillna(0.)\n",
        "    tmp = pd.DataFrame({'power_usage': ts})\n",
        "    date = tmp.index\n",
        "\n",
        "    tmp['hours_from_start'] = (date - earliest_time).seconds / 60 / 60 + (date - earliest_time).days * 24\n",
        "    tmp['hours_from_start'] = tmp['hours_from_start'].astype('int')\n",
        "  \n",
        "    tmp['days_from_start'] = (date - earliest_time).days\n",
        "    tmp['date'] = date\n",
        "    tmp['consumer_id'] = label\n",
        "    tmp['hour'] = date.hour\n",
        "    tmp['day'] = date.day\n",
        "    tmp['day_of_week'] = date.dayofweek\n",
        "    tmp['month'] = date.month\n",
        "\n",
        "    #stack all time series vertically\n",
        "    df_list.append(tmp)\n",
        "\n",
        "time_df = pd.concat(df_list).reset_index(drop=True)\n",
        "\n",
        "# match results in the original paper\n",
        "time_df = time_df[(time_df['days_from_start'] >= 1096)\n",
        "                & (time_df['days_from_start'] < 1346)].copy()\n",
        "time_df"
      ]
    },
    {
      "cell_type": "code",
      "execution_count": null,
      "metadata": {
        "id": "_UMbL9mKNOSF"
      },
      "outputs": [],
      "source": [
        "#Hyperparameters\n",
        "#batch size=64\n",
        "#number heads=4, hidden sizes=160, lr=0.001, gr_clip=0.1\n",
        "\n",
        "from pytorch_forecasting.data.encoders import GroupNormalizer\n",
        "\n",
        "max_prediction_length = 24\n",
        "max_encoder_length = 7*24\n",
        "training_cutoff = time_df[\"hours_from_start\"].max() - max_prediction_length\n",
        "\n",
        "training = TimeSeriesDataSet(\n",
        "    time_df[lambda x: x.hours_from_start <= training_cutoff],\n",
        "    time_idx=\"hours_from_start\",\n",
        "    target=\"power_usage\",\n",
        "    group_ids=[\"consumer_id\"],\n",
        "    min_encoder_length=max_encoder_length // 2, \n",
        "    max_encoder_length=max_encoder_length,\n",
        "    min_prediction_length=1,\n",
        "    max_prediction_length=max_prediction_length,\n",
        "    static_categoricals=[\"consumer_id\"],\n",
        "    time_varying_known_reals=[\"hours_from_start\",\"day\",\"day_of_week\", \"month\", 'hour'],\n",
        "    time_varying_unknown_reals=['power_usage'],\n",
        "    target_normalizer=GroupNormalizer(\n",
        "        groups=[\"consumer_id\"], transformation=\"softplus\"\n",
        "    ),  # we normalize by group\n",
        "    add_relative_time_idx=True,\n",
        "    add_target_scales=True,\n",
        "    add_encoder_length=True,\n",
        ")\n",
        "\n",
        "\n",
        "validation = TimeSeriesDataSet.from_dataset(training, time_df, predict=True, stop_randomization=True)\n",
        "\n",
        "# create dataloaders for  our model\n",
        "batch_size = 64 \n",
        "# if you have a strong GPU, feel free to increase the number of workers  \n",
        "train_dataloader = training.to_dataloader(train=True, batch_size=batch_size, num_workers=0)\n",
        "val_dataloader = validation.to_dataloader(train=False, batch_size=batch_size * 10, num_workers=0)\n"
      ]
    },
    {
      "cell_type": "code",
      "execution_count": null,
      "metadata": {
        "colab": {
          "base_uri": "https://localhost:8080/"
        },
        "id": "ZQfxfymKOFLR",
        "outputId": "89449313-facd-451a-a3de-ae914480ec96"
      },
      "outputs": [
        {
          "name": "stderr",
          "output_type": "stream",
          "text": [
            "/usr/local/lib/python3.8/dist-packages/pytorch_lightning/utilities/parsing.py:262: UserWarning: Attribute 'loss' is an instance of `nn.Module` and is already saved during checkpointing. It is recommended to ignore them using `self.save_hyperparameters(ignore=['loss'])`.\n",
            "  rank_zero_warn(\n",
            "/usr/local/lib/python3.8/dist-packages/pytorch_lightning/utilities/parsing.py:262: UserWarning: Attribute 'logging_metrics' is an instance of `nn.Module` and is already saved during checkpointing. It is recommended to ignore them using `self.save_hyperparameters(ignore=['logging_metrics'])`.\n",
            "  rank_zero_warn(\n"
          ]
        },
        {
          "data": {
            "text/plain": [
              "25.139617919921875"
            ]
          },
          "execution_count": 51,
          "metadata": {},
          "output_type": "execute_result"
        }
      ],
      "source": [
        "import torch\n",
        "from pytorch_forecasting.models.baseline import Baseline\n",
        "\n",
        "actuals = torch.cat([y for x, (y, weight) in iter(val_dataloader)])\n",
        "baseline_predictions = Baseline().predict(val_dataloader)\n",
        "(actuals - baseline_predictions).abs().mean().item()\n"
      ]
    },
    {
      "cell_type": "code",
      "execution_count": null,
      "metadata": {
        "colab": {
          "background_save": true,
          "base_uri": "https://localhost:8080/",
          "height": 748,
          "referenced_widgets": [
            "dae8daa0881d4aecb3c59bbe1ab85447",
            "3f812150bc9c43af885cf801fa2e9ffc",
            "556d8796a0f24c2d84aff54cae4ffd49",
            "1dbcbf879a4e4d9599df6b8c49e3c546",
            "326c8a89bf144a53b53a8025b4de5c26",
            "0acba4eb1d3945f2a01e0db1589a0f5f"
          ]
        },
        "id": "GuNgvXz8OnCa",
        "outputId": "c29f9221-c45a-43ac-acf7-c8b6bbe4f326"
      },
      "outputs": [
        {
          "name": "stderr",
          "output_type": "stream",
          "text": [
            "/usr/local/lib/python3.8/dist-packages/torch/cuda/__init__.py:497: UserWarning: Can't initialize NVML\n",
            "  warnings.warn(\"Can't initialize NVML\")\n",
            "INFO:pytorch_lightning.utilities.rank_zero:GPU available: False, used: False\n",
            "INFO:pytorch_lightning.utilities.rank_zero:TPU available: False, using: 0 TPU cores\n",
            "INFO:pytorch_lightning.utilities.rank_zero:IPU available: False, using: 0 IPUs\n",
            "INFO:pytorch_lightning.utilities.rank_zero:HPU available: False, using: 0 HPUs\n",
            "WARNING:pytorch_lightning.loggers.tensorboard:Missing logger folder: lightning_logs/lightning_logs\n",
            "INFO:pytorch_lightning.callbacks.model_summary:\n",
            "   | Name                               | Type                            | Params\n",
            "----------------------------------------------------------------------------------------\n",
            "0  | loss                               | QuantileLoss                    | 0     \n",
            "1  | logging_metrics                    | ModuleList                      | 0     \n",
            "2  | input_embeddings                   | MultiEmbedding                  | 20    \n",
            "3  | prescalers                         | ModuleDict                      | 3.2 K \n",
            "4  | static_variable_selection          | VariableSelectionNetwork        | 313 K \n",
            "5  | encoder_variable_selection         | VariableSelectionNetwork        | 734 K \n",
            "6  | decoder_variable_selection         | VariableSelectionNetwork        | 628 K \n",
            "7  | static_context_variable_selection  | GatedResidualNetwork            | 103 K \n",
            "8  | static_context_initial_hidden_lstm | GatedResidualNetwork            | 103 K \n",
            "9  | static_context_initial_cell_lstm   | GatedResidualNetwork            | 103 K \n",
            "10 | static_context_enrichment          | GatedResidualNetwork            | 103 K \n",
            "11 | lstm_encoder                       | LSTM                            | 206 K \n",
            "12 | lstm_decoder                       | LSTM                            | 206 K \n",
            "13 | post_lstm_gate_encoder             | GatedLinearUnit                 | 51.5 K\n",
            "14 | post_lstm_add_norm_encoder         | AddNorm                         | 320   \n",
            "15 | static_enrichment                  | GatedResidualNetwork            | 128 K \n",
            "16 | multihead_attn                     | InterpretableMultiHeadAttention | 64.4 K\n",
            "17 | post_attn_gate_norm                | GateAddNorm                     | 51.8 K\n",
            "18 | pos_wise_ff                        | GatedResidualNetwork            | 103 K \n",
            "19 | pre_output_gate_norm               | GateAddNorm                     | 51.8 K\n",
            "20 | output_layer                       | Linear                          | 1.1 K \n",
            "----------------------------------------------------------------------------------------\n",
            "3.0 M     Trainable params\n",
            "0         Non-trainable params\n",
            "3.0 M     Total params\n",
            "11.818    Total estimated model params size (MB)\n"
          ]
        },
        {
          "data": {
            "application/vnd.jupyter.widget-view+json": {
              "model_id": "dae8daa0881d4aecb3c59bbe1ab85447",
              "version_major": 2,
              "version_minor": 0
            },
            "text/plain": [
              "Sanity Checking: 0it [00:00, ?it/s]"
            ]
          },
          "metadata": {},
          "output_type": "display_data"
        },
        {
          "data": {
            "application/vnd.jupyter.widget-view+json": {
              "model_id": "3f812150bc9c43af885cf801fa2e9ffc",
              "version_major": 2,
              "version_minor": 0
            },
            "text/plain": [
              "Training: 0it [00:00, ?it/s]"
            ]
          },
          "metadata": {},
          "output_type": "display_data"
        },
        {
          "data": {
            "application/vnd.jupyter.widget-view+json": {
              "model_id": "556d8796a0f24c2d84aff54cae4ffd49",
              "version_major": 2,
              "version_minor": 0
            },
            "text/plain": [
              "Validation: 0it [00:00, ?it/s]"
            ]
          },
          "metadata": {},
          "output_type": "display_data"
        },
        {
          "name": "stderr",
          "output_type": "stream",
          "text": [
            "INFO:pytorch_lightning.callbacks.early_stopping:Metric val_loss improved. New best score: 4.904\n"
          ]
        },
        {
          "data": {
            "application/vnd.jupyter.widget-view+json": {
              "model_id": "1dbcbf879a4e4d9599df6b8c49e3c546",
              "version_major": 2,
              "version_minor": 0
            },
            "text/plain": [
              "Validation: 0it [00:00, ?it/s]"
            ]
          },
          "metadata": {},
          "output_type": "display_data"
        },
        {
          "name": "stderr",
          "output_type": "stream",
          "text": [
            "INFO:pytorch_lightning.callbacks.early_stopping:Metric val_loss improved by 1.100 >= min_delta = 0.0001. New best score: 3.804\n"
          ]
        },
        {
          "data": {
            "application/vnd.jupyter.widget-view+json": {
              "model_id": "326c8a89bf144a53b53a8025b4de5c26",
              "version_major": 2,
              "version_minor": 0
            },
            "text/plain": [
              "Validation: 0it [00:00, ?it/s]"
            ]
          },
          "metadata": {},
          "output_type": "display_data"
        },
        {
          "name": "stderr",
          "output_type": "stream",
          "text": [
            "INFO:pytorch_lightning.callbacks.early_stopping:Metric val_loss improved by 0.238 >= min_delta = 0.0001. New best score: 3.567\n"
          ]
        },
        {
          "data": {
            "application/vnd.jupyter.widget-view+json": {
              "model_id": "0acba4eb1d3945f2a01e0db1589a0f5f",
              "version_major": 2,
              "version_minor": 0
            },
            "text/plain": [
              "Validation: 0it [00:00, ?it/s]"
            ]
          },
          "metadata": {},
          "output_type": "display_data"
        }
      ],
      "source": [
        "from pytorch_lightning.callbacks import EarlyStopping, LearningRateMonitor\n",
        "from pytorch_lightning.loggers import TensorBoardLogger\n",
        "import pytorch_lightning as pl\n",
        "from pytorch_forecasting import Baseline, TemporalFusionTransformer, TimeSeriesDataSet\n",
        "from pytorch_forecasting.metrics import SMAPE, PoissonLoss, QuantileLoss\n",
        "\n",
        "import tensorflow as tf\n",
        "import tensorboard as tb\n",
        "tf.io.gfile = tb.compat.tensorflow_stub.io.gfile\n",
        "\n",
        "early_stop_callback = EarlyStopping(monitor=\"val_loss\", min_delta=1e-4, patience=5, verbose=True, mode=\"min\")\n",
        "lr_logger = LearningRateMonitor()  \n",
        "logger = TensorBoardLogger(\"lightning_logs\")\n",
        "\n",
        "\n",
        "trainer = pl.Trainer(\n",
        "    max_epochs=5,\n",
        "    #accelerator='gpu', \n",
        "    devices=1,\n",
        "    enable_model_summary=True,\n",
        "    gradient_clip_val=0.1,\n",
        "    callbacks=[lr_logger, early_stop_callback],\n",
        "    logger=logger)\n",
        "\n",
        "tft = TemporalFusionTransformer.from_dataset(\n",
        "    training,\n",
        "    learning_rate=0.001,\n",
        "    hidden_size=160,\n",
        "    attention_head_size=4,\n",
        "    dropout=0.1,\n",
        "    hidden_continuous_size=160,\n",
        "    output_size=7,  # there are 7 quantiles by default: [0.02, 0.1, 0.25, 0.5, 0.75, 0.9, 0.98]\n",
        "    loss=QuantileLoss(),\n",
        "    log_interval=10, \n",
        "    reduce_on_plateau_patience=4)\n",
        "\n",
        "trainer.fit(\n",
        "    tft,\n",
        "    train_dataloaders=train_dataloader,\n",
        "    val_dataloaders=val_dataloader)"
      ]
    },
    {
      "cell_type": "code",
      "execution_count": 12,
      "metadata": {
        "id": "U38le0wyQQ9p",
        "colab": {
          "base_uri": "https://localhost:8080/"
        },
        "outputId": "659d11dc-7e08-4769-c51f-03b82f13f8d6"
      },
      "outputs": [
        {
          "output_type": "stream",
          "name": "stdout",
          "text": [
            "lightning_logs/lightning_logs/version_0/checkpoints/epoch=4-step=2340.ckpt\n"
          ]
        },
        {
          "output_type": "stream",
          "name": "stderr",
          "text": [
            "/usr/local/lib/python3.8/dist-packages/pytorch_lightning/utilities/parsing.py:262: UserWarning: Attribute 'loss' is an instance of `nn.Module` and is already saved during checkpointing. It is recommended to ignore them using `self.save_hyperparameters(ignore=['loss'])`.\n",
            "  rank_zero_warn(\n",
            "/usr/local/lib/python3.8/dist-packages/pytorch_lightning/utilities/parsing.py:262: UserWarning: Attribute 'logging_metrics' is an instance of `nn.Module` and is already saved during checkpointing. It is recommended to ignore them using `self.save_hyperparameters(ignore=['logging_metrics'])`.\n",
            "  rank_zero_warn(\n"
          ]
        }
      ],
      "source": [
        "best_model_path = trainer.checkpoint_callback.best_model_path\n",
        "print(best_model_path)\n",
        "best_tft = TemporalFusionTransformer.load_from_checkpoint(best_model_path)"
      ]
    },
    {
      "cell_type": "code",
      "execution_count": 15,
      "metadata": {
        "id": "tvLQ2G6hQlRi",
        "colab": {
          "base_uri": "https://localhost:8080/"
        },
        "outputId": "4cba9912-3e9e-4f28-e0e3-dea2b684bbe1"
      },
      "outputs": [
        {
          "output_type": "stream",
          "name": "stdout",
          "text": [
            "  adding: lightning_logs/lightning_logs/version_0/02340/ (stored 0%)\n",
            "  adding: lightning_logs/lightning_logs/version_0/02340/consumer_id/ (stored 0%)\n",
            "  adding: lightning_logs/lightning_logs/version_0/02340/consumer_id/metadata.tsv (deflated 40%)\n",
            "  adding: lightning_logs/lightning_logs/version_0/02340/consumer_id/tensors.tsv (deflated 47%)\n",
            "  adding: lightning_logs/lightning_logs/version_0/checkpoints/ (stored 0%)\n",
            "  adding: lightning_logs/lightning_logs/version_0/checkpoints/epoch=4-step=2340.ckpt (deflated 8%)\n",
            "  adding: lightning_logs/lightning_logs/version_0/events.out.tfevents.1675742420.1e32bdb57e56.415.0 (deflated 6%)\n",
            "  adding: lightning_logs/lightning_logs/version_0/hparams.yaml (deflated 91%)\n",
            "  adding: lightning_logs/lightning_logs/version_0/projector_config.pbtxt (deflated 39%)\n"
          ]
        }
      ],
      "source": [
        "!zip  -r model.zip lightning_logs/lightning_logs/version_0/*"
      ]
    },
    {
      "cell_type": "code",
      "execution_count": 17,
      "metadata": {
        "id": "iTZVSXkFRISu",
        "colab": {
          "base_uri": "https://localhost:8080/"
        },
        "outputId": "d645f81f-d423-46ef-caee-5cbbd8b890e2"
      },
      "outputs": [
        {
          "output_type": "stream",
          "name": "stdout",
          "text": [
            "Archive:  model.zip\n",
            "replace lightning_logs/lightning_logs/version_0/02340/consumer_id/metadata.tsv? [y]es, [n]o, [A]ll, [N]one, [r]ename: y\n",
            "  inflating: lightning_logs/lightning_logs/version_0/02340/consumer_id/metadata.tsv  \n",
            "replace lightning_logs/lightning_logs/version_0/02340/consumer_id/tensors.tsv? [y]es, [n]o, [A]ll, [N]one, [r]ename: y\n",
            "  inflating: lightning_logs/lightning_logs/version_0/02340/consumer_id/tensors.tsv  \n",
            "replace lightning_logs/lightning_logs/version_0/checkpoints/epoch=4-step=2340.ckpt? [y]es, [n]o, [A]ll, [N]one, [r]ename: y\n",
            "  inflating: lightning_logs/lightning_logs/version_0/checkpoints/epoch=4-step=2340.ckpt  \n",
            "replace lightning_logs/lightning_logs/version_0/events.out.tfevents.1675742420.1e32bdb57e56.415.0? [y]es, [n]o, [A]ll, [N]one, [r]ename: y\n",
            "  inflating: lightning_logs/lightning_logs/version_0/events.out.tfevents.1675742420.1e32bdb57e56.415.0  \n",
            "replace lightning_logs/lightning_logs/version_0/hparams.yaml? [y]es, [n]o, [A]ll, [N]one, [r]ename: y\n",
            "  inflating: lightning_logs/lightning_logs/version_0/hparams.yaml  \n",
            "replace lightning_logs/lightning_logs/version_0/projector_config.pbtxt? [y]es, [n]o, [A]ll, [N]one, [r]ename: y\n",
            "  inflating: lightning_logs/lightning_logs/version_0/projector_config.pbtxt  \n"
          ]
        },
        {
          "output_type": "stream",
          "name": "stderr",
          "text": [
            "/usr/local/lib/python3.8/dist-packages/pytorch_lightning/utilities/parsing.py:262: UserWarning: Attribute 'loss' is an instance of `nn.Module` and is already saved during checkpointing. It is recommended to ignore them using `self.save_hyperparameters(ignore=['loss'])`.\n",
            "  rank_zero_warn(\n",
            "/usr/local/lib/python3.8/dist-packages/pytorch_lightning/utilities/parsing.py:262: UserWarning: Attribute 'logging_metrics' is an instance of `nn.Module` and is already saved during checkpointing. It is recommended to ignore them using `self.save_hyperparameters(ignore=['logging_metrics'])`.\n",
            "  rank_zero_warn(\n"
          ]
        }
      ],
      "source": [
        "#load our saved model again\n",
        "!unzip model.zip\n",
        "best_model_path='lightning_logs/lightning_logs/version_0/checkpoints/epoch=4-step=2340.ckpt'\n",
        "best_tft = TemporalFusionTransformer.load_from_checkpoint(best_model_path)"
      ]
    },
    {
      "cell_type": "code",
      "execution_count": 18,
      "metadata": {
        "id": "9MEcZQqsRMzW",
        "colab": {
          "base_uri": "https://localhost:8080/",
          "height": 392
        },
        "outputId": "7c29f0da-9dcb-41bb-cde0-54bf39a5ff40"
      },
      "outputs": [
        {
          "output_type": "display_data",
          "data": {
            "text/plain": [
              "ERROR: Failed to launch TensorBoard (exited with 2).\n",
              "Contents of stderr:\n",
              "usage: tensorboard [-h] [--helpfull] [--logdir PATH] [--logdir_spec PATH_SPEC]\n",
              "                   [--host ADDR] [--bind_all] [--port PORT]\n",
              "                   [--reuse_port BOOL] [--load_fast {false,auto,true}]\n",
              "                   [--extra_data_server_flags EXTRA_DATA_SERVER_FLAGS]\n",
              "                   [--grpc_creds_type {local,ssl,ssl_dev}]\n",
              "                   [--grpc_data_provider PORT] [--purge_orphaned_data BOOL]\n",
              "                   [--db URI] [--db_import] [--inspect] [--version_tb]\n",
              "                   [--tag TAG] [--event_file PATH] [--path_prefix PATH]\n",
              "                   [--window_title TEXT] [--max_reload_threads COUNT]\n",
              "                   [--reload_interval SECONDS] [--reload_task TYPE]\n",
              "                   [--reload_multifile BOOL]\n",
              "                   [--reload_multifile_inactive_secs SECONDS]\n",
              "                   [--generic_data TYPE]\n",
              "                   [--samples_per_plugin SAMPLES_PER_PLUGIN]\n",
              "                   [--detect_file_replacement BOOL]\n",
              "                   [--whatif-use-unsafe-custom-prediction YOUR_CUSTOM_PREDICT_FUNCTION.py]\n",
              "                   [--whatif-data-dir PATH]\n",
              "                   {serve,dev} ...\n",
              "tensorboard: error: invalid choice: '-' (choose from 'serve', 'dev')"
            ]
          },
          "metadata": {}
        }
      ],
      "source": [
        "# Start tensorboard\n",
        "%load_ext tensorboard\n",
        "%tensorboard - logdir lightning_logs"
      ]
    },
    {
      "cell_type": "code",
      "execution_count": 20,
      "metadata": {
        "id": "RIrGEUEvRRSN",
        "colab": {
          "base_uri": "https://localhost:8080/"
        },
        "outputId": "3ea4d2cb-1943-419c-fe83-9886c4ae19e0"
      },
      "outputs": [
        {
          "output_type": "stream",
          "name": "stdout",
          "text": [
            "6.695115089416504\n",
            "tensor([ 1.5229,  8.0999,  2.7659,  8.3458, 12.7411])\n",
            "tensor([[ 31.1166,  25.9602,  24.7155,  24.7155,  24.5377,  27.7383,  29.1607,\n",
            "          29.6942,  30.0498,  35.2063,  34.8506,  34.8506,  33.9616,  33.0725,\n",
            "          32.0057,  31.4723,  30.0498,  30.4054,  31.4723,  34.8506,  34.8506,\n",
            "          32.8947,  32.1835,  31.6501],\n",
            "        [134.1463, 109.7561,  95.0203,  94.5122,  97.5610,  92.4797,  74.1870,\n",
            "          66.0569,  91.9715, 104.6748, 119.9187, 142.7845, 132.1138, 110.7724,\n",
            "         109.2480,  94.0041,  99.0854,  90.9553, 112.2967, 124.4919, 153.9634,\n",
            "         149.3902, 139.7358, 136.6870],\n",
            "        [ 45.1220,  44.8171,  38.7195,  34.7561,  35.6707,  36.2805,  32.0122,\n",
            "          24.0854,  23.4756,  25.3049,  34.1463,  32.6220,  45.7317,  33.5366,\n",
            "          26.8293,  25.3049,  27.1341,  28.3537,  30.4878,  31.7073,  35.3659,\n",
            "          48.1707,  50.9146,  54.5732],\n",
            "        [152.5298, 140.6250, 133.9286, 122.7679, 116.0714, 112.3512, 108.6310,\n",
            "          93.7500, 107.8869, 128.7202, 154.7619, 183.7798, 216.5179, 165.9226,\n",
            "         145.8333, 134.6726, 114.5833, 118.3036, 119.7917, 127.9762, 168.1548,\n",
            "         200.8929, 177.0833, 162.9464],\n",
            "        [235.6902, 206.2290, 199.4949, 218.8552, 222.2222, 215.4882, 204.5455,\n",
            "         186.8687, 190.2357, 188.5522, 217.1717, 252.5253, 281.9865, 237.3737,\n",
            "         212.9630, 220.5387, 229.7980, 232.3232, 221.3805, 249.1582, 303.0303,\n",
            "         306.3973, 279.4613, 250.8418]])\n",
            "tensor([[ 31.7114,  28.2488,  25.9286,  25.7724,  26.8164,  28.6670,  31.3739,\n",
            "          33.0244,  34.3468,  35.1233,  35.9294,  36.5879,  36.3691,  33.7213,\n",
            "          32.6519,  31.9919,  31.5672,  31.6692,  33.4586,  36.7297,  37.5710,\n",
            "          34.2468,  32.3231,  31.2827],\n",
            "        [116.5867, 101.8993,  92.9995,  90.6226,  91.4630,  89.8623,  78.1948,\n",
            "          73.9694,  82.6203,  95.4911, 118.2154, 136.4273, 128.1897, 101.4811,\n",
            "          95.0851,  91.5189,  89.3252,  89.6438,  96.2982, 109.7996, 127.2488,\n",
            "         142.9435, 140.4709, 126.3692],\n",
            "        [ 43.3257,  39.3031,  36.3807,  34.8573,  34.1730,  33.5594,  31.0846,\n",
            "          26.7578,  25.8848,  26.9298,  28.6490,  30.4011,  31.0402,  28.6912,\n",
            "          27.7918,  27.2482,  27.0526,  27.6552,  30.0119,  33.7479,  39.8245,\n",
            "          48.7476,  51.0416,  48.4143],\n",
            "        [154.8712, 136.5381, 125.4074, 121.3310, 120.4166, 118.9168, 111.1415,\n",
            "         104.8332, 116.0467, 135.6104, 154.5693, 172.7865, 188.8378, 159.5206,\n",
            "         149.9254, 141.8067, 134.4224, 130.2345, 134.3420, 143.0340, 159.0921,\n",
            "         191.7522, 184.5661, 162.1459],\n",
            "        [240.0287, 218.0830, 204.8950, 231.2095, 226.7267, 218.3647, 201.9551,\n",
            "         183.1926, 196.5520, 217.9084, 242.8806, 261.0283, 267.5977, 215.8206,\n",
            "         205.1907, 201.7773, 201.8318, 206.9153, 223.2596, 252.7238, 280.7580,\n",
            "         281.0420, 264.2538, 246.6645]])\n"
          ]
        }
      ],
      "source": [
        "actuals = torch.cat([y[0] for x, y in iter(val_dataloader)])\n",
        "predictions = best_tft.predict(val_dataloader)\n",
        "\n",
        "#average p50 loss overall\n",
        "print((actuals - predictions).abs().mean().item())\n",
        "#average p50 loss per time series\n",
        "print((actuals - predictions).abs().mean(axis=1))\n",
        "print(actuals)\n",
        "print(predictions)\n",
        "\n",
        "# ➢6.686748027801514\n",
        "# ➢tensor([ 1.5708,  8.7656,  1.9709,  8.1660, 12.9604])"
      ]
    },
    {
      "cell_type": "code",
      "execution_count": null,
      "metadata": {
        "id": "g6LWnxtaRSSJ"
      },
      "outputs": [],
      "source": [
        "#Take a look at what the raw_predictions variable contains\n",
        "\n",
        "raw_predictions, x = best_tft.predict(val_dataloader, mode=\"raw\", return_x=True)\n",
        "print(raw_predictions._fields)\n",
        "# ('prediction', \n",
        "# 'encoder_attention', \n",
        "# 'decoder_attention', \n",
        "# 'static_variables', \n",
        "# 'encoder_variables', \n",
        "# 'decoder_variables', \n",
        "# 'decoder_lengths', \n",
        "# 'encoder_lengths')\n",
        "\n",
        "print('\\n')\n",
        "print(raw_predictions['prediction'].shape)\n",
        "#torch.Size([5, 24, 7])\n",
        "\n",
        "# We get predictions of 5 time-series for 24 days.\n",
        "# For each day we get 7 predictions - these are the 7 quantiles:\n",
        "#[0.02, 0.1, 0.25, 0.5, 0.75, 0.9, 0.98]\n",
        "# We are mostly interested in the 4th quantile which represents, let's say, the 'median loss'\n",
        "# fyi, although docs use the term quantiles, the most accurate term are percentiles"
      ]
    },
    {
      "cell_type": "code",
      "execution_count": null,
      "metadata": {
        "id": "TxNSilN-RdBT"
      },
      "outputs": [],
      "source": [
        "for idx in range(5):  # plot all 5 consumers\n",
        "    fig, ax = plt.subplots(figsize=(10, 4))\n",
        "    best_tft.plot_prediction(x, raw_predictions, idx=idx, add_loss_to_title=True,ax=ax)\n"
      ]
    },
    {
      "cell_type": "code",
      "execution_count": null,
      "metadata": {
        "id": "dnFO0R4TRmJE"
      },
      "outputs": [],
      "source": [
        "fig, ax = plt.subplots(figsize=(10, 5))\n",
        "\n",
        "raw_prediction, x = best_tft.predict(\n",
        "    training.filter(lambda x: (x.consumer_id == \"MT_004\") & (x.time_idx_first_prediction == 26512)),\n",
        "    mode=\"raw\",\n",
        "    return_x=True,\n",
        ")\n",
        "best_tft.plot_prediction(x, raw_prediction, idx=0, ax=ax);"
      ]
    },
    {
      "cell_type": "code",
      "execution_count": null,
      "metadata": {
        "id": "bzoW9FBzRsKG"
      },
      "outputs": [],
      "source": [
        "#encoder data is the last lookback window: we get the last 1 week (168 datapoints) for all 5 consumers = 840 total datapoints\n",
        "\n",
        "encoder_data = time_df[lambda x: x.hours_from_start > x.hours_from_start.max() - max_encoder_length]\n",
        "last_data = time_df[lambda x: x.hours_from_start == x.hours_from_start.max()]\n",
        "\n",
        "#decoder_data is the new dataframe for which we will create predictions. \n",
        "#decoder_data df should be max_prediction_length*consumers = 24*5=120 datapoints long : 24 datapoints for each cosnumer\n",
        "#we create it by repeating the last hourly observation of every consumer 24 times since we do not really have new test data\n",
        "#and later we fix the columns\n",
        "\n",
        "decoder_data = pd.concat(\n",
        "    [last_data.assign(date=lambda x: x.date + pd.offsets.Hour(i)) for i in range(1, max_prediction_length + 1)],\n",
        "    ignore_index=True,\n",
        ")\n",
        "\n",
        "#fix the new columns\n",
        "decoder_data[\"hours_from_start\"] = (decoder_data[\"date\"] - earliest_time).dt.seconds / 60 / 60 + (decoder_data[\"date\"] - earliest_time).dt.days * 24\n",
        "decoder_data['hours_from_start'] = decoder_data['hours_from_start'].astype('int')\n",
        "decoder_data[\"hours_from_start\"] += encoder_data[\"hours_from_start\"].max() + 1 - decoder_data[\"hours_from_start\"].min()\n",
        "\n",
        "decoder_data[\"month\"] = decoder_data[\"date\"].dt.month.astype(np.int64)\n",
        "decoder_data[\"hour\"] = decoder_data[\"date\"].dt.hour.astype(np.int64)\n",
        "decoder_data[\"day\"] = decoder_data[\"date\"].dt.day.astype(np.int64)\n",
        "decoder_data[\"day_of_week\"] = decoder_data[\"date\"].dt.dayofweek.astype(np.int64)\n",
        "\n",
        "new_prediction_data = pd.concat([encoder_data, decoder_data], ignore_index=True)\n",
        "\n",
        "fig, ax = plt.subplots(figsize=(10, 5))\n",
        "\n",
        "#create out-of-sample predictions for MT_002\n",
        "new_prediction_data=new_prediction_data.query(\" consumer_id == 'MT_002'\")\n",
        "new_raw_predictions, new_x = best_tft.predict(new_prediction_data, mode=\"raw\", return_x=True)\n",
        "best_tft.plot_prediction(new_x, new_raw_predictions, idx=0, show_future_observed=False, ax=ax);\n"
      ]
    },
    {
      "cell_type": "code",
      "execution_count": null,
      "metadata": {
        "id": "kqkt0OAUR5KQ"
      },
      "outputs": [],
      "source": [
        "raw_predictions, x = best_tft.predict(val_dataloader, mode=\"raw\", return_x=True)\n",
        "interpretation = best_tft.interpret_output(raw_predictions, reduction=\"sum\")\n",
        "best_tft.plot_interpretation(interpretation)"
      ]
    },
    {
      "cell_type": "code",
      "execution_count": null,
      "metadata": {
        "id": "gsck9v2RSAB7"
      },
      "outputs": [],
      "source": [
        "#Analysis on the training set\n",
        "\n",
        "predictions, x = best_tft.predict(train_dataloader, return_x=True)\n",
        "predictions_vs_actuals = best_tft.calculate_prediction_actual_by_variable(x, predictions)\n",
        "best_tft.plot_prediction_actual_by_variable(predictions_vs_actuals);"
      ]
    },
    {
      "cell_type": "code",
      "execution_count": null,
      "metadata": {
        "id": "obKzaa36SK7X"
      },
      "outputs": [],
      "source": [
        "# create a new study\n",
        "study = optimize_hyperparameters(\n",
        "    train_dataloader,\n",
        "    val_dataloader,\n",
        "    model_path=\"optuna_test\",\n",
        "    n_trials=1,\n",
        "    max_epochs=1,\n",
        "    gradient_clip_val_range=(0.01, 1.0),\n",
        "    hidden_size_range=(30, 128),\n",
        "    hidden_continuous_size_range=(30, 128),\n",
        "    attention_head_size_range=(1, 4),\n",
        "    learning_rate_range=(0.001, 0.1),\n",
        "    dropout_range=(0.1, 0.3),\n",
        "    reduce_on_plateau_patience=4,\n",
        "    use_learning_rate_finder=False \n",
        ")\n",
        "\n",
        "# save study results\n",
        "with open(\"test_study.pkl\", \"wb\") as fout:\n",
        "    pickle.dump(study, fout)\n",
        "\n",
        "# print best hyperparameters\n",
        "print(study.best_trial.params)"
      ]
    }
  ],
  "metadata": {
    "colab": {
      "provenance": [],
      "authorship_tag": "ABX9TyNdCtglUlpsKBIk9eZSwkqw",
      "include_colab_link": true
    },
    "kernelspec": {
      "display_name": "Python 3",
      "name": "python3"
    },
    "language_info": {
      "name": "python"
    }
  },
  "nbformat": 4,
  "nbformat_minor": 0
}