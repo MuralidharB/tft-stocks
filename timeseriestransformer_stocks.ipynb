{
  "cells": [
    {
      "cell_type": "markdown",
      "metadata": {
        "id": "view-in-github",
        "colab_type": "text"
      },
      "source": [
        "<a href=\"https://colab.research.google.com/github/MuralidharB/tft-stocks/blob/master/timeseriestransformer_stocks.ipynb\" target=\"_parent\"><img src=\"https://colab.research.google.com/assets/colab-badge.svg\" alt=\"Open In Colab\"/></a>"
      ]
    },
    {
      "cell_type": "markdown",
      "metadata": {
        "id": "C4H0ganQCvdw"
      },
      "source": [
        "This notebook uses time series transformer in https://huggingface.co/blog/time-series-transformers to implement stock price predictor"
      ]
    },
    {
      "cell_type": "code",
      "execution_count": null,
      "metadata": {
        "id": "uN36MU-CEbtw"
      },
      "outputs": [],
      "source": [
        "# Installation\n",
        "!pip install --upgrade mxnet==1.6.0\n",
        "!pip install gluonts\n",
        "!pip install yfinance\n",
        "!pip install datasets\n",
        "!pip install transformers\n",
        "!pip install accelerate\n",
        "!pip install torch\n",
        "!pip install evaluate\n",
        "!pip install torchviz"
      ]
    },
    {
      "cell_type": "code",
      "source": [
        "load_from_pretrained = True # loads parameters and configuration from saved directory\n",
        "model_save_path = \"sample_data/timeseriestransformer-stocks\" # model saved directory path\n",
        "skip_training = False  # skip training if the model is loaded from pretained\n",
        "epoches = 2"
      ],
      "metadata": {
        "id": "hYDVSU5ec2ta"
      },
      "execution_count": null,
      "outputs": []
    },
    {
      "cell_type": "code",
      "execution_count": null,
      "metadata": {
        "id": "ZtB77RObE0jz"
      },
      "outputs": [],
      "source": [
        "import yfinance as yahooFinance\n",
        "import tensorflow as tf\n",
        "import pandas as pd\n",
        "import sklearn\n",
        "import matplotlib.pyplot as plt\n",
        "\n",
        "stocks = [\"AAPL\", '^IXIC', '^GSPC', '^DJI','MSFT', 'GOOG', 'GOOGL', 'AMZN', 'UNH', 'XOM', 'JNJ', 'V', 'JPM', 'NVDA']\n",
        "stocks1 = ['AAPL', 'MSFT', 'GOOG', 'GOOGL', 'AMZN', 'UNH', 'XOM', 'JNJ', 'V', 'JPM', 'NVDA',\n",
        "          'WMT', 'TSLA', 'PG', 'META', 'MA', 'CVX', 'LLY', 'HD', 'ABBV', 'MRK', 'BAC', 'KO', \n",
        "          'PFE', 'PEP', 'AVGO', 'ORCL', 'TMO', 'COST', 'CSCO', 'ABT', 'MCD', 'NKE', 'DHR', \n",
        "          'TMUS', 'ACN', 'DIS', 'VZ', 'NEE', 'CMCSA', 'WFC', 'TXN', 'LIN', 'PM', 'UPS', 'ADBE', \n",
        "          'BMY', 'SCHW', 'MS', 'CRM', 'COP', 'RTX', 'AMGN', 'NFLX', 'HON', 'T', 'UNP', 'QCOM', \n",
        "          'IBM', 'DE', 'CAT', 'LOW', 'BA', 'SBUX', 'INTC', 'SPGI', 'LMT', 'GS', 'CVS', 'BLK', \n",
        "          'AXP', 'ELV', 'AMD', 'GILD', 'INTU', 'PLD', 'MDT', 'AMT', 'ADP', 'SYK', 'ISRG', \n",
        "          'TJX', 'EL', 'C', 'CB', 'CI', 'MDLZ', 'AMAT', 'PYPL', 'ADI', 'BKNG', 'MMC', 'MO', 'GE', \n",
        "          'DUK', 'SLB', 'SO', 'PGR', 'NOW', 'NOC', 'VRTX', 'EOG', 'REGN', 'ZTS', 'TGT', 'MRNA', 'BDX', \n",
        "          'MMM', 'HCA', 'USB', 'ITW', 'APD', 'CSX', 'GD', 'PNC', 'BSX', 'CL', 'WM', 'EQIX', 'FISV', 'FCX', \n",
        "          'CME', 'ETN', 'CCI', 'AON', 'SHW', 'LRCX', 'MU', 'TFC', 'HUM', 'ATVI', 'ICE', 'KLAC', 'NSC', \n",
        "          'CHTR', 'OXY', 'EMR', 'MET', 'PXD', 'MPC', 'MCO', 'MCK', 'DG', 'GM', 'MNST', 'KHC', 'ORLY', \n",
        "          'D', 'VLO', 'SNPS', 'SRE', 'F', 'KDP', 'AEP', 'GIS', 'PSA', 'MAR', 'PSX', 'ROP', 'FDX', 'EW', \n",
        "          'ADM', 'APH', 'AIG', 'JCI', 'HSY', 'A', 'KMB', 'AZO', 'CTAS', 'CDNS', 'TRV', 'AFL', 'HES', 'CTVA', \n",
        "          'MSI', 'EXC', 'ECL', 'CNC', 'NXPI', 'DXCM', 'PAYX', 'NEM', 'KMI', 'ADSK', 'TT', 'MCHP', 'DVN', \n",
        "          'ROST', 'LVS', 'FIS', 'AJG', 'STZ', 'BIIB', 'SYY', 'CMG', 'O', 'RSG', 'IQV', 'PH', 'XEL', 'DOW', \n",
        "          'SPG', 'WMB', 'TEL', 'MSCI', 'IDXX', 'BK', 'NUE', 'LHX', 'FTNT', 'COF', 'ALL', 'HAL', 'PRU', 'CARR', \n",
        "          'DD', 'TDG', 'YUM', 'ANET', 'HLT', 'PCAR', 'CMI', 'ED', 'ABC', 'EA', 'AMP', 'OTIS', 'WELL', 'MTD', \n",
        "          'ODFL', 'SBAC', 'KR', 'AME', 'DLTR', 'VICI', 'DHI', 'ROK', 'WBA', 'KEYS', 'PEG', 'PCG', 'CSGP', \n",
        "          'CTSH', 'ENPH', 'RMD', 'OKE', 'WEC', 'BKR', 'NDAQ', 'WBD', 'ILMN', 'PPG', 'GLW', 'STT', 'LYB', \n",
        "          'ES', 'IFF', 'DLR', 'AWK', 'VRSK', 'DFS', 'HPQ', 'GWW', 'GPN', 'WTW', 'ON', 'FAST', 'LEN', 'CEG', \n",
        "          'APTV', 'TROW', 'URI', 'IT', 'ALB', 'CBRE', 'ZBH', 'EIX', 'MTB', 'CDW', 'ULTA', 'EFX', 'HRL', 'FANG', \n",
        "          'TSCO', 'EBAY', 'DAL', 'FE', 'VMC', 'HIG', 'ARE', 'K', 'RJF', 'GPC', 'TSN', 'FITB', 'WY', 'FTV', \n",
        "          'ACGL', 'DTE', 'BAX', 'AEE', 'IR', 'AVB', 'FRC', 'MKC', 'VRSN', 'PPL', 'EQR', 'ETR', 'HPE', 'LH', \n",
        "          'ANSS', 'LUV', 'PFG', 'MLM', 'HBAN', 'XYL', 'RF', 'CAH', 'WAT', 'CFG', 'STE', 'PWR', 'CHD', 'HOLX', \n",
        "          'CTRA', 'NTRS', 'VTR', 'EXR', 'DOV', 'CAG', 'CNP', 'WRB', 'TDY', 'GRMN', 'CMS', 'EPAM', 'STLD', 'BBY', \n",
        "          'WST', 'WAB', 'DRI', 'FSLR', 'INVH', 'MPWR', 'AES', 'JBHT', 'ALGN', 'AMCR', 'ROL', 'PAYC', 'MAA', 'IEX', \n",
        "          'INCY', 'TTWO', 'BALL', 'OMC', 'CLX', 'DGX', 'CINF', 'EXPD', 'MRO', 'MOH', 'KEY', 'COO', 'BRO', 'TRGP', \n",
        "          'SEDG', 'FOX', 'FOXA', 'PKI', 'SJM', 'HWM', 'CPB', 'LYV', 'BR', 'CF', 'FMC', 'J', 'ATO', 'ETSY', 'FDS', \n",
        "          'SWKS', 'UAL', 'ZBRA', 'NVR', 'AVY', 'MOS', 'SIVB', 'PTC', 'RCL', 'LKQ', 'MGM', 'SYF', 'TXT', 'TER', \n",
        "          'EVRG', 'CPRT', 'BEN', 'IRM', 'VTRS', 'EXPE', 'FLT', 'LW', 'GEN', 'PEAK', 'L', 'KIM', 'APA', 'IPG', \n",
        "          'ESS', 'NTAP', 'RE', 'NDSN', 'LNT', 'AKAM', 'LDOS', 'IP', 'TYL', 'TRMB', 'SNA', 'UDR', 'PARA', 'JKHY', \n",
        "          'CBOE', 'CE', 'BIO', 'POOL', 'MTCH', 'EQT', 'SWK', 'PKG', 'WDC', 'TFX', 'MKTX', 'CPT', 'DPZ', 'CRL', 'GL', \n",
        "          'STX', 'HST', 'VFC', 'MAS', 'NWS', 'NWSA', 'NI', 'PHM', 'CHRW', 'WYNN', 'HSIC', 'CCL', 'EMN', 'KMX', 'REG', \n",
        "          'BXP', 'UHS', 'BBWI', 'JNPR', 'TPR', 'BWA', 'AAL', 'ALLE', 'QRVO', 'CZR', 'CDAY', 'WRK', 'AOS', 'AAP', 'HII', \n",
        "          'HAS', 'IVZ', 'CMA', 'FFIV', 'CTLT', 'PNW', 'WHR', 'FRT', 'RHI', 'PNR', 'DISH', 'SEE', 'RL', 'ZION', 'OGN', \n",
        "          'NRG', 'XRAY', 'MHK', 'DVA', 'SBNY', 'GNRC', 'AIZ', 'DXC', 'NWL', 'ALK', 'NCLH', 'LUMN', 'LNC', 'VNO', 'TECH', \n",
        "          'TAP', '^IXIC', '^GSPC', '^DJI']\n",
        "\n",
        "stocks_ts = pd.DataFrame()\n",
        "for stock in stocks:\n",
        "    data = yahooFinance.Ticker(stock).history(period=\"10y\")\n",
        "    d = data.copy()[['Open', 'Volume']]\n",
        "    stocks_ts.insert(0, stock+\"_Open\", d['Open'])\n",
        "    stocks_ts.insert(0, stock+\"_Volume\", d['Volume'])\n",
        "\n",
        "print(stocks_ts)\n",
        "\n",
        "# add other indicators\n",
        "# inflation rate, interest rate, employment\n",
        "\n",
        "fig, axs = plt.subplots(5, 2, figsize=(20, 20), sharex=True)\n",
        "axx = axs.ravel()\n",
        "for i in range(0, 10):\n",
        "    stocks_ts[stocks_ts.columns[i]].plot(ax=axx[i])\n",
        "    axx[i].set_xlabel(\"date\")    \n",
        "    axx[i].set_ylabel(\"Open\")   \n",
        "    axx[i].grid(which='minor', axis='x')"
      ]
    },
    {
      "cell_type": "code",
      "execution_count": null,
      "metadata": {
        "id": "WzUsBWZPE-Bj"
      },
      "outputs": [],
      "source": [
        "import pandas as pd\n",
        "infvalues=pd.read_csv(\"sample_data/Book2.csv\")\n",
        "infvalues=infvalues.drop([\"Year\", \"Annual\"], axis=1).values\n",
        "inf=[]\n",
        "for i in infvalues:\n",
        "  inf = inf + list(i)\n",
        "\n",
        "dti=pd.date_range(start=\"1948-01-01 00:00:00-05:00\", end=\"2023-12-31 00:00:00-05:00\", freq=\"M\")\n",
        "\n",
        "inf.reverse()\n",
        "csvdf=pd.DataFrame(inf)\n",
        "csvdf.index=dti\n",
        "\n",
        "dti=pd.date_range(start=\"1948-01-01 00:00:00-05:00\", end=\"2023-12-31 00:00:00-05:00\", freq=\"D\")\n",
        "dti.name = 'date'\n",
        "csvdf=csvdf.reindex(dti, method='ffill')\n",
        "csvdf.columns = [\"Rates\"]\n",
        "stocks_ts = stocks_ts.assign(Inflation=csvdf[\"Rates\"])"
      ]
    },
    {
      "cell_type": "code",
      "execution_count": null,
      "metadata": {
        "id": "HMe1o5ktFEBa"
      },
      "outputs": [],
      "source": [
        "import pandas as pd\n",
        "fedrates=pd.read_csv(\"sample_data/fed-funds-rate-historical-chart.csv\")\n",
        "\n",
        "#fedrates = fedrates.drop(\"date\", axis=1)\n",
        "dti=pd.date_range(start=\"1955-12-12 00:00:00-05:00\", end=\"2023-01-31 00:00:00-05:00\", freq=\"D\")\n",
        "fedrates.index = dti\n",
        "stocks_ts = stocks_ts.assign(InterestRates=fedrates[\"value\"])"
      ]
    },
    {
      "cell_type": "code",
      "source": [
        "import pandas as pd\n",
        "\n",
        "crudeprices=pd.read_csv(\"sample_data/crudeoil.csv\")\n",
        "crudeprices['Datetime'] = pd.to_datetime(crudeprices['date'] + \" 00:00:00-05:00\")\n",
        "crudeprices = crudeprices.set_index('Datetime')\n",
        "\n",
        "crudeprices.resample('1D').mean().ffill()\n",
        "crudeprices = crudeprices.drop(\"date\", axis=1)\n",
        "\n",
        "dti=pd.date_range(start=\"2010-01-21 00:00:00-05:00\", end=\"2023-02-02 00:00:00-05:00\", freq=\"D\")\n",
        "crudeprices=crudeprices.reindex(dti, method='ffill')\n",
        "print(crudeprices.head())\n",
        "stocks_ts = stocks_ts.assign(CrudeRates=crudeprices[\"value\"])"
      ],
      "metadata": {
        "colab": {
          "base_uri": "https://localhost:8080/"
        },
        "id": "Eo48W2TCbFKE",
        "outputId": "c6266917-7fb3-4a53-f664-fdb89093e3a7"
      },
      "execution_count": null,
      "outputs": [
        {
          "output_type": "stream",
          "name": "stdout",
          "text": [
            "                           value\n",
            "2010-01-21 00:00:00-05:00  75.84\n",
            "2010-01-22 00:00:00-05:00  74.25\n",
            "2010-01-23 00:00:00-05:00  74.25\n",
            "2010-01-24 00:00:00-05:00  74.25\n",
            "2010-01-25 00:00:00-05:00  74.90\n"
          ]
        }
      ]
    },
    {
      "cell_type": "code",
      "source": [
        "import pandas as pd\n",
        "\n",
        "vix=pd.read_csv(\"sample_data/vix-volatility-index-historical-chart.csv\")\n",
        "vix['Datetime'] = pd.to_datetime(vix['date'] + \" 00:00:00-05:00\")\n",
        "vix = vix.set_index('Datetime')\n",
        "\n",
        "vix.resample('1D').mean().ffill()\n",
        "vix = vix.drop(\"date\", axis=1)\n",
        "\n",
        "dti=pd.date_range(start=\"1990-01-02 00:00:00-05:00\", end=\"2023-02-08 00:00:00-05:00\", freq=\"D\")\n",
        "vix=vix.reindex(dti, method='ffill')\n",
        "print(vix)\n",
        "stocks_ts = stocks_ts.assign(Vix=vix[\"value\"])"
      ],
      "metadata": {
        "colab": {
          "base_uri": "https://localhost:8080/"
        },
        "id": "ItBMm1RSnXgV",
        "outputId": "eb3a92e3-bfd4-4945-f51b-483e8133cac7"
      },
      "execution_count": null,
      "outputs": [
        {
          "output_type": "stream",
          "name": "stdout",
          "text": [
            "                           value\n",
            "1990-01-02 00:00:00-05:00  17.24\n",
            "1990-01-03 00:00:00-05:00  18.19\n",
            "1990-01-04 00:00:00-05:00  19.22\n",
            "1990-01-05 00:00:00-05:00  20.11\n",
            "1990-01-06 00:00:00-05:00  20.11\n",
            "...                          ...\n",
            "2023-02-04 00:00:00-05:00  20.34\n",
            "2023-02-05 00:00:00-05:00  20.34\n",
            "2023-02-06 00:00:00-05:00  20.34\n",
            "2023-02-07 00:00:00-05:00  20.34\n",
            "2023-02-08 00:00:00-05:00  20.34\n",
            "\n",
            "[12091 rows x 1 columns]\n"
          ]
        }
      ]
    },
    {
      "cell_type": "code",
      "source": [
        "import pandas as pd\n",
        "from datetime import datetime\n",
        "\n",
        "pcr=pd.read_csv(\"sample_data/pcr.csv\")\n",
        "pcr[\"date\"] = [datetime.fromtimestamp(x/1000) for x in pcr[\"date\"]]\n",
        "pcr[\"date\"] = [str(x.date()) + \" 00:00:00-05:00\" for x in pcr[\"date\"]]\n",
        "pcr = pcr.drop_duplicates(subset='date', keep=\"first\")\n",
        "pcr['Datetime'] = pd.to_datetime(pcr['date'])\n",
        "pcr = pcr.set_index(\"Datetime\")\n",
        "\n",
        "pcr.resample('1D').mean().ffill()\n",
        "pcr = pcr.drop(\"date\", axis=1)\n",
        "\n",
        "dti = pd.date_range(start=\"2006-10-31 00:00:00-05:00\", end=\"2023-01-20 00:00:00-05:00\", freq=\"D\")\n",
        "\n",
        "pcr = pcr.reindex(dti, method='ffill')\n",
        "print(pcr)\n",
        "stocks_ts = stocks_ts.assign(Pcr=pcr[\"value\"])\n",
        "print(stocks_ts)"
      ],
      "metadata": {
        "id": "nSHIzouiv166"
      },
      "execution_count": null,
      "outputs": []
    },
    {
      "cell_type": "code",
      "execution_count": null,
      "metadata": {
        "id": "gSQ55fKTFaLA"
      },
      "outputs": [],
      "source": [
        "import pandas as pd\n",
        "unemplrates=pd.read_csv(\"sample_data/us-national-unemployment-rate.csv\")\n",
        "\n",
        "#fedrates = fedrates.drop(\"date\", axis=1)\n",
        "dti=pd.date_range(start=\"1948-01-01 00:00:00-05:00\", end=\"2023-07-01 00:00:00-05:00\", freq=\"M\")\n",
        "unemplrates.index = dti\n",
        "\n",
        "dti=pd.date_range(start=\"1948-01-01 00:00:00-05:00\", end=\"2023-07-01 00:00:00-05:00\", freq=\"D\")\n",
        "dti.name = 'date'\n",
        "unemplrates=unemplrates.reindex(dti, method='ffill')\n",
        "\n",
        "stocks_ts = stocks_ts.assign(UnemploymentRates=unemplrates[\"value\"])\n",
        "print(stocks_ts)"
      ]
    },
    {
      "cell_type": "code",
      "source": [
        "import pandas as pd\n",
        "\n",
        "macd=pd.read_csv(\"sample_data/macd.csv\")\n",
        "macd['Datetime'] = pd.to_datetime(macd['Trade Date'] + \" 00:00:00-05:00\")\n",
        "macd = macd.set_index(\"Datetime\")\n",
        "\n",
        "macd.resample('1D').mean().ffill()\n",
        "macd = macd.drop(\"Trade Date\", axis=1)\n",
        "\n",
        "dti = pd.date_range(start=\"2000-02-21 00:00:00-05:00\", end=\"2023-01-20 00:00:00-05:00\", freq=\"D\")\n",
        "\n",
        "macd = macd.reindex(dti, method='ffill')\n",
        "print(macd)\n",
        "\n",
        "stocks_ts = stocks_ts.assign(MACD=macd[\"MACD(26,12)\"])\n",
        "stocks_ts = stocks_ts.assign(EXP=macd[\"Exp(9)\"])\n",
        "stocks_ts = stocks_ts.assign(MacdHist=macd[\"Macd Histogram\"])\n",
        "print(stocks_ts)\n"
      ],
      "metadata": {
        "id": "TdyfOBGyM3rx"
      },
      "execution_count": null,
      "outputs": []
    },
    {
      "cell_type": "code",
      "execution_count": null,
      "metadata": {
        "id": "eYbpC9WYNVtK",
        "colab": {
          "base_uri": "https://localhost:8080/"
        },
        "outputId": "d00ead4a-5e8b-4879-b889-50bde963f4a3"
      },
      "outputs": [
        {
          "output_type": "stream",
          "name": "stdout",
          "text": [
            "2518 (2518, 37)\n",
            "2283 2283 2259 235 2518\n"
          ]
        }
      ],
      "source": [
        "train_data = stocks_ts[:-259]\n",
        "l = stocks_ts.shape[0]\n",
        "print(l, stocks_ts.shape)\n",
        "validation_data = stocks_ts[:-259+24]\n",
        "l = l - 259 + 24\n",
        "test_data = stocks_ts[l:]\n",
        "print(l, len(validation_data), len(train_data), len(test_data), len(stocks_ts))"
      ]
    },
    {
      "cell_type": "code",
      "execution_count": null,
      "metadata": {
        "id": "HzUfKL6uNW8X"
      },
      "outputs": [],
      "source": [
        "from gluonts.dataset.common import ListDataset\n",
        "from gluonts.dataset.field_names import FieldName\n",
        "\n",
        "\n",
        "def to_deepar_format(dataframe):\n",
        "    freq = pd.infer_freq(dataframe.index) \n",
        "    if not freq:\n",
        "        freq = 'D'\n",
        "    start_index = dataframe.index.min()\n",
        "    data = [{\n",
        "                FieldName.START:  start_index,\n",
        "                FieldName.TARGET:  dataframe[c].values,\n",
        "                FieldName.ITEM_ID: c,\n",
        "                FieldName.FEAT_STATIC_CAT: [idx],\n",
        "            } \n",
        "            for idx, c in enumerate(dataframe.columns)]\n",
        "    return ListDataset(data, freq=freq)\n",
        "train_data_lds = to_deepar_format(train_data)\n",
        "test_data_lds = to_deepar_format(test_data)\n",
        "validation_data_lds = to_deepar_format(validation_data)\n"
      ]
    },
    {
      "cell_type": "code",
      "execution_count": null,
      "metadata": {
        "id": "R7qMMxfCFfrg"
      },
      "outputs": [],
      "source": [
        "from datasets import Dataset, DatasetDict\n",
        "l = stocks_ts.shape[0]\n",
        "train = Dataset.from_pandas(stocks_ts[:-259])\n",
        "l = l-259\n",
        "validation = Dataset.from_pandas(stocks_ts[:-259+24])\n",
        "l = l + 24\n",
        "test = Dataset.from_pandas(stocks_ts[l:])\n",
        "dataset = DatasetDict({\"train\":train_data_lds, \"validation\":validation_data_lds, \"test\":test_data_lds})"
      ]
    },
    {
      "cell_type": "code",
      "execution_count": null,
      "metadata": {
        "id": "-HWxCzP2Fubo"
      },
      "outputs": [],
      "source": [
        "train_example = dataset['train'][1]\n",
        "train_example.keys()\n",
        "validation_example = dataset['validation'][1]\n",
        "freq = \"1D\"\n",
        "prediction_length = 24\n",
        "\n",
        "assert len(train_example['target']) + prediction_length == len(validation_example['target'])"
      ]
    },
    {
      "cell_type": "code",
      "execution_count": null,
      "metadata": {
        "id": "6WjdeupFQsth",
        "colab": {
          "base_uri": "https://localhost:8080/",
          "height": 268
        },
        "outputId": "5b2e5a32-21a6-489a-e642-dcade46c4238"
      },
      "outputs": [
        {
          "output_type": "display_data",
          "data": {
            "text/plain": [
              "<Figure size 432x288 with 1 Axes>"
            ],
            "image/png": "[encoded data removed]"
          },
          "metadata": {
            "needs_background": "light"
          }
        }
      ],
      "source": [
        "import matplotlib.pyplot as plt\n",
        "\n",
        "figure, axes = plt.subplots()\n",
        "axes.plot(train_example['target'], color=\"blue\") \n",
        "axes.plot(validation_example['target'], color=\"red\", alpha=0.5)\n",
        "\n",
        "plt.show()"
      ]
    },
    {
      "cell_type": "code",
      "execution_count": null,
      "metadata": {
        "id": "n39NHFX_Q_yq",
        "colab": {
          "base_uri": "https://localhost:8080/"
        },
        "outputId": "5a52a100-32ac-4a4e-b45f-76f831387673"
      },
      "outputs": [
        {
          "output_type": "stream",
          "name": "stdout",
          "text": [
            "37 2259 2283 235\n"
          ]
        }
      ],
      "source": [
        "train_dataset = dataset[\"train\"]\n",
        "test_dataset = dataset[\"test\"]\n",
        "validation_dataset = dataset['validation']\n",
        "\n",
        "print(len(train_dataset), len(train_dataset[0]['target']), len(validation_dataset[0]['target']), len(test_dataset[0]['target']))"
      ]
    },
    {
      "cell_type": "code",
      "execution_count": null,
      "metadata": {
        "id": "Ip_SfsrysRuX",
        "colab": {
          "base_uri": "https://localhost:8080/"
        },
        "outputId": "b1b8ef9d-c049-46a0-b08b-e310a0a34bbf"
      },
      "outputs": [
        {
          "output_type": "stream",
          "name": "stdout",
          "text": [
            "[1, 2, 3, 4, 5, 6, 7, 8, 13, 14, 15, 20, 21, 22, 27, 28, 29, 30, 31, 56, 84, 363, 364, 365, 727, 728, 729, 1091, 1092, 1093]\n"
          ]
        }
      ],
      "source": [
        "from gluonts.time_feature import get_lags_for_frequency\n",
        "\n",
        "lags_sequence = get_lags_for_frequency(freq)\n",
        "print(lags_sequence)\n"
      ]
    },
    {
      "cell_type": "code",
      "execution_count": null,
      "metadata": {
        "id": "NVk0suubscss",
        "colab": {
          "base_uri": "https://localhost:8080/"
        },
        "outputId": "6514ea4a-618d-4b16-bd4f-194644f0533d"
      },
      "outputs": [
        {
          "output_type": "stream",
          "name": "stdout",
          "text": [
            "[<function day_of_week at 0x7f151eb45280>, <function day_of_month at 0x7f151eb45dc0>, <function day_of_year at 0x7f151eb45ee0>]\n"
          ]
        }
      ],
      "source": [
        "from gluonts.time_feature import time_features_from_frequency_str\n",
        "\n",
        "time_features = time_features_from_frequency_str(freq)\n",
        "print(time_features)"
      ]
    },
    {
      "cell_type": "code",
      "execution_count": null,
      "metadata": {
        "id": "_ChF_bIWsnTJ"
      },
      "outputs": [],
      "source": [
        "from transformers import TimeSeriesTransformerConfig, TimeSeriesTransformerForPrediction\n",
        "\n",
        "config = TimeSeriesTransformerConfig(\n",
        "    prediction_length=prediction_length,\n",
        "    context_length=prediction_length*3, # context length\n",
        "    lags_sequence=lags_sequence,\n",
        "    num_time_features=len(time_features) + 1, # we'll add 3 time features (day of week, day of month, day of year)\n",
        "    num_static_categorical_features=1, # we have a single static categorical feature, namely time series ID\n",
        "    cardinality=[len(train_dataset)], # it has 1011 possible values\n",
        "    embedding_dimension=[10], # the model will learn an embedding of size 10 for each of the 1011 possible values\n",
        "    encoder_layers=4, \n",
        "    decoder_layers=4,\n",
        "    output_attentions=True,\n",
        ")\n",
        "model = TimeSeriesTransformerForPrediction(config)\n"
      ]
    },
    {
      "cell_type": "code",
      "execution_count": null,
      "metadata": {
        "id": "ILWWd7rkt1xI"
      },
      "outputs": [],
      "source": [
        "from gluonts.time_feature import time_features_from_frequency_str, TimeFeature, get_lags_for_frequency\n",
        "from gluonts.dataset.field_names import FieldName\n",
        "from gluonts.transform import (\n",
        "    AddAgeFeature,\n",
        "    AddObservedValuesIndicator,\n",
        "    AddTimeFeatures,\n",
        "    AsNumpyArray,\n",
        "    Chain,\n",
        "    ExpectedNumInstanceSampler,\n",
        "    InstanceSplitter,\n",
        "    RemoveFields,\n",
        "    SelectFields,\n",
        "    SetField,\n",
        "    TestSplitSampler,\n",
        "    Transformation,\n",
        "    ValidationSplitSampler,\n",
        "    VstackFeatures,\n",
        "    RenameFields,\n",
        ")\n"
      ]
    },
    {
      "cell_type": "code",
      "execution_count": null,
      "metadata": {
        "id": "qIHw3Zawt7O9"
      },
      "outputs": [],
      "source": [
        "from transformers import PretrainedConfig\n",
        "\n",
        "def create_transformation(freq: str, config: PretrainedConfig) -> Transformation:\n",
        "    remove_field_names = []\n",
        "    if config.num_static_real_features == 0:\n",
        "        remove_field_names.append(FieldName.FEAT_STATIC_REAL)\n",
        "    if config.num_dynamic_real_features == 0:\n",
        "        remove_field_names.append(FieldName.FEAT_DYNAMIC_REAL)\n",
        "\n",
        "    # a bit like torchvision.transforms.Compose\n",
        "    return Chain(\n",
        "        # step 1: remove static/dynamic fields if not specified\n",
        "        [RemoveFields(field_names=remove_field_names)]\n",
        "        # step 2: use static features if available, if not add dummy values\n",
        "        + (\n",
        "            [SetField(output_field=FieldName.FEAT_STATIC_CAT, value=[0])]\n",
        "            if not config.num_static_categorical_features > 0\n",
        "            else []\n",
        "        )\n",
        "        + (\n",
        "            [SetField(output_field=FieldName.FEAT_STATIC_REAL, value=[0.0])]\n",
        "            if not config.num_static_real_features > 0\n",
        "            else []\n",
        "        )\n",
        "        # step 3: convert the data to NumPy (potentially not needed)\n",
        "        + [\n",
        "            AsNumpyArray(\n",
        "                field=FieldName.FEAT_STATIC_CAT,\n",
        "                expected_ndim=1,\n",
        "                dtype=int,\n",
        "            ),\n",
        "            AsNumpyArray(\n",
        "                field=FieldName.FEAT_STATIC_REAL,\n",
        "                expected_ndim=1,\n",
        "            ),\n",
        "            AsNumpyArray(\n",
        "                field=FieldName.TARGET,\n",
        "                # in the following line, we add 1 for the time dimension\n",
        "                expected_ndim=1 if config.input_size==1 else 2,\n",
        "            ),\n",
        "            # step 4: handle the NaN's by filling in the target with zero\n",
        "            # and return the mask (which is in the observed values)\n",
        "            # true for observed values, false for nan's\n",
        "            # the decoder uses this mask (no loss is incurred for unobserved values)\n",
        "            # see loss_weights inside the xxxForPrediction model\n",
        "            AddObservedValuesIndicator(\n",
        "                target_field=FieldName.TARGET,\n",
        "                output_field=FieldName.OBSERVED_VALUES,\n",
        "            ),\n",
        "            # step 5: add temporal features based on freq of the dataset\n",
        "            # month of year in this case\n",
        "            # these serve as positional encodings\n",
        "            AddTimeFeatures(\n",
        "                start_field=FieldName.START,\n",
        "                target_field=FieldName.TARGET,\n",
        "                output_field=FieldName.FEAT_TIME,\n",
        "                time_features=time_features_from_frequency_str(freq),\n",
        "                pred_length=config.prediction_length,\n",
        "            ),\n",
        "            # step 6: add another temporal feature (just a single number)\n",
        "            # tells the model where in the life the value of the time series is\n",
        "            # sort of running counter\n",
        "            AddAgeFeature(\n",
        "                target_field=FieldName.TARGET,\n",
        "                output_field=FieldName.FEAT_AGE,\n",
        "                pred_length=config.prediction_length,\n",
        "                log_scale=True,\n",
        "            ),\n",
        "            # step 7: vertically stack all the temporal features\n",
        "            VstackFeatures(\n",
        "                output_field=FieldName.FEAT_TIME,\n",
        "                input_fields=[FieldName.FEAT_TIME, FieldName.FEAT_AGE]\n",
        "                + ([FieldName.FEAT_DYNAMIC_REAL] if config.num_dynamic_real_features > 0 else []),\n",
        "            ),\n",
        "            # step 8: rename to match HuggingFace names\n",
        "            RenameFields(\n",
        "                mapping={\n",
        "                    FieldName.FEAT_STATIC_CAT: \"static_categorical_features\",\n",
        "                    FieldName.FEAT_STATIC_REAL: \"static_real_features\",\n",
        "                    FieldName.FEAT_TIME: \"time_features\",\n",
        "                    FieldName.TARGET: \"values\",\n",
        "                    FieldName.OBSERVED_VALUES: \"observed_mask\",\n",
        "                }\n",
        "            ),\n",
        "        ]\n",
        "    )\n"
      ]
    },
    {
      "cell_type": "code",
      "execution_count": null,
      "metadata": {
        "id": "-mFCGR6nuXkW"
      },
      "outputs": [],
      "source": [
        "from gluonts.transform.sampler import InstanceSampler\n",
        "from typing import Optional\n",
        "\n",
        "def create_instance_splitter(config: PretrainedConfig, mode: str, train_sampler: Optional[InstanceSampler] = None,\n",
        "    validation_sampler: Optional[InstanceSampler] = None,) -> Transformation:\n",
        "    assert mode in [\"train\", \"validation\", \"test\"]\n",
        "\n",
        "    instance_sampler = {\n",
        "        \"train\": train_sampler or ExpectedNumInstanceSampler(\n",
        "            num_instances=1.0, min_future=config.prediction_length\n",
        "        ),\n",
        "        \"validation\":  validation_sampler or ValidationSplitSampler(\n",
        "            min_future=config.prediction_length\n",
        "        ),\n",
        "        \"test\": TestSplitSampler(),\n",
        "    }[mode]\n",
        "\n",
        "    return InstanceSplitter(\n",
        "        target_field=\"values\",\n",
        "        is_pad_field=FieldName.IS_PAD,\n",
        "        start_field=FieldName.START,\n",
        "        forecast_start_field=FieldName.FORECAST_START,\n",
        "        instance_sampler=instance_sampler,\n",
        "        past_length=config.context_length + max(config.lags_sequence),\n",
        "        future_length=config.prediction_length,\n",
        "        time_series_fields=[\n",
        "            \"time_features\",\n",
        "            \"observed_mask\",\n",
        "        ],\n",
        "    )\n"
      ]
    },
    {
      "cell_type": "code",
      "execution_count": null,
      "metadata": {
        "id": "CuN-7_-cuc0Y"
      },
      "outputs": [],
      "source": [
        "from gluonts.itertools import Cyclic, IterableSlice, PseudoShuffled\n",
        "from gluonts.torch.util import IterableDataset\n",
        "from torch.utils.data import DataLoader\n",
        "\n",
        "from typing import Iterable\n",
        "\n",
        "def create_train_dataloader(\n",
        "    config: PretrainedConfig,\n",
        "    freq,\n",
        "    data,\n",
        "    batch_size: int,\n",
        "    num_batches_per_epoch: int,\n",
        "    shuffle_buffer_length: Optional[int] = None,\n",
        "    **kwargs,\n",
        ") -> Iterable:\n",
        "    PREDICTION_INPUT_NAMES = [\n",
        "        \"static_categorical_features\",\n",
        "        \"static_real_features\",\n",
        "        \"past_time_features\",\n",
        "        \"past_values\",\n",
        "        \"past_observed_mask\",\n",
        "        \"future_time_features\",\n",
        "        ]\n",
        "\n",
        "    TRAINING_INPUT_NAMES = PREDICTION_INPUT_NAMES + [\n",
        "        \"future_values\",\n",
        "        \"future_observed_mask\",\n",
        "        ]\n",
        "    \n",
        "    transformation = create_transformation(freq, config)\n",
        "    transformed_data = transformation.apply(data, is_train=True)\n",
        "\n",
        "    # we initialize a Training instance\n",
        "    instance_splitter = create_instance_splitter(\n",
        "        config, \"train\"\n",
        "    ) + SelectFields(TRAINING_INPUT_NAMES)\n",
        "\n",
        "\n",
        "    # the instance splitter will sample a window of \n",
        "    # context length + lags + prediction length (from the 366 possible transformed time series)\n",
        "    # randomly from within the target time series and return an iterator.\n",
        "    training_instances = instance_splitter.apply(\n",
        "        Cyclic(transformed_data)\n",
        "        if shuffle_buffer_length is None\n",
        "        else PseudoShuffled(\n",
        "            Cyclic(transformed_data), \n",
        "            shuffle_buffer_length=shuffle_buffer_length,\n",
        "        )\n",
        "    )\n",
        "    # from the training instances iterator we now return a Dataloader which will \n",
        "    # continue to sample random windows for as long as it is called\n",
        "    # to return batch_size of the appropriate tensors ready for training!\n",
        "    return IterableSlice(\n",
        "        iter(\n",
        "            DataLoader(\n",
        "                IterableDataset(training_instances),\n",
        "                batch_size=batch_size,\n",
        "                **kwargs,\n",
        "            )\n",
        "        ),\n",
        "        num_batches_per_epoch,\n",
        "    )\n"
      ]
    },
    {
      "cell_type": "code",
      "execution_count": null,
      "metadata": {
        "id": "aEsj8tKBumMs"
      },
      "outputs": [],
      "source": [
        "def create_test_dataloader(\n",
        "    config: PretrainedConfig,\n",
        "    freq,\n",
        "    data,\n",
        "    batch_size: int,\n",
        "    **kwargs,\n",
        "):\n",
        "    PREDICTION_INPUT_NAMES = [\n",
        "        \"static_categorical_features\",\n",
        "        \"static_real_features\",\n",
        "        \"past_time_features\",\n",
        "        \"past_values\",\n",
        "        \"past_observed_mask\",\n",
        "        \"future_time_features\",\n",
        "        ]\n",
        "    \n",
        "    transformation = create_transformation(freq, config)\n",
        "    transformed_data = transformation.apply(data, is_train=False)\n",
        "    \n",
        "    # we create a Test Instance splitter which will sample the very last \n",
        "    # context window seen during training only for the encoder.\n",
        "    instance_splitter = create_instance_splitter(\n",
        "        config, \"test\"\n",
        "    ) + SelectFields(PREDICTION_INPUT_NAMES)\n",
        "    \n",
        "    # we apply the transformations in test mode\n",
        "    testing_instances = instance_splitter.apply(transformed_data, is_train=False)\n",
        "    \n",
        "    # This returns a Dataloader which will go over the dataset once.\n",
        "    return DataLoader(IterableDataset(testing_instances), batch_size=batch_size, **kwargs)\n"
      ]
    },
    {
      "cell_type": "code",
      "execution_count": null,
      "metadata": {
        "id": "dRx6aJtvutD_"
      },
      "outputs": [],
      "source": [
        "train_dataloader = create_train_dataloader(\n",
        "    config=config, \n",
        "    freq=freq, \n",
        "    data=train_dataset, \n",
        "    batch_size=256, \n",
        "    num_batches_per_epoch=100,\n",
        ")\n",
        "\n",
        "test_dataloader = create_test_dataloader(\n",
        "    config=config, \n",
        "    freq=freq, \n",
        "    data=test_dataset,\n",
        "    batch_size=64,\n",
        ")\n"
      ]
    },
    {
      "cell_type": "code",
      "execution_count": null,
      "metadata": {
        "id": "vlAZGMrku3Qa"
      },
      "outputs": [],
      "source": [
        "batch = next(iter(train_dataloader))\n",
        "for k,v in batch.items():\n",
        "  print(k,v, v.type())"
      ]
    },
    {
      "cell_type": "code",
      "execution_count": null,
      "metadata": {
        "id": "SYgy4j3rGeXZ"
      },
      "outputs": [],
      "source": [
        "# perform forward pass\n",
        "outputs = model(\n",
        "    past_values=batch[\"past_values\"],\n",
        "    past_time_features=batch[\"past_time_features\"],\n",
        "    past_observed_mask=batch[\"past_observed_mask\"],\n",
        "    static_categorical_features=batch[\"static_categorical_features\"],\n",
        "    static_real_features=batch[\"static_real_features\"],\n",
        "    future_values=batch[\"future_values\"],\n",
        "    future_time_features=batch[\"future_time_features\"],\n",
        "    future_observed_mask=batch[\"future_observed_mask\"],\n",
        "    output_hidden_states=True\n",
        ")\n"
      ]
    },
    {
      "cell_type": "code",
      "execution_count": null,
      "metadata": {
        "id": "aot03-jUGncx"
      },
      "outputs": [],
      "source": [
        "print(\"Loss:\", outputs['encoder_attentions'])"
      ]
    },
    {
      "cell_type": "code",
      "execution_count": null,
      "metadata": {
        "id": "fHCdPnqKGsFX"
      },
      "outputs": [],
      "source": [
        "import os\n",
        "from accelerate import Accelerator\n",
        "from torch.optim import Adam\n",
        "\n",
        "accelerator = Accelerator()\n",
        "device = accelerator.device\n",
        "\n",
        "model.to(device)\n",
        "optimizer = Adam(model.parameters(), lr=1e-6)\n",
        " \n",
        "model, optimizer, train_dataloader = accelerator.prepare(\n",
        "    model, optimizer, train_dataloader, \n",
        ")\n",
        "\n",
        "if os.path.exists(model_save_path) and \\\n",
        "      load_from_pretrained:\n",
        "    model.from_pretrained(model_save_path)\n",
        "else:\n",
        "    skip_training = False\n",
        "\n",
        "if skip_training:\n",
        "  outputs = model(\n",
        "    past_values=batch[\"past_values\"],\n",
        "    past_time_features=batch[\"past_time_features\"],\n",
        "    past_observed_mask=batch[\"past_observed_mask\"],\n",
        "    static_categorical_features=batch[\"static_categorical_features\"],\n",
        "    static_real_features=batch[\"static_real_features\"],\n",
        "    future_values=batch[\"future_values\"],\n",
        "    future_time_features=batch[\"future_time_features\"],\n",
        "    future_observed_mask=batch[\"future_observed_mask\"],\n",
        "    output_hidden_states=True\n",
        "  )\n",
        "  print(\"Loss:\", outputs.loss.item())\n",
        "\n",
        "else:\n",
        "    losses = []\n",
        "    for epoch in range(epoches):\n",
        "        model.train()\n",
        "        print(\"Epoch \", epoch)\n",
        "        for batch in train_dataloader:\n",
        "            optimizer.zero_grad()\n",
        "            outputs = model(\n",
        "                static_categorical_features=batch[\"static_categorical_features\"].to(device),\n",
        "                static_real_features=batch[\"static_real_features\"].to(device),\n",
        "                past_time_features=batch[\"past_time_features\"].to(device),\n",
        "                past_values=batch[\"past_values\"].to(device),\n",
        "                future_time_features=batch[\"future_time_features\"].to(device),\n",
        "                future_values=batch[\"future_values\"].to(device),\n",
        "                past_observed_mask=batch[\"past_observed_mask\"].to(device),\n",
        "                future_observed_mask=batch[\"future_observed_mask\"].to(device),\n",
        "            )\n",
        "            loss = outputs.loss\n",
        "\n",
        "            # Backpropagation\n",
        "            accelerator.backward(loss)\n",
        "            optimizer.step()\n",
        "            losses.append(loss.item())\n",
        "            print(loss)\n",
        "\n",
        "        plt.plot(losses)\n",
        "        plt.show()\n",
        "\n",
        "    model.save_pretrained(model_save_path)\n"
      ]
    },
    {
      "cell_type": "code",
      "execution_count": null,
      "metadata": {
        "id": "wWdVGhu_JZEO"
      },
      "outputs": [],
      "source": [
        "model.eval()\n",
        "\n",
        "forecasts = []\n",
        "i = 0\n",
        "for batch in test_dataloader:\n",
        "    outputs = model.generate(\n",
        "        static_categorical_features=batch[\"static_categorical_features\"].to(device),\n",
        "        static_real_features=batch[\"static_real_features\"].to(device),\n",
        "        past_time_features=batch[\"past_time_features\"].to(device),\n",
        "        past_values=batch[\"past_values\"].to(device),\n",
        "        future_time_features=batch[\"future_time_features\"].to(device),\n",
        "        past_observed_mask=batch[\"past_observed_mask\"].to(device),\n",
        "    )\n",
        "    forecasts.append(outputs.sequences.cpu().numpy())"
      ]
    },
    {
      "cell_type": "code",
      "execution_count": null,
      "metadata": {
        "id": "aVJdRTpfM2Nh"
      },
      "outputs": [],
      "source": [
        "import numpy as np\n",
        "print(len(forecasts), forecasts[0].shape)\n",
        "stacked_forecasts = np.vstack(forecasts)\n",
        "print(stacked_forecasts.shape)"
      ]
    },
    {
      "cell_type": "code",
      "execution_count": null,
      "metadata": {
        "id": "ePP2tEZMM3hY"
      },
      "outputs": [],
      "source": [
        "import numpy as np\n",
        "from evaluate import load\n",
        "from gluonts.time_feature import get_seasonality\n",
        "\n",
        "mase_metric = load(\"evaluate-metric/mase\")\n",
        "smape_metric = load(\"evaluate-metric/smape\")\n",
        "\n",
        "forecast_median = np.median(stacked_forecasts, 1)\n",
        "print(len(forecast_median[0]))\n",
        "mase_metrics = []\n",
        "smape_metrics = []\n",
        "for item_id, ts in enumerate(test_dataset):\n",
        "    try:\n",
        "      training_data = ts[\"target\"][:-prediction_length]\n",
        "      ground_truth = ts[\"target\"][-prediction_length:]\n",
        "      mase = mase_metric.compute(\n",
        "          predictions=forecast_median[item_id], \n",
        "          references=np.array(ground_truth), \n",
        "          training=np.array(training_data), \n",
        "          periodicity=get_seasonality(freq))\n",
        "      mase_metrics.append(mase[\"mase\"])\n",
        "      \n",
        "      smape = smape_metric.compute(\n",
        "          predictions=forecast_median[item_id], \n",
        "          references=np.array(ground_truth), \n",
        "      )\n",
        "      smape_metrics.append(smape[\"smape\"])\n",
        "    except:\n",
        "      pass"
      ]
    },
    {
      "cell_type": "code",
      "source": [
        "from google.colab import drive\n",
        "drive.mount('/content/drive')"
      ],
      "metadata": {
        "id": "snYp7YHxO5i_"
      },
      "execution_count": null,
      "outputs": []
    },
    {
      "cell_type": "code",
      "execution_count": null,
      "metadata": {
        "id": "DS_XVW22M85n"
      },
      "outputs": [],
      "source": [
        "\n",
        "print(f\"MASE: {np.mean(mase_metrics)}\")\n",
        "\n",
        "print(f\"sMAPE: {np.mean(smape_metrics)}\")\n"
      ]
    },
    {
      "cell_type": "code",
      "execution_count": null,
      "metadata": {
        "id": "hlPe8NFBND_F"
      },
      "outputs": [],
      "source": [
        "plt.scatter(mase_metrics, smape_metrics, alpha=0.3)\n",
        "plt.xlabel(\"MASE\")\n",
        "plt.ylabel(\"sMAPE\")\n",
        "plt.show()"
      ]
    },
    {
      "cell_type": "code",
      "execution_count": null,
      "metadata": {
        "id": "d8nH50mPNI2_"
      },
      "outputs": [],
      "source": [
        "import matplotlib.dates as mdates\n",
        "\n",
        "def plot(ts_index):\n",
        "    ticker = test_dataset[ts_index][\"item_id\"].split('_')[0]\n",
        "    fig, ax = plt.subplots()\n",
        "\n",
        "    index = pd.period_range(\n",
        "        start=test_dataset[ts_index][FieldName.START],\n",
        "        periods=len(test_dataset[ts_index][FieldName.TARGET]),\n",
        "        freq=freq,\n",
        "    ).to_timestamp()\n",
        "    myFmt = mdates.DateFormatter('%b %d')\n",
        "    ax.xaxis.set_major_formatter(myFmt)\n",
        "    plt.suptitle(ticker,fontsize=24, y=1)\n",
        "    plt.xlabel(\"Date\")\n",
        "    plt.ylabel(\"Price\")\n",
        "    plt.grid()\n",
        "    ax.plot(\n",
        "        index[-2*prediction_length:], \n",
        "        test_dataset[ts_index][\"target\"][-2*prediction_length:],\n",
        "        label=\"actual\",\n",
        "    )\n",
        "\n",
        "    plt.plot(\n",
        "        index[-prediction_length:], \n",
        "        np.median(stacked_forecasts[ts_index], axis=0),\n",
        "        label=\"median\",\n",
        "    )\n",
        "    \n",
        "    plt.fill_between(\n",
        "        index[-prediction_length:],\n",
        "        stacked_forecasts[ts_index].mean(0) - stacked_forecasts[ts_index].std(axis=0), \n",
        "        stacked_forecasts[ts_index].mean(0) + stacked_forecasts[ts_index].std(axis=0), \n",
        "        alpha=0.3, \n",
        "        interpolate=True,\n",
        "        label=\"+/- 1-std\",\n",
        "    )\n",
        "    plt.legend()\n",
        "    plt.show()\n"
      ]
    },
    {
      "cell_type": "code",
      "execution_count": null,
      "metadata": {
        "id": "Mx1-z52sj7b0"
      },
      "outputs": [],
      "source": [
        "for i in range(10):\n",
        "  plot(i)"
      ]
    }
  ],
  "metadata": {
    "colab": {
      "provenance": [],
      "mount_file_id": "1QqoiLYdFijnNSHQEruI6cdzJtOwQAbG3",
      "authorship_tag": "ABX9TyOTzINNjx83ESmDtAMfA1Ak",
      "include_colab_link": true
    },
    "kernelspec": {
      "display_name": "Python 3",
      "name": "python3"
    },
    "language_info": {
      "name": "python"
    }
  },
  "nbformat": 4,
  "nbformat_minor": 0
}